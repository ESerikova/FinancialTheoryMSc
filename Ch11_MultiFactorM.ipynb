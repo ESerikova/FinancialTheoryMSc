{
 "cells": [
  {
   "cell_type": "markdown",
   "metadata": {},
   "source": [
    "# Multi-Factor Models\n",
    "\n",
    "This first part of this notebook summarizes a simple economic model that leads to a multi-factor representation of the expected returns. The second part tests a multi-factor model by OLS."
   ]
  },
  {
   "cell_type": "markdown",
   "metadata": {},
   "source": [
    "## Load Packages and Extra Functions"
   ]
  },
  {
   "cell_type": "code",
   "execution_count": 1,
   "metadata": {},
   "outputs": [
    {
     "data": {
      "text/plain": [
       "OlsGMFn"
      ]
     },
     "execution_count": 1,
     "metadata": {},
     "output_type": "execute_result"
    }
   ],
   "source": [
    "using Dates, DelimitedFiles, Statistics, LinearAlgebra\n",
    "\n",
    "include(\"jlFiles/printmat.jl\")\n",
    "include(\"jlFiles/printTable.jl\")\n",
    "include(\"jlFiles/OlsGMFn.jl\")"
   ]
  },
  {
   "cell_type": "code",
   "execution_count": 2,
   "metadata": {},
   "outputs": [],
   "source": [
    "using Plots\n",
    "\n",
    "#pyplot(size=(600,400))\n",
    "gr(size=(480,320))\n",
    "default(fmt = :svg)"
   ]
  },
  {
   "cell_type": "markdown",
   "metadata": {},
   "source": [
    "# Portfolio Choice with Background Risk"
   ]
  },
  {
   "cell_type": "markdown",
   "metadata": {},
   "source": [
    "Recall: the investor maximizes\n",
    "$\\text{E}R_{p}-\\frac{k}{2}\\text{Var}(R_{p})$, where \n",
    "\n",
    "$R_{p}=v^{\\prime}R+\\phi R_{H}+(1-\\mathbf{1}^{\\prime}v-\\phi)R_{f}$\n",
    "\n",
    "Notice that $\\text{E}R_{p} = u'[\\mu^e;\\mu_H^e]$, where $u = [v;\\phi]$ and where $\\mu^e$ is the vector of excess returns on the risky assets and $\\mu_H^e$ is the excess return on the background risk. \n",
    "\n",
    "Also, $\\text{Var}(R_{p}) = u'\\Omega u$ where \n",
    "\n",
    "$\n",
    "\\Omega=\\begin{bmatrix}\n",
    "\\Sigma & S_{H}\\\\\n",
    "S_{H}^{\\prime} & \\sigma_{HH}\n",
    "\\end{bmatrix}\n",
    "$,\n",
    "\n",
    "where $S_{H}$ is a vector of covariances of the risky assets with the background risk,\n",
    "and $\\sigma_{HH}$ is the variance of the background risk."
   ]
  },
  {
   "cell_type": "code",
   "execution_count": 3,
   "metadata": {},
   "outputs": [
    {
     "data": {
      "text/plain": [
       "PortFOpt (generic function with 1 method)"
      ]
     },
     "execution_count": 3,
     "metadata": {},
     "output_type": "execute_result"
    }
   ],
   "source": [
    "function EU(v,ϕ,k,μᵉ,Σ,SH,σHH=0.01,μᵉH=0.02,Rf=0)  #expected utility for the case with background risk\n",
    "    u     = [v;ϕ]\n",
    "    μᵉAll = [μᵉ;μᵉH]\n",
    "    ERp   = u'μᵉAll + Rf\n",
    "    Ω     = [[Σ SH];[SH' σHH]]\n",
    "    VarRp = u'Ω*u\n",
    "    EUtil = ERp - k/2*VarRp\n",
    "    return EUtil\n",
    "end\n",
    "\n",
    "function PortFOpt(ϕ,k,μᵉ,Σ,SH)  #optimal weight on risky asset, ϕ in background, 1-v-ϕ in Rf\n",
    "    vopt  = inv(Σ)*(μᵉ/k-ϕ*SH)\n",
    "    wopt  = vopt/(1-ϕ)          #weight on risky in financial subportfolio\n",
    "    return vopt, wopt\n",
    "end"
   ]
  },
  {
   "cell_type": "markdown",
   "metadata": {},
   "source": [
    "## One Risky Asset"
   ]
  },
  {
   "cell_type": "code",
   "execution_count": 4,
   "metadata": {},
   "outputs": [
    {
     "name": "stdout",
     "output_type": "stream",
     "text": [
      "\n",
      "\u001b[34m\u001b[1mOptimal weight on (a single) risky asset in the three cases:\u001b[22m\u001b[39m\n",
      "                 in total portf  in financial portf\n",
      "ϕ=0                       0.406               0.406\n",
      "ϕ=0.5,σiH=0               0.406               0.812\n",
      "ϕ=0.5,σiH>0               0.211               0.422\n",
      "\n"
     ]
    }
   ],
   "source": [
    "Σ    = 0.08^2                 #covariance (matrix) of risky assets, here only 1\n",
    "SH_A = 0                      #covariance(s) of risky with background, case A  \n",
    "SH_C = 0.0025                 #case C\n",
    "(μᵉ,k,Rf) = (0.065,25,0.03)\n",
    "\n",
    "v = range(-0.5,stop=1,length=51)\n",
    "L = length(v)\n",
    "\n",
    "EUM = fill(NaN,(L,3))                   #try different v values (weight on risky investable asset)\n",
    "for i = 1:L\n",
    "    EUM[i,1] = EU(v[i],0,k,μᵉ,Σ,SH_A)\n",
    "    EUM[i,2] = EU(v[i],0.5,k,μᵉ,Σ,SH_A)\n",
    "    EUM[i,3] = EU(v[i],0.5,k,μᵉ,Σ,SH_C)\n",
    "end\n",
    "\n",
    "(vA,wA) = PortFOpt(0,k,μᵉ,Σ,SH_A)\n",
    "(vB,wB) = PortFOpt(0.5,k,μᵉ,Σ,SH_A)\n",
    "(vC,wC) = PortFOpt(0.5,k,μᵉ,Σ,SH_C)\n",
    "\n",
    "printblue(\"\\nOptimal weight on (a single) risky asset in the three cases:\")\n",
    "xx = [vA wA;vB wB;vC wC]\n",
    "colNames = [\"in total portf\",\"in financial portf\"]\n",
    "rowNames = [\"ϕ=0\",\"ϕ=0.5,σiH=0\",\"ϕ=0.5,σiH>0\"]\n",
    "printTable(xx,colNames,rowNames,width=20)"
   ]
  },
  {
   "cell_type": "code",
   "execution_count": 5,
   "metadata": {
    "scrolled": true
   },
   "outputs": [
    {
     "data": {
      "image/svg+xml": [
       "<?xml version=\"1.0\" encoding=\"utf-8\"?>\n",
       "<svg xmlns=\"http://www.w3.org/2000/svg\" xmlns:xlink=\"http://www.w3.org/1999/xlink\" width=\"480\" height=\"320\" viewBox=\"0 0 1920 1280\">\n",
       "<defs>\n",
       "  <clipPath id=\"clip5500\">\n",
       "    <rect x=\"0\" y=\"0\" width=\"1920\" height=\"1280\"/>\n",
       "  </clipPath>\n",
       "</defs>\n",
       "<path clip-path=\"url(#clip5500)\" d=\"\n",
       "M0 1280 L1920 1280 L1920 0 L0 0  Z\n",
       "  \" fill=\"#ffffff\" fill-rule=\"evenodd\" fill-opacity=\"1\"/>\n",
       "<defs>\n",
       "  <clipPath id=\"clip5501\">\n",
       "    <rect x=\"384\" y=\"0\" width=\"1345\" height=\"1280\"/>\n",
       "  </clipPath>\n",
       "</defs>\n",
       "<path clip-path=\"url(#clip5500)\" d=\"\n",
       "M208.77 1105.62 L1872.76 1105.62 L1872.76 121.675 L208.77 121.675  Z\n",
       "  \" fill=\"#ffffff\" fill-rule=\"evenodd\" fill-opacity=\"1\"/>\n",
       "<defs>\n",
       "  <clipPath id=\"clip5502\">\n",
       "    <rect x=\"208\" y=\"121\" width=\"1665\" height=\"985\"/>\n",
       "  </clipPath>\n",
       "</defs>\n",
       "<polyline clip-path=\"url(#clip5502)\" style=\"stroke:#000000; stroke-width:2; stroke-opacity:0.1; fill:none\" points=\"\n",
       "  465.171,1105.62 465.171,121.675 \n",
       "  \"/>\n",
       "<polyline clip-path=\"url(#clip5502)\" style=\"stroke:#000000; stroke-width:2; stroke-opacity:0.1; fill:none\" points=\"\n",
       "  779.13,1105.62 779.13,121.675 \n",
       "  \"/>\n",
       "<polyline clip-path=\"url(#clip5502)\" style=\"stroke:#000000; stroke-width:2; stroke-opacity:0.1; fill:none\" points=\"\n",
       "  1093.09,1105.62 1093.09,121.675 \n",
       "  \"/>\n",
       "<polyline clip-path=\"url(#clip5502)\" style=\"stroke:#000000; stroke-width:2; stroke-opacity:0.1; fill:none\" points=\"\n",
       "  1407.05,1105.62 1407.05,121.675 \n",
       "  \"/>\n",
       "<polyline clip-path=\"url(#clip5502)\" style=\"stroke:#000000; stroke-width:2; stroke-opacity:0.1; fill:none\" points=\"\n",
       "  1721.01,1105.62 1721.01,121.675 \n",
       "  \"/>\n",
       "<polyline clip-path=\"url(#clip5502)\" style=\"stroke:#000000; stroke-width:2; stroke-opacity:0.1; fill:none\" points=\"\n",
       "  208.77,930.981 1872.76,930.981 \n",
       "  \"/>\n",
       "<polyline clip-path=\"url(#clip5502)\" style=\"stroke:#000000; stroke-width:2; stroke-opacity:0.1; fill:none\" points=\"\n",
       "  208.77,717.468 1872.76,717.468 \n",
       "  \"/>\n",
       "<polyline clip-path=\"url(#clip5502)\" style=\"stroke:#000000; stroke-width:2; stroke-opacity:0.1; fill:none\" points=\"\n",
       "  208.77,503.954 1872.76,503.954 \n",
       "  \"/>\n",
       "<polyline clip-path=\"url(#clip5502)\" style=\"stroke:#000000; stroke-width:2; stroke-opacity:0.1; fill:none\" points=\"\n",
       "  208.77,290.441 1872.76,290.441 \n",
       "  \"/>\n",
       "<polyline clip-path=\"url(#clip5500)\" style=\"stroke:#000000; stroke-width:4; stroke-opacity:1; fill:none\" points=\"\n",
       "  208.77,1105.62 1872.76,1105.62 \n",
       "  \"/>\n",
       "<polyline clip-path=\"url(#clip5500)\" style=\"stroke:#000000; stroke-width:4; stroke-opacity:1; fill:none\" points=\"\n",
       "  208.77,1105.62 208.77,121.675 \n",
       "  \"/>\n",
       "<polyline clip-path=\"url(#clip5500)\" style=\"stroke:#000000; stroke-width:4; stroke-opacity:1; fill:none\" points=\"\n",
       "  465.171,1105.62 465.171,1090.86 \n",
       "  \"/>\n",
       "<polyline clip-path=\"url(#clip5500)\" style=\"stroke:#000000; stroke-width:4; stroke-opacity:1; fill:none\" points=\"\n",
       "  779.13,1105.62 779.13,1090.86 \n",
       "  \"/>\n",
       "<polyline clip-path=\"url(#clip5500)\" style=\"stroke:#000000; stroke-width:4; stroke-opacity:1; fill:none\" points=\"\n",
       "  1093.09,1105.62 1093.09,1090.86 \n",
       "  \"/>\n",
       "<polyline clip-path=\"url(#clip5500)\" style=\"stroke:#000000; stroke-width:4; stroke-opacity:1; fill:none\" points=\"\n",
       "  1407.05,1105.62 1407.05,1090.86 \n",
       "  \"/>\n",
       "<polyline clip-path=\"url(#clip5500)\" style=\"stroke:#000000; stroke-width:4; stroke-opacity:1; fill:none\" points=\"\n",
       "  1721.01,1105.62 1721.01,1090.86 \n",
       "  \"/>\n",
       "<polyline clip-path=\"url(#clip5500)\" style=\"stroke:#000000; stroke-width:4; stroke-opacity:1; fill:none\" points=\"\n",
       "  208.77,930.981 233.73,930.981 \n",
       "  \"/>\n",
       "<polyline clip-path=\"url(#clip5500)\" style=\"stroke:#000000; stroke-width:4; stroke-opacity:1; fill:none\" points=\"\n",
       "  208.77,717.468 233.73,717.468 \n",
       "  \"/>\n",
       "<polyline clip-path=\"url(#clip5500)\" style=\"stroke:#000000; stroke-width:4; stroke-opacity:1; fill:none\" points=\"\n",
       "  208.77,503.954 233.73,503.954 \n",
       "  \"/>\n",
       "<polyline clip-path=\"url(#clip5500)\" style=\"stroke:#000000; stroke-width:4; stroke-opacity:1; fill:none\" points=\"\n",
       "  208.77,290.441 233.73,290.441 \n",
       "  \"/>\n",
       "<g clip-path=\"url(#clip5500)\">\n",
       "<text style=\"fill:#000000; fill-opacity:1; font-family:Arial,Helvetica Neue,Helvetica,sans-serif; font-size:48px; text-anchor:middle;\" transform=\"rotate(0, 465.171, 1157.22)\" x=\"465.171\" y=\"1157.22\">-0.3</text>\n",
       "</g>\n",
       "<g clip-path=\"url(#clip5500)\">\n",
       "<text style=\"fill:#000000; fill-opacity:1; font-family:Arial,Helvetica Neue,Helvetica,sans-serif; font-size:48px; text-anchor:middle;\" transform=\"rotate(0, 779.13, 1157.22)\" x=\"779.13\" y=\"1157.22\">0.0</text>\n",
       "</g>\n",
       "<g clip-path=\"url(#clip5500)\">\n",
       "<text style=\"fill:#000000; fill-opacity:1; font-family:Arial,Helvetica Neue,Helvetica,sans-serif; font-size:48px; text-anchor:middle;\" transform=\"rotate(0, 1093.09, 1157.22)\" x=\"1093.09\" y=\"1157.22\">0.3</text>\n",
       "</g>\n",
       "<g clip-path=\"url(#clip5500)\">\n",
       "<text style=\"fill:#000000; fill-opacity:1; font-family:Arial,Helvetica Neue,Helvetica,sans-serif; font-size:48px; text-anchor:middle;\" transform=\"rotate(0, 1407.05, 1157.22)\" x=\"1407.05\" y=\"1157.22\">0.6</text>\n",
       "</g>\n",
       "<g clip-path=\"url(#clip5500)\">\n",
       "<text style=\"fill:#000000; fill-opacity:1; font-family:Arial,Helvetica Neue,Helvetica,sans-serif; font-size:48px; text-anchor:middle;\" transform=\"rotate(0, 1721.01, 1157.22)\" x=\"1721.01\" y=\"1157.22\">0.9</text>\n",
       "</g>\n",
       "<g clip-path=\"url(#clip5500)\">\n",
       "<text style=\"fill:#000000; fill-opacity:1; font-family:Arial,Helvetica Neue,Helvetica,sans-serif; font-size:48px; text-anchor:end;\" transform=\"rotate(0, 189.57, 948.481)\" x=\"189.57\" y=\"948.481\">-0.06</text>\n",
       "</g>\n",
       "<g clip-path=\"url(#clip5500)\">\n",
       "<text style=\"fill:#000000; fill-opacity:1; font-family:Arial,Helvetica Neue,Helvetica,sans-serif; font-size:48px; text-anchor:end;\" transform=\"rotate(0, 189.57, 734.968)\" x=\"189.57\" y=\"734.968\">-0.04</text>\n",
       "</g>\n",
       "<g clip-path=\"url(#clip5500)\">\n",
       "<text style=\"fill:#000000; fill-opacity:1; font-family:Arial,Helvetica Neue,Helvetica,sans-serif; font-size:48px; text-anchor:end;\" transform=\"rotate(0, 189.57, 521.454)\" x=\"189.57\" y=\"521.454\">-0.02</text>\n",
       "</g>\n",
       "<g clip-path=\"url(#clip5500)\">\n",
       "<text style=\"fill:#000000; fill-opacity:1; font-family:Arial,Helvetica Neue,Helvetica,sans-serif; font-size:48px; text-anchor:end;\" transform=\"rotate(0, 189.57, 307.941)\" x=\"189.57\" y=\"307.941\">0.00</text>\n",
       "</g>\n",
       "<g clip-path=\"url(#clip5500)\">\n",
       "<text style=\"fill:#000000; fill-opacity:1; font-family:Arial,Helvetica Neue,Helvetica,sans-serif; font-size:84px; text-anchor:middle;\" transform=\"rotate(0, 1040.76, 73.2)\" x=\"1040.76\" y=\"73.2\">Expected utility</text>\n",
       "</g>\n",
       "<g clip-path=\"url(#clip5500)\">\n",
       "<text style=\"fill:#000000; fill-opacity:1; font-family:Arial,Helvetica Neue,Helvetica,sans-serif; font-size:66px; text-anchor:middle;\" transform=\"rotate(0, 1040.76, 1234.68)\" x=\"1040.76\" y=\"1234.68\">v, weight on risky asset</text>\n",
       "</g>\n",
       "<polyline clip-path=\"url(#clip5502)\" style=\"stroke:#ff0000; stroke-width:4; stroke-opacity:1; fill:none\" points=\"\n",
       "  255.864,850.913 287.26,805.243 318.656,761.11 350.052,718.514 381.448,677.455 412.844,637.934 444.24,599.95 475.636,563.503 507.032,528.594 538.428,495.222 \n",
       "  569.824,463.387 601.22,433.089 632.616,404.329 664.012,377.106 695.408,351.421 726.804,327.272 758.2,304.661 789.596,283.588 820.991,264.051 852.387,246.052 \n",
       "  883.783,229.59 915.179,214.665 946.575,201.278 977.971,189.428 1009.37,179.116 1040.76,170.34 1072.16,163.102 1103.56,157.401 1134.95,153.238 1166.35,150.612 \n",
       "  1197.74,149.523 1229.14,149.971 1260.53,151.957 1291.93,155.48 1323.33,160.54 1354.72,167.137 1386.12,175.272 1417.51,184.944 1448.91,196.154 1480.31,208.901 \n",
       "  1511.7,223.185 1543.1,239.006 1574.49,256.365 1605.89,275.261 1637.29,295.694 1668.68,317.664 1700.08,341.172 1731.47,366.217 1762.87,392.8 1794.27,420.919 \n",
       "  1825.66,450.576 \n",
       "  \"/>\n",
       "<polyline clip-path=\"url(#clip5502)\" style=\"stroke:#0000ff; stroke-width:8; stroke-opacity:1; fill:none\" stroke-dasharray=\"32, 20\" points=\"\n",
       "  255.864,1077.77 287.26,1032.1 318.656,987.968 350.052,945.372 381.448,904.313 412.844,864.792 444.24,826.808 475.636,790.361 507.032,755.452 538.428,722.08 \n",
       "  569.824,690.245 601.22,659.947 632.616,631.187 664.012,603.964 695.408,578.278 726.804,554.13 758.2,531.519 789.596,510.445 820.991,490.909 852.387,472.91 \n",
       "  883.783,456.448 915.179,441.523 946.575,428.136 977.971,416.286 1009.37,405.973 1040.76,397.198 1072.16,389.96 1103.56,384.259 1134.95,380.095 1166.35,377.469 \n",
       "  1197.74,376.38 1229.14,376.829 1260.53,378.814 1291.93,382.337 1323.33,387.398 1354.72,393.995 1386.12,402.13 1417.51,411.802 1448.91,423.012 1480.31,435.758 \n",
       "  1511.7,450.042 1543.1,465.864 1574.49,483.222 1605.89,502.118 1637.29,522.551 1668.68,544.522 1700.08,568.03 1731.47,593.075 1762.87,619.657 1794.27,647.777 \n",
       "  1825.66,677.434 \n",
       "  \"/>\n",
       "<polyline clip-path=\"url(#clip5502)\" style=\"stroke:#008000; stroke-width:8; stroke-opacity:1; fill:none\" stroke-dasharray=\"4, 8\" points=\"\n",
       "  255.864,910.964 287.26,875.302 318.656,841.177 350.052,808.59 381.448,777.54 412.844,748.027 444.24,720.051 475.636,693.613 507.032,668.712 538.428,645.348 \n",
       "  569.824,623.522 601.22,603.233 632.616,584.481 664.012,567.266 695.408,551.589 726.804,537.449 758.2,524.847 789.596,513.781 820.991,504.253 852.387,496.263 \n",
       "  883.783,489.809 915.179,484.893 946.575,481.514 977.971,479.673 1009.37,479.368 1040.76,480.601 1072.16,483.372 1103.56,487.679 1134.95,493.524 1166.35,500.907 \n",
       "  1197.74,509.826 1229.14,520.283 1260.53,532.277 1291.93,545.808 1323.33,560.877 1354.72,577.483 1386.12,595.626 1417.51,615.307 1448.91,636.525 1480.31,659.28 \n",
       "  1511.7,683.572 1543.1,709.402 1574.49,736.769 1605.89,765.674 1637.29,796.115 1668.68,828.094 1700.08,861.61 1731.47,896.664 1762.87,933.255 1794.27,971.383 \n",
       "  1825.66,1011.05 \n",
       "  \"/>\n",
       "<path clip-path=\"url(#clip5500)\" d=\"\n",
       "M541.166 990.419 L1161.22 990.419 L1161.22 748.499 L541.166 748.499  Z\n",
       "  \" fill=\"#ffffff\" fill-rule=\"evenodd\" fill-opacity=\"1\"/>\n",
       "<polyline clip-path=\"url(#clip5500)\" style=\"stroke:#000000; stroke-width:4; stroke-opacity:1; fill:none\" points=\"\n",
       "  541.166,990.419 1161.22,990.419 1161.22,748.499 541.166,748.499 541.166,990.419 \n",
       "  \"/>\n",
       "<polyline clip-path=\"url(#clip5500)\" style=\"stroke:#ff0000; stroke-width:4; stroke-opacity:1; fill:none\" points=\"\n",
       "  560.366,808.979 675.566,808.979 \n",
       "  \"/>\n",
       "<g clip-path=\"url(#clip5500)\">\n",
       "<text style=\"fill:#000000; fill-opacity:1; font-family:Arial,Helvetica Neue,Helvetica,sans-serif; font-size:48px; text-anchor:start;\" transform=\"rotate(0, 694.766, 826.479)\" x=\"694.766\" y=\"826.479\">phi=0</text>\n",
       "</g>\n",
       "<polyline clip-path=\"url(#clip5500)\" style=\"stroke:#0000ff; stroke-width:8; stroke-opacity:1; fill:none\" stroke-dasharray=\"32, 20\" points=\"\n",
       "  560.366,869.459 675.566,869.459 \n",
       "  \"/>\n",
       "<g clip-path=\"url(#clip5500)\">\n",
       "<text style=\"fill:#000000; fill-opacity:1; font-family:Arial,Helvetica Neue,Helvetica,sans-serif; font-size:48px; text-anchor:start;\" transform=\"rotate(0, 694.766, 886.959)\" x=\"694.766\" y=\"886.959\">phi=0.5, sigmaiH=0 </text>\n",
       "</g>\n",
       "<polyline clip-path=\"url(#clip5500)\" style=\"stroke:#008000; stroke-width:8; stroke-opacity:1; fill:none\" stroke-dasharray=\"4, 8\" points=\"\n",
       "  560.366,929.939 675.566,929.939 \n",
       "  \"/>\n",
       "<g clip-path=\"url(#clip5500)\">\n",
       "<text style=\"fill:#000000; fill-opacity:1; font-family:Arial,Helvetica Neue,Helvetica,sans-serif; font-size:48px; text-anchor:start;\" transform=\"rotate(0, 694.766, 947.439)\" x=\"694.766\" y=\"947.439\">phi=0.5, sigmaiH&gt;0</text>\n",
       "</g>\n",
       "</svg>\n"
      ]
     },
     "execution_count": 5,
     "metadata": {},
     "output_type": "execute_result"
    }
   ],
   "source": [
    "plot( v,EUM,\n",
    "      linecolor = [:red :blue :green],\n",
    "      linestyle = [:solid :dash :dot],\n",
    "      linewidth = [1 2 2],\n",
    "      label = [\"phi=0\" \"phi=0.5, sigmaiH=0 \" \"phi=0.5, sigmaiH>0\"],\n",
    "      legend = :bottom,\n",
    "      title = \"Expected utility\",\n",
    "      xlabel = \"v, weight on risky asset\" )"
   ]
  },
  {
   "cell_type": "code",
   "execution_count": 6,
   "metadata": {},
   "outputs": [
    {
     "name": "stdout",
     "output_type": "stream",
     "text": [
      "\n",
      "\u001b[34m\u001b[1mOptimal weight on (a single) risky asset in the three cases:\u001b[22m\u001b[39m\n",
      "                  in total portf  in financial portf\n",
      "ϕ=0                        0.406               0.406\n",
      "ϕ=-0.5,σiH=0               0.406               0.271\n",
      "ϕ=-0.5,σiH>0               0.602               0.401\n",
      "\n"
     ]
    }
   ],
   "source": [
    "(vD,wD) = PortFOpt(-0.5,k,μᵉ,Σ,SH_A)       #liability, ϕ<0\n",
    "(vE,wE) = PortFOpt(-0.5,k,μᵉ,Σ,SH_C)\n",
    "\n",
    "printblue(\"\\nOptimal weight on (a single) risky asset in the three cases:\")\n",
    "xx = [vA wA;vD wD;vE wE]\n",
    "colNames = [\"in total portf\",\"in financial portf\"]\n",
    "rowNames = [\"ϕ=0\",\"ϕ=-0.5,σiH=0\",\"ϕ=-0.5,σiH>0\"]\n",
    "printTable(xx,colNames,rowNames,width=20)"
   ]
  },
  {
   "cell_type": "markdown",
   "metadata": {},
   "source": [
    "## Several Risky Assets"
   ]
  },
  {
   "cell_type": "code",
   "execution_count": 7,
   "metadata": {},
   "outputs": [
    {
     "name": "stdout",
     "output_type": "stream",
     "text": [
      "optimal weights (inside financial subportfolio):\n",
      "            \n",
      "A      0.235\n",
      "B      0.453\n",
      "C      0.488\n",
      "Rf    -0.176\n",
      "\n"
     ]
    }
   ],
   "source": [
    "μ = [11.5; 9.5; 6]/100          #expected returns\n",
    "Σ  = [166  34  58;              #covariance matrix\n",
    "       34  64   4;\n",
    "       58   4 100]/100^2\n",
    "Rf = 0.03\n",
    "\n",
    "ϕ   = 0.3                            #fraction of background risk in overall portfolio\n",
    "σHH = 0.25^2\n",
    "SH  = [0.5;0.9;-0.1].*sqrt(σHH).*sqrt.(diag(Σ))\n",
    "μH  = 0.1 \n",
    "k   = 8\n",
    "\n",
    "(v,w) = PortFOpt(ϕ,k,μ.-Rf,Σ,SH)\n",
    "\n",
    "println(\"optimal weights (inside financial subportfolio):\")\n",
    "printTable([w;1-sum(w)],[\"\"],[\"A\",\"B\",\"C\",\"Rf\"])"
   ]
  },
  {
   "cell_type": "markdown",
   "metadata": {},
   "source": [
    "# Asset Pricing Implications of Background Risk: Multi-Factor Model"
   ]
  },
  {
   "cell_type": "code",
   "execution_count": 8,
   "metadata": {},
   "outputs": [
    {
     "name": "stdout",
     "output_type": "stream",
     "text": [
      "The multiple regression coefficients: \n",
      "     1.057\n",
      "    -0.514\n",
      "\n",
      "μᵉ according to 2-factor model:\n",
      "     0.039\n",
      "\n"
     ]
    }
   ],
   "source": [
    "μᵉF = [0.08,0.089]            #avg. excess returns of factors\n",
    "\n",
    "Ψ = [1 0.5;                   #covariance matrix of [Rm,RH]\n",
    "     0.5 2]\n",
    "SH = [0.8;-0.5]                  #Cov(Ri,Rm) and Cov(Ri,RH)\n",
    "\n",
    "βmult = inv(Ψ)*SH               #coeffs in Ri = βmult'[Rm;RH]\n",
    "printlnPs(\"The multiple regression coefficients: \")\n",
    "printmat(βmult)\n",
    "\n",
    "μᵉ = βmult'μᵉF\n",
    "printlnPs(\"μᵉ according to 2-factor model:\")\n",
    "printmat(μᵉ)"
   ]
  },
  {
   "cell_type": "markdown",
   "metadata": {},
   "source": [
    "# Empirical Test of a 3-Factor Model: Loading Data"
   ]
  },
  {
   "cell_type": "code",
   "execution_count": 9,
   "metadata": {},
   "outputs": [
    {
     "data": {
      "text/plain": [
       "(388, 5)"
      ]
     },
     "execution_count": 9,
     "metadata": {},
     "output_type": "execute_result"
    }
   ],
   "source": [
    "x    = readdlm(\"Data/FFmFactorsPs.csv\",',',skipstart=1)\n",
    "Rme  = x[:,2]                #market excess return\n",
    "RSMB = x[:,3]                #small minus big firms\n",
    "RHML = x[:,4]                #high minus low book-to-market ratio\n",
    "Rf   = x[:,5]                #interest rate\n",
    "\n",
    "\n",
    "x  = readdlm(\"Data/FF25Ps.csv\",',') #no header line: x is matrix\n",
    "R  = x[:,2:end]                     #returns for 25 FF portfolios\n",
    "Re = R .- Rf                        #excess returns for the 25 FF portfolios\n",
    "Re = Re[:,[1,7,13,19,25]]           #use just 5 assets to make the printing easier \n",
    "\n",
    "(T,n) = size(Re)                    #no. obs and  no. test assets"
   ]
  },
  {
   "cell_type": "markdown",
   "metadata": {},
   "source": [
    "## OLS Estimation and Testing α = 0"
   ]
  },
  {
   "cell_type": "markdown",
   "metadata": {},
   "source": [
    "Recall: estimate $(\\alpha_{i},b_{i})$ in the factor model\n",
    "\n",
    "$R_{it}^{e}  =\\alpha_{i}+b_{i}'f_{t} + \\varepsilon_{it}$\n",
    "\n",
    "Test if $\\alpha_{i}=0$"
   ]
  },
  {
   "cell_type": "code",
   "execution_count": 10,
   "metadata": {},
   "outputs": [
    {
     "name": "stdout",
     "output_type": "stream",
     "text": [
      "\u001b[34m\u001b[1mRegression of Re on constant and 3 factors:\u001b[22m\u001b[39m\n",
      "         asset 1   asset 2   asset 3   asset 4   asset 5\n",
      "α         -0.513    -0.006     0.030    -0.020    -0.015\n",
      "t-stat    -2.306    -0.066     0.328    -0.206    -0.133\n",
      "\n"
     ]
    }
   ],
   "source": [
    "x   = [ones(T) Rme RSMB RHML]         #regressors\n",
    "\n",
    "(α,tstat) = (fill(NaN,n),fill(NaN,n))\n",
    "for i = 1:n                              #loop over the different test assets\n",
    "    #local b_i,Covb                      #only needed in REPL/script\n",
    "    (b_i,_,_,Covb,_) = OlsGMFn(Re[:,i],x)\n",
    "    α[i]      = b_i[1]\n",
    "    tstat[i] = (b_i[1]-0)/sqrt(Covb[1,1])\n",
    "end\n",
    "\n",
    "printblue(\"Regression of Re on constant and 3 factors:\")\n",
    "colNames = [string(\"asset \",i) for i=1:n]\n",
    "printTable([α';tstat'],colNames,[\"α\",\"t-stat\"])"
   ]
  },
  {
   "cell_type": "code",
   "execution_count": null,
   "metadata": {},
   "outputs": [],
   "source": []
  }
 ],
 "metadata": {
  "@webio": {
   "lastCommId": null,
   "lastKernelId": null
  },
  "anaconda-cloud": {},
  "kernelspec": {
   "display_name": "Julia 1.3.1",
   "language": "julia",
   "name": "julia-1.3"
  },
  "language_info": {
   "file_extension": ".jl",
   "mimetype": "application/julia",
   "name": "julia",
   "version": "1.3.1"
  }
 },
 "nbformat": 4,
 "nbformat_minor": 1
}
