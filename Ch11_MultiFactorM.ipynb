{
 "cells": [
  {
   "cell_type": "markdown",
   "metadata": {},
   "source": [
    "## Load Packages"
   ]
  },
  {
   "cell_type": "code",
   "execution_count": 1,
   "metadata": {},
   "outputs": [
    {
     "data": {
      "text/plain": [
       "printlnPs (generic function with 2 methods)"
      ]
     },
     "execution_count": 1,
     "metadata": {},
     "output_type": "execute_result"
    }
   ],
   "source": [
    "using Dates, DelimitedFiles, Statistics\n",
    "\n",
    "include(\"printmat.jl\")"
   ]
  },
  {
   "cell_type": "code",
   "execution_count": 2,
   "metadata": {},
   "outputs": [],
   "source": [
    "using Plots\n",
    "backend = \"gr\"              #\"gr\" (default), \"pyplot\" \n",
    "\n",
    "if backend == \"pyplot\"\n",
    "    pyplot(size=(600,400))\n",
    "else    \n",
    "    gr(size=(480,320))\n",
    "    default(fmt = :svg)\n",
    "end"
   ]
  },
  {
   "cell_type": "markdown",
   "metadata": {},
   "source": [
    "# Portfolio Choice with Background Risk"
   ]
  },
  {
   "cell_type": "markdown",
   "metadata": {},
   "source": [
    "Recall: the investor maximizes\n",
    "$\\text{E}R_{p}-\\frac{k}{2}\\text{Var}(R_{p})$, where \n",
    "\n",
    "$R_{p}=v^{\\prime}R+\\phi R_{H}+(1-\\mathbf{1}^{\\prime}v-\\phi)R_{f}$\n",
    "\n",
    "Also, $\\text{Var}(R_{p}) = u'\\Sigma u$, where $u = [v;\\phi]$\n",
    "\n",
    "Notice that with $\\sigma_{1H}=0$, the choice of $v$ is not affected by $\\phi$ (in spite of the fact that the background risk affects utility)."
   ]
  },
  {
   "cell_type": "code",
   "execution_count": 3,
   "metadata": {},
   "outputs": [
    {
     "data": {
      "text/plain": [
       "EU (generic function with 2 methods)"
      ]
     },
     "execution_count": 3,
     "metadata": {},
     "output_type": "execute_result"
    }
   ],
   "source": [
    "function EU(v,ϕ,k,μe,Σ,μeH=0)  #expected utility for the case with background risk\n",
    "    u     = [v;ϕ]              #portfolio weight vector, all risky assets. Background risk last.       \n",
    "    ERp   = u'*[μe;μeH]        #μeH defaults to zero\n",
    "    VarRp = u'Σ*u\n",
    "    EUtil = ERp - k/2*VarRp\n",
    "    return EUtil\n",
    "end"
   ]
  },
  {
   "cell_type": "code",
   "execution_count": 4,
   "metadata": {},
   "outputs": [],
   "source": [
    "Σ_A = [0.04 0;                 #covariance with H is zero\n",
    "       0    0.01]              #σHH does not matter for the choice, just set it to 0.01  \n",
    "Σ_C = [0.04 0.01;              #alternative covariance matrix: covariance with H is positive\n",
    "       0.01 0.01]       \n",
    "\n",
    "v = range(0.4,stop=1,length=51)\n",
    "L = length(v)\n",
    "\n",
    "EUM = fill(NaN,(L,3))                   #try different v values (weight on risky investable asset)\n",
    "for i = 1:L\n",
    "    EUM[i,1] = EU(v[i],0.0,3,0.08,Σ_A)\n",
    "    EUM[i,2] = EU(v[i],0.5,3,0.08,Σ_A)    \n",
    "    EUM[i,3] = EU(v[i],0.5,3,0.08,Σ_C)\n",
    "end    "
   ]
  },
  {
   "cell_type": "code",
   "execution_count": 5,
   "metadata": {},
   "outputs": [
    {
     "name": "stdout",
     "output_type": "stream",
     "text": [
      "Notice: with σ1H=0, the choice of v is not affected by ϕ\n"
     ]
    },
    {
     "data": {
      "image/svg+xml": [
       "<?xml version=\"1.0\" encoding=\"utf-8\"?>\n",
       "<svg xmlns=\"http://www.w3.org/2000/svg\" xmlns:xlink=\"http://www.w3.org/1999/xlink\" width=\"480\" height=\"320\" viewBox=\"0 0 1920 1280\">\n",
       "<defs>\n",
       "  <clipPath id=\"clip1900\">\n",
       "    <rect x=\"0\" y=\"0\" width=\"2000\" height=\"2000\"/>\n",
       "  </clipPath>\n",
       "</defs>\n",
       "<defs>\n",
       "  <clipPath id=\"clip1901\">\n",
       "    <rect x=\"0\" y=\"0\" width=\"1920\" height=\"1280\"/>\n",
       "  </clipPath>\n",
       "</defs>\n",
       "<polygon clip-path=\"url(#clip1901)\" points=\"\n",
       "0,1280 1920,1280 1920,0 0,0 \n",
       "  \" fill=\"#ffffff\" fill-opacity=\"1\"/>\n",
       "<defs>\n",
       "  <clipPath id=\"clip1902\">\n",
       "    <rect x=\"384\" y=\"0\" width=\"1345\" height=\"1280\"/>\n",
       "  </clipPath>\n",
       "</defs>\n",
       "<polygon clip-path=\"url(#clip1901)\" points=\"\n",
       "214.919,1120.48 1841.26,1120.48 1841.26,125.984 214.919,125.984 \n",
       "  \" fill=\"#ffffff\" fill-opacity=\"1\"/>\n",
       "<defs>\n",
       "  <clipPath id=\"clip1903\">\n",
       "    <rect x=\"214\" y=\"125\" width=\"1627\" height=\"995\"/>\n",
       "  </clipPath>\n",
       "</defs>\n",
       "<polyline clip-path=\"url(#clip1903)\" style=\"stroke:#000000; stroke-width:2; stroke-opacity:0.1; fill:none\" points=\"\n",
       "  260.947,1120.48 260.947,125.984 \n",
       "  \"/>\n",
       "<polyline clip-path=\"url(#clip1903)\" style=\"stroke:#000000; stroke-width:2; stroke-opacity:0.1; fill:none\" points=\"\n",
       "  516.661,1120.48 516.661,125.984 \n",
       "  \"/>\n",
       "<polyline clip-path=\"url(#clip1903)\" style=\"stroke:#000000; stroke-width:2; stroke-opacity:0.1; fill:none\" points=\"\n",
       "  772.375,1120.48 772.375,125.984 \n",
       "  \"/>\n",
       "<polyline clip-path=\"url(#clip1903)\" style=\"stroke:#000000; stroke-width:2; stroke-opacity:0.1; fill:none\" points=\"\n",
       "  1028.09,1120.48 1028.09,125.984 \n",
       "  \"/>\n",
       "<polyline clip-path=\"url(#clip1903)\" style=\"stroke:#000000; stroke-width:2; stroke-opacity:0.1; fill:none\" points=\"\n",
       "  1283.8,1120.48 1283.8,125.984 \n",
       "  \"/>\n",
       "<polyline clip-path=\"url(#clip1903)\" style=\"stroke:#000000; stroke-width:2; stroke-opacity:0.1; fill:none\" points=\"\n",
       "  1539.52,1120.48 1539.52,125.984 \n",
       "  \"/>\n",
       "<polyline clip-path=\"url(#clip1903)\" style=\"stroke:#000000; stroke-width:2; stroke-opacity:0.1; fill:none\" points=\"\n",
       "  1795.23,1120.48 1795.23,125.984 \n",
       "  \"/>\n",
       "<polyline clip-path=\"url(#clip1903)\" style=\"stroke:#000000; stroke-width:2; stroke-opacity:0.1; fill:none\" points=\"\n",
       "  214.919,953.91 1841.26,953.91 \n",
       "  \"/>\n",
       "<polyline clip-path=\"url(#clip1903)\" style=\"stroke:#000000; stroke-width:2; stroke-opacity:0.1; fill:none\" points=\"\n",
       "  214.919,769.342 1841.26,769.342 \n",
       "  \"/>\n",
       "<polyline clip-path=\"url(#clip1903)\" style=\"stroke:#000000; stroke-width:2; stroke-opacity:0.1; fill:none\" points=\"\n",
       "  214.919,584.774 1841.26,584.774 \n",
       "  \"/>\n",
       "<polyline clip-path=\"url(#clip1903)\" style=\"stroke:#000000; stroke-width:2; stroke-opacity:0.1; fill:none\" points=\"\n",
       "  214.919,400.206 1841.26,400.206 \n",
       "  \"/>\n",
       "<polyline clip-path=\"url(#clip1903)\" style=\"stroke:#000000; stroke-width:2; stroke-opacity:0.1; fill:none\" points=\"\n",
       "  214.919,215.637 1841.26,215.637 \n",
       "  \"/>\n",
       "<polyline clip-path=\"url(#clip1901)\" style=\"stroke:#000000; stroke-width:4; stroke-opacity:1; fill:none\" points=\"\n",
       "  214.919,1120.48 1841.26,1120.48 \n",
       "  \"/>\n",
       "<polyline clip-path=\"url(#clip1901)\" style=\"stroke:#000000; stroke-width:4; stroke-opacity:1; fill:none\" points=\"\n",
       "  214.919,1120.48 214.919,125.984 \n",
       "  \"/>\n",
       "<polyline clip-path=\"url(#clip1901)\" style=\"stroke:#000000; stroke-width:4; stroke-opacity:1; fill:none\" points=\"\n",
       "  260.947,1120.48 260.947,1105.57 \n",
       "  \"/>\n",
       "<polyline clip-path=\"url(#clip1901)\" style=\"stroke:#000000; stroke-width:4; stroke-opacity:1; fill:none\" points=\"\n",
       "  516.661,1120.48 516.661,1105.57 \n",
       "  \"/>\n",
       "<polyline clip-path=\"url(#clip1901)\" style=\"stroke:#000000; stroke-width:4; stroke-opacity:1; fill:none\" points=\"\n",
       "  772.375,1120.48 772.375,1105.57 \n",
       "  \"/>\n",
       "<polyline clip-path=\"url(#clip1901)\" style=\"stroke:#000000; stroke-width:4; stroke-opacity:1; fill:none\" points=\"\n",
       "  1028.09,1120.48 1028.09,1105.57 \n",
       "  \"/>\n",
       "<polyline clip-path=\"url(#clip1901)\" style=\"stroke:#000000; stroke-width:4; stroke-opacity:1; fill:none\" points=\"\n",
       "  1283.8,1120.48 1283.8,1105.57 \n",
       "  \"/>\n",
       "<polyline clip-path=\"url(#clip1901)\" style=\"stroke:#000000; stroke-width:4; stroke-opacity:1; fill:none\" points=\"\n",
       "  1539.52,1120.48 1539.52,1105.57 \n",
       "  \"/>\n",
       "<polyline clip-path=\"url(#clip1901)\" style=\"stroke:#000000; stroke-width:4; stroke-opacity:1; fill:none\" points=\"\n",
       "  1795.23,1120.48 1795.23,1105.57 \n",
       "  \"/>\n",
       "<polyline clip-path=\"url(#clip1901)\" style=\"stroke:#000000; stroke-width:4; stroke-opacity:1; fill:none\" points=\"\n",
       "  214.919,953.91 239.314,953.91 \n",
       "  \"/>\n",
       "<polyline clip-path=\"url(#clip1901)\" style=\"stroke:#000000; stroke-width:4; stroke-opacity:1; fill:none\" points=\"\n",
       "  214.919,769.342 239.314,769.342 \n",
       "  \"/>\n",
       "<polyline clip-path=\"url(#clip1901)\" style=\"stroke:#000000; stroke-width:4; stroke-opacity:1; fill:none\" points=\"\n",
       "  214.919,584.774 239.314,584.774 \n",
       "  \"/>\n",
       "<polyline clip-path=\"url(#clip1901)\" style=\"stroke:#000000; stroke-width:4; stroke-opacity:1; fill:none\" points=\"\n",
       "  214.919,400.206 239.314,400.206 \n",
       "  \"/>\n",
       "<polyline clip-path=\"url(#clip1901)\" style=\"stroke:#000000; stroke-width:4; stroke-opacity:1; fill:none\" points=\"\n",
       "  214.919,215.637 239.314,215.637 \n",
       "  \"/>\n",
       "<g clip-path=\"url(#clip1901)\">\n",
       "<text style=\"fill:#000000; fill-opacity:1; font-family:Arial,Helvetica Neue,Helvetica,sans-serif; font-size:48px; text-anchor:middle;\" transform=\"rotate(0, 260.947, 1172.08)\" x=\"260.947\" y=\"1172.08\">0.4</text>\n",
       "</g>\n",
       "<g clip-path=\"url(#clip1901)\">\n",
       "<text style=\"fill:#000000; fill-opacity:1; font-family:Arial,Helvetica Neue,Helvetica,sans-serif; font-size:48px; text-anchor:middle;\" transform=\"rotate(0, 516.661, 1172.08)\" x=\"516.661\" y=\"1172.08\">0.5</text>\n",
       "</g>\n",
       "<g clip-path=\"url(#clip1901)\">\n",
       "<text style=\"fill:#000000; fill-opacity:1; font-family:Arial,Helvetica Neue,Helvetica,sans-serif; font-size:48px; text-anchor:middle;\" transform=\"rotate(0, 772.375, 1172.08)\" x=\"772.375\" y=\"1172.08\">0.6</text>\n",
       "</g>\n",
       "<g clip-path=\"url(#clip1901)\">\n",
       "<text style=\"fill:#000000; fill-opacity:1; font-family:Arial,Helvetica Neue,Helvetica,sans-serif; font-size:48px; text-anchor:middle;\" transform=\"rotate(0, 1028.09, 1172.08)\" x=\"1028.09\" y=\"1172.08\">0.7</text>\n",
       "</g>\n",
       "<g clip-path=\"url(#clip1901)\">\n",
       "<text style=\"fill:#000000; fill-opacity:1; font-family:Arial,Helvetica Neue,Helvetica,sans-serif; font-size:48px; text-anchor:middle;\" transform=\"rotate(0, 1283.8, 1172.08)\" x=\"1283.8\" y=\"1172.08\">0.8</text>\n",
       "</g>\n",
       "<g clip-path=\"url(#clip1901)\">\n",
       "<text style=\"fill:#000000; fill-opacity:1; font-family:Arial,Helvetica Neue,Helvetica,sans-serif; font-size:48px; text-anchor:middle;\" transform=\"rotate(0, 1539.52, 1172.08)\" x=\"1539.52\" y=\"1172.08\">0.9</text>\n",
       "</g>\n",
       "<g clip-path=\"url(#clip1901)\">\n",
       "<text style=\"fill:#000000; fill-opacity:1; font-family:Arial,Helvetica Neue,Helvetica,sans-serif; font-size:48px; text-anchor:middle;\" transform=\"rotate(0, 1795.23, 1172.08)\" x=\"1795.23\" y=\"1172.08\">1.0</text>\n",
       "</g>\n",
       "<g clip-path=\"url(#clip1901)\">\n",
       "<text style=\"fill:#000000; fill-opacity:1; font-family:Arial,Helvetica Neue,Helvetica,sans-serif; font-size:48px; text-anchor:end;\" transform=\"rotate(0, 195.719, 971.41)\" x=\"195.719\" y=\"971.41\">0.005</text>\n",
       "</g>\n",
       "<g clip-path=\"url(#clip1901)\">\n",
       "<text style=\"fill:#000000; fill-opacity:1; font-family:Arial,Helvetica Neue,Helvetica,sans-serif; font-size:48px; text-anchor:end;\" transform=\"rotate(0, 195.719, 786.842)\" x=\"195.719\" y=\"786.842\">0.010</text>\n",
       "</g>\n",
       "<g clip-path=\"url(#clip1901)\">\n",
       "<text style=\"fill:#000000; fill-opacity:1; font-family:Arial,Helvetica Neue,Helvetica,sans-serif; font-size:48px; text-anchor:end;\" transform=\"rotate(0, 195.719, 602.274)\" x=\"195.719\" y=\"602.274\">0.015</text>\n",
       "</g>\n",
       "<g clip-path=\"url(#clip1901)\">\n",
       "<text style=\"fill:#000000; fill-opacity:1; font-family:Arial,Helvetica Neue,Helvetica,sans-serif; font-size:48px; text-anchor:end;\" transform=\"rotate(0, 195.719, 417.706)\" x=\"195.719\" y=\"417.706\">0.020</text>\n",
       "</g>\n",
       "<g clip-path=\"url(#clip1901)\">\n",
       "<text style=\"fill:#000000; fill-opacity:1; font-family:Arial,Helvetica Neue,Helvetica,sans-serif; font-size:48px; text-anchor:end;\" transform=\"rotate(0, 195.719, 233.137)\" x=\"195.719\" y=\"233.137\">0.025</text>\n",
       "</g>\n",
       "<g clip-path=\"url(#clip1901)\">\n",
       "<text style=\"fill:#000000; fill-opacity:1; font-family:Arial,Helvetica Neue,Helvetica,sans-serif; font-size:84px; text-anchor:middle;\" transform=\"rotate(0, 1028.09, 73.2)\" x=\"1028.09\" y=\"73.2\">Expected utility</text>\n",
       "</g>\n",
       "<g clip-path=\"url(#clip1901)\">\n",
       "<text style=\"fill:#000000; fill-opacity:1; font-family:Arial,Helvetica Neue,Helvetica,sans-serif; font-size:66px; text-anchor:middle;\" transform=\"rotate(0, 1028.09, 1270.4)\" x=\"1028.09\" y=\"1270.4\">v, weight on risky asset</text>\n",
       "</g>\n",
       "<polyline clip-path=\"url(#clip1903)\" style=\"stroke:#ff0000; stroke-width:8; stroke-opacity:1; fill:none\" points=\"\n",
       "  260.947,311.613 291.633,297.757 322.319,284.539 353.004,271.959 383.69,260.016 414.376,248.712 445.061,238.045 475.747,228.017 506.433,218.626 537.118,209.873 \n",
       "  567.804,201.758 598.49,194.281 629.175,187.441 659.861,181.24 690.547,175.676 721.232,170.75 751.918,166.463 782.604,162.813 813.29,159.8 843.975,157.426 \n",
       "  874.661,155.69 905.347,154.591 936.032,154.13 966.718,154.308 997.404,155.123 1028.09,156.576 1058.77,158.666 1089.46,161.395 1120.15,164.762 1150.83,168.766 \n",
       "  1181.52,173.408 1212.2,178.688 1242.89,184.606 1273.57,191.162 1304.26,198.356 1334.95,206.188 1365.63,214.657 1396.32,223.764 1427,233.51 1457.69,243.893 \n",
       "  1488.37,254.914 1519.06,266.572 1549.75,278.869 1580.43,291.804 1611.12,305.376 1641.8,319.586 1672.49,334.434 1703.17,349.92 1733.86,366.044 1764.55,382.806 \n",
       "  1795.23,400.206 \n",
       "  \"/>\n",
       "<polyline clip-path=\"url(#clip1903)\" style=\"stroke:#0000ff; stroke-width:8; stroke-opacity:1; fill:none\" points=\"\n",
       "  260.947,450.039 291.633,436.183 322.319,422.965 353.004,410.385 383.69,398.443 414.376,387.138 445.061,376.472 475.747,366.443 506.433,357.052 537.118,348.299 \n",
       "  567.804,340.184 598.49,332.707 629.175,325.867 659.861,319.666 690.547,314.102 721.232,309.177 751.918,304.889 782.604,301.239 813.29,298.227 843.975,295.852 \n",
       "  874.661,294.116 905.347,293.017 936.032,292.557 966.718,292.734 997.404,293.549 1028.09,295.002 1058.77,297.093 1089.46,299.821 1120.15,303.188 1150.83,307.192 \n",
       "  1181.52,311.834 1212.2,317.114 1242.89,323.032 1273.57,329.588 1304.26,336.782 1334.95,344.614 1365.63,353.083 1396.32,362.19 1427,371.936 1457.69,382.319 \n",
       "  1488.37,393.34 1519.06,404.998 1549.75,417.295 1580.43,430.23 1611.12,443.802 1641.8,458.012 1672.49,472.861 1703.17,488.347 1733.86,504.47 1764.55,521.232 \n",
       "  1795.23,538.632 \n",
       "  \"/>\n",
       "<polyline clip-path=\"url(#clip1903)\" style=\"stroke:#008000; stroke-width:8; stroke-opacity:1; fill:none\" points=\"\n",
       "  260.947,671.521 291.633,664.309 322.319,657.736 353.004,651.8 383.69,646.502 414.376,641.842 445.061,637.82 475.747,634.436 506.433,631.69 537.118,629.581 \n",
       "  567.804,628.11 598.49,627.278 629.175,627.083 659.861,627.526 690.547,628.607 721.232,630.325 751.918,632.682 782.604,635.676 813.29,639.309 843.975,643.579 \n",
       "  874.661,648.487 905.347,654.033 936.032,660.216 966.718,667.038 997.404,674.498 1028.09,682.595 1058.77,691.33 1089.46,700.703 1120.15,710.714 1150.83,721.363 \n",
       "  1181.52,732.65 1212.2,744.574 1242.89,757.137 1273.57,770.337 1304.26,784.175 1334.95,798.651 1365.63,813.765 1396.32,829.517 1427,845.907 1457.69,862.934 \n",
       "  1488.37,880.6 1519.06,898.903 1549.75,917.844 1580.43,937.423 1611.12,957.64 1641.8,978.495 1672.49,999.987 1703.17,1022.12 1733.86,1044.89 1764.55,1068.29 \n",
       "  1795.23,1092.34 \n",
       "  \"/>\n",
       "<polygon clip-path=\"url(#clip1901)\" points=\"\n",
       "272.519,1005.28 1015.7,1005.28 1015.7,763.363 272.519,763.363 \n",
       "  \" fill=\"#ffffff\" fill-opacity=\"1\"/>\n",
       "<polyline clip-path=\"url(#clip1901)\" style=\"stroke:#000000; stroke-width:4; stroke-opacity:1; fill:none\" points=\"\n",
       "  272.519,1005.28 1015.7,1005.28 1015.7,763.363 272.519,763.363 272.519,1005.28 \n",
       "  \"/>\n",
       "<polyline clip-path=\"url(#clip1901)\" style=\"stroke:#ff0000; stroke-width:8; stroke-opacity:1; fill:none\" points=\"\n",
       "  291.719,823.843 406.919,823.843 \n",
       "  \"/>\n",
       "<g clip-path=\"url(#clip1901)\">\n",
       "<text style=\"fill:#000000; fill-opacity:1; font-family:Arial,Helvetica Neue,Helvetica,sans-serif; font-size:48px; text-anchor:start;\" transform=\"rotate(0, 426.119, 841.343)\" x=\"426.119\" y=\"841.343\">phi=0</text>\n",
       "</g>\n",
       "<polyline clip-path=\"url(#clip1901)\" style=\"stroke:#0000ff; stroke-width:8; stroke-opacity:1; fill:none\" points=\"\n",
       "  291.719,884.323 406.919,884.323 \n",
       "  \"/>\n",
       "<g clip-path=\"url(#clip1901)\">\n",
       "<text style=\"fill:#000000; fill-opacity:1; font-family:Arial,Helvetica Neue,Helvetica,sans-serif; font-size:48px; text-anchor:start;\" transform=\"rotate(0, 426.119, 901.823)\" x=\"426.119\" y=\"901.823\">phi=0.5, sigma1H=0 </text>\n",
       "</g>\n",
       "<polyline clip-path=\"url(#clip1901)\" style=\"stroke:#008000; stroke-width:8; stroke-opacity:1; fill:none\" points=\"\n",
       "  291.719,944.803 406.919,944.803 \n",
       "  \"/>\n",
       "<g clip-path=\"url(#clip1901)\">\n",
       "<text style=\"fill:#000000; fill-opacity:1; font-family:Arial,Helvetica Neue,Helvetica,sans-serif; font-size:48px; text-anchor:start;\" transform=\"rotate(0, 426.119, 962.303)\" x=\"426.119\" y=\"962.303\">phi=0.5, sigma1H=0.01    </text>\n",
       "</g>\n",
       "</svg>\n"
      ]
     },
     "execution_count": 5,
     "metadata": {},
     "output_type": "execute_result"
    }
   ],
   "source": [
    "println(\"Notice: with σ1H=0, the choice of v is not affected by ϕ\")\n",
    "\n",
    "p1 = plot(v,EUM[:,1],color=:red,linewidth=2,label=\"phi=0\")\n",
    "plot!(v,EUM[:,2],color=:blue,linewidth=2,label=\"phi=0.5, sigma1H=0 \")\n",
    "plot!(v,EUM[:,3],color=:green,linewidth=2,label=\"phi=0.5, sigma1H=0.01    \")\n",
    "plot!(legend=:bottomleft)\n",
    "title!(\"Expected utility\")\n",
    "xlabel!(\"v, weight on risky asset\")"
   ]
  },
  {
   "cell_type": "markdown",
   "metadata": {},
   "source": [
    "# Asset Pricing Implications of Background Risk I: CAPM"
   ]
  },
  {
   "cell_type": "markdown",
   "metadata": {},
   "source": [
    "Recall:\n",
    "\n",
    "The beta from CAPM regression: $R_{i}^{e}=\\alpha_{i}+\\beta_{i}R_{m}^{e}+\\varepsilon_{i}$ is \n",
    "\n",
    "$\\beta_{i}=\\frac{\\sigma_{im}}{\\sigma_{mm}}$\n",
    "\n",
    "Correct pricing expression:\n",
    "\n",
    "$\\mu_{i}^{e} =\\tilde{\\beta}_{i}\\mu_{m}^{e}$, where \n",
    "$\\tilde{\\beta}_{i}  =\\frac{\\sigma_{im}+\\phi\\left(  \\sigma_{iH}-\\sigma_{im}\\right)  }{\\sigma_{mm}+\\phi\\left(\\sigma_{mH}-\\sigma_{mm}\\right)  }$\n",
    "\n",
    "The $\\alpha_{i}$ in the CAPM regression can be shown to be\n",
    "$\\alpha_{i}=(\\tilde{\\beta}_{i}-\\beta_{i})\\mu_{m}^{e}$"
   ]
  },
  {
   "cell_type": "code",
   "execution_count": 6,
   "metadata": {},
   "outputs": [
    {
     "data": {
      "text/plain": [
       "βtilde (generic function with 1 method)"
      ]
     },
     "execution_count": 6,
     "metadata": {},
     "output_type": "execute_result"
    }
   ],
   "source": [
    "βtilde(σim,ϕ,σiH,σmm,σmH) = (σim + ϕ*(σiH-σim))/(σmm + ϕ*(σmH-σmm))     #a function giving βtilde as above"
   ]
  },
  {
   "cell_type": "code",
   "execution_count": 7,
   "metadata": {
    "scrolled": true
   },
   "outputs": [
    {
     "name": "stdout",
     "output_type": "stream",
     "text": [
      "betas: CAPM and the ones to use in finding μᵢ\n",
      "     0.800     0.800     0.482\n",
      "\n",
      "Expected excess return according to βtilde (μᵉ)\n",
      "     0.064     0.039\n",
      "\n",
      "alphas in CAPM regressions: no background risk, background risk case A, case B\n",
      "     0.000     0.000    -0.025\n",
      "\n"
     ]
    }
   ],
   "source": [
    "σim = 0.8                                             #parameter values for the calculations below\n",
    "σmm = 1\n",
    "σiH = -0.5\n",
    "σmH = 0.5\n",
    "μem = 0.08\n",
    "\n",
    "β = σim/σmm\n",
    "βtildeA = βtilde(σim,0,σiH,σmm,σmH)                   #case A, βtilde when ϕ=0\n",
    "βtildeB = βtilde(σim,0.3,σiH,σmm,σmH)                 #case B, βtilde when ϕ=0.3, otherwise the same \n",
    "\n",
    "println(\"betas: CAPM and the ones to use in finding μᵢ\")\n",
    "printmat([β βtildeA βtildeB])\n",
    "\n",
    "println(\"Expected excess return according to βtilde (μᵉ)\")\n",
    "printmat([βtildeA*μem βtildeB*μem])  \n",
    "\n",
    "println(\"alphas in CAPM regressions: no background risk, background risk case A, case B\")\n",
    "αA = (βtildeA - β)*μem\n",
    "αB = (βtildeB - β)*μem\n",
    "printmat([0 αA αB])"
   ]
  },
  {
   "cell_type": "markdown",
   "metadata": {},
   "source": [
    "# Asset Pricing Implications of Background Risk II: Multi-Factor Model (extra)"
   ]
  },
  {
   "cell_type": "code",
   "execution_count": 8,
   "metadata": {},
   "outputs": [
    {
     "name": "stdout",
     "output_type": "stream",
     "text": [
      "The multiple regression coefficients:      1.057    -0.514\n",
      "\n",
      "μᵉ according to 2-factor model (cf. previous results)      0.039\n"
     ]
    }
   ],
   "source": [
    "σHH = 2\n",
    "μeH = 0.089\n",
    "\n",
    "Σ = [σmm σmH;                   #covariance matrix of [Rm,RH]\n",
    "     σmH σHH]\n",
    "SH = [σim;σiH]                  #Cov(Ri,Rm) and Cov(Ri,RH)\n",
    "\n",
    "βmult = inv(Σ)*SH               #coeffs in Ri = βmult'[Rm;RH]\n",
    "printlnPs(\"The multiple regression coefficients: \",βmult)\n",
    "\n",
    "μei = βmult'*[μem;μeH]\n",
    "printlnPs(\"\\nμᵉ according to 2-factor model (cf. previous results) \",μei)"
   ]
  },
  {
   "cell_type": "markdown",
   "metadata": {},
   "source": [
    "# Empirical Test of a 3-Factor Model: Loading Data"
   ]
  },
  {
   "cell_type": "code",
   "execution_count": 9,
   "metadata": {},
   "outputs": [
    {
     "data": {
      "text/plain": [
       "(388, 5)"
      ]
     },
     "execution_count": 9,
     "metadata": {},
     "output_type": "execute_result"
    }
   ],
   "source": [
    "x    = readdlm(\"Data/FFmFactorsPs.csv\",',',skipstart=1)\n",
    "Rme  = x[:,2]                #market excess return\n",
    "RSMB = x[:,3]                #small minus big firms\n",
    "RHML = x[:,4]                #high minus low book-to-market ratio\n",
    "Rf   = x[:,5]                #interest rate\n",
    "\n",
    "\n",
    "x  = readdlm(\"Data/FF25Ps.csv\",',') #no header line: x is matrix\n",
    "R  = x[:,2:end]                     #returns for 25 FF portfolios\n",
    "Re = R .- Rf                        #excess returns for the 25 FF portfolios\n",
    "Re = Re[:,[1,7,13,19,25]]           #use just 5 assets to make the printing easier \n",
    "\n",
    "(T,n) = size(Re)                 #no. obs and  no. test assets"
   ]
  },
  {
   "cell_type": "markdown",
   "metadata": {},
   "source": [
    "## OLS Estimation and Testing α = 0"
   ]
  },
  {
   "cell_type": "markdown",
   "metadata": {},
   "source": [
    "Recall: estimate $(\\alpha_{i},b_{i})$ in the factor model\n",
    "\n",
    "$R_{it}^{e}  =\\alpha_{i}+b_{i}'f_{t} + \\varepsilon_{it}$\n",
    "\n",
    "Test if $\\alpha_{i}=0$\n",
    "\n",
    "Under the Gauss-Markov assumptions, $\\textrm{Cov}([\\alpha_{i},b_{i}]) = (X'X)^{-1}\\textrm{Var}(\\varepsilon_{it})$,\n",
    "where row $t$ of $X$ contains $[1, f_{t}]$. Use element [1,1] of the covariance matrix as the variance of the $\\alpha_i$ estimate"
   ]
  },
  {
   "cell_type": "code",
   "execution_count": 10,
   "metadata": {},
   "outputs": [
    {
     "name": "stdout",
     "output_type": "stream",
     "text": [
      "\n",
      "OLS intercepts and t-stats, regressing Re on constant and 3 factors\n",
      "    -0.513    -2.306\n",
      "    -0.006    -0.066\n",
      "     0.030     0.328\n",
      "    -0.020    -0.206\n",
      "    -0.015    -0.133\n",
      "\n"
     ]
    }
   ],
   "source": [
    "x   = [ones(T) Rme RSMB RHML]         #regressors\n",
    "Σ_1 = inv(x'x)\n",
    "\n",
    "α     = fill(NaN,n)\n",
    "tstat = fill(NaN,n)\n",
    "for i = 1:n                              #loop over the different test assets\n",
    "    local b_i, residual, Covb\n",
    "    b_i       = x\\Re[:,i]                #OLS\n",
    "    residual  = Re[:,i] - x*b_i\n",
    "    α[i]      = b_i[1]\n",
    "    Covb      = Σ_1*var(residual)   \n",
    "    tstat[i] = (α[i]-0)/sqrt(Covb[1,1])\n",
    "end    \n",
    "println(\"\\nOLS intercepts and t-stats, regressing Re on constant and 3 factors\")\n",
    "printmat([α tstat])"
   ]
  },
  {
   "cell_type": "code",
   "execution_count": null,
   "metadata": {},
   "outputs": [],
   "source": []
  }
 ],
 "metadata": {
  "anaconda-cloud": {},
  "kernelspec": {
   "display_name": "Julia 1.0.1",
   "language": "julia",
   "name": "julia-1.0"
  },
  "language_info": {
   "file_extension": ".jl",
   "mimetype": "application/julia",
   "name": "julia",
   "version": "1.0.1"
  }
 },
 "nbformat": 4,
 "nbformat_minor": 1
}
