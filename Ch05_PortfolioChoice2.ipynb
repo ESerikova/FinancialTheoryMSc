{
 "cells": [
  {
   "cell_type": "markdown",
   "metadata": {},
   "source": [
    "# Portfolio Choice 2\n",
    "\n",
    "This notebook solves a portfolio optimization problem with several risky assets. The objective function of the investor trades off the portfolio expected return and variance."
   ]
  },
  {
   "cell_type": "markdown",
   "metadata": {},
   "source": [
    "## Load Packages"
   ]
  },
  {
   "cell_type": "code",
   "execution_count": 1,
   "metadata": {},
   "outputs": [
    {
     "data": {
      "text/plain": [
       "printTable2"
      ]
     },
     "execution_count": 1,
     "metadata": {},
     "output_type": "execute_result"
    }
   ],
   "source": [
    "using Dates, LinearAlgebra           \n",
    "\n",
    "include(\"jlFiles/printmat.jl\")\n",
    "include(\"jlFiles/printTable.jl\")"
   ]
  },
  {
   "cell_type": "code",
   "execution_count": 2,
   "metadata": {},
   "outputs": [],
   "source": [
    "using Plots\n",
    "\n",
    "#pyplot(size=(600,400))            #pyplot() or gr()\n",
    "gr(size=(480,320))\n",
    "default(fmt = :svg) "
   ]
  },
  {
   "cell_type": "markdown",
   "metadata": {},
   "source": [
    "# From Chapter on Mean-Variance Analysis\n",
    "\n",
    "The file included below contains the functions `MVCalc()`, `MVCalcRf()` and `MVTangencyP()` from the chapter on MV analysis."
   ]
  },
  {
   "cell_type": "code",
   "execution_count": 3,
   "metadata": {},
   "outputs": [
    {
     "data": {
      "text/plain": [
       "MVTangencyP"
      ]
     },
     "execution_count": 3,
     "metadata": {},
     "output_type": "execute_result"
    }
   ],
   "source": [
    "include(\"jlFiles/MvCalculations.jl\")"
   ]
  },
  {
   "cell_type": "markdown",
   "metadata": {},
   "source": [
    "# Optimal Portfolio Choice"
   ]
  },
  {
   "cell_type": "markdown",
   "metadata": {},
   "source": [
    "An investor who maximizes\n",
    "\n",
    "$\\text{E}U(R_{p})   =\\text{E}R_{p}-\\frac{k}{2} \\text{Var}(R_{p})$,\n",
    "\n",
    "subject to \n",
    "\n",
    "$R_{p} = v'R^e + R_f$\n",
    "\n",
    "will pick the portfolio weights (on the risky assets)\n",
    "\n",
    "$v  =\\frac{1}{k}\\Sigma^{-1}\\mu^{e}$\n",
    "\n",
    "The portfolio weight on the riskfree asset is $1-\\mathbf{1}'v$"
   ]
  },
  {
   "cell_type": "code",
   "execution_count": 4,
   "metadata": {},
   "outputs": [
    {
     "data": {
      "text/plain": [
       "OptimalPortfolio"
      ]
     },
     "execution_count": 4,
     "metadata": {},
     "output_type": "execute_result"
    }
   ],
   "source": [
    "\"\"\"\n",
    "Calculate optimal portfolio weights\n",
    "\"\"\"\n",
    "function OptimalPortfolio(μ,Σ,Rf,k)           \n",
    "    μᵉ    = μ .- Rf                           #expected excess returns            \n",
    "    v     = inv(Σ) * μᵉ/k                     #optimal weights risky assets, 1-sum(v) in riskfree   \n",
    "    mup   = v'μ + (1-sum(v))*Rf               #expected return and std of optimal portfolio\n",
    "    StdRp = sqrt(v'Σ*v)\n",
    "    return v,mup,StdRp\n",
    "end "
   ]
  },
  {
   "cell_type": "markdown",
   "metadata": {},
   "source": [
    "## An Example with 2 Risky Assets (and a Riskfree)"
   ]
  },
  {
   "cell_type": "code",
   "execution_count": 5,
   "metadata": {},
   "outputs": [
    {
     "data": {
      "text/plain": [
       "0.03"
      ]
     },
     "execution_count": 5,
     "metadata": {},
     "output_type": "execute_result"
    }
   ],
   "source": [
    "μ = [8.5; 6.5]/100                     #means\n",
    "Σ = [ 166  34;                         #covariance matrix \n",
    "      34    64]/100^2\n",
    "Rf = 3/100                             #riskfree rate"
   ]
  },
  {
   "cell_type": "code",
   "execution_count": 6,
   "metadata": {},
   "outputs": [
    {
     "name": "stdout",
     "output_type": "stream",
     "text": [
      "\u001b[34m\u001b[1moptimal portfolio weights on risky assets and riskfree when k = 9:\u001b[22m\u001b[39m\n",
      "                  \n",
      "Asset 1      0.273\n",
      "Asset 2      0.462\n",
      "Riskfree     0.264\n",
      "\n",
      "\u001b[34m\u001b[1moptimal portfolio weights on risky assets/their sum:\u001b[22m\u001b[39m\n",
      "                  \n",
      "Asset 1      0.372\n",
      "Asset 2      0.628\n",
      "\n",
      "\u001b[34m\u001b[1mTangency portfolio:\u001b[22m\u001b[39m\n",
      "                  \n",
      "Asset 1      0.372\n",
      "Asset 2      0.628\n",
      "\n"
     ]
    }
   ],
   "source": [
    "k = 9\n",
    "vOpt, = OptimalPortfolio(μ,Σ,Rf,k)         #find optimal portfolio\n",
    "\n",
    "rowNames = [\"Asset 1\",\"Asset 2\",\"Riskfree\"]\n",
    "\n",
    "printblue(\"optimal portfolio weights on risky assets and riskfree when k = $k:\")\n",
    "printTable([vOpt;(1-sum(vOpt))],[\"\"],rowNames)\n",
    "\n",
    "printblue(\"optimal portfolio weights on risky assets/their sum:\")\n",
    "printTable(vOpt/sum(vOpt),[\"\"],rowNames)\n",
    "\n",
    "wT, = MVTangencyP(μ,Σ,Rf)\n",
    "printblue(\"Tangency portfolio:\")\n",
    "printTable(wT,[\"\"],rowNames)"
   ]
  },
  {
   "cell_type": "markdown",
   "metadata": {},
   "source": [
    "## An Example with 3 Risky Assets  (and a Riskfree)"
   ]
  },
  {
   "cell_type": "code",
   "execution_count": 7,
   "metadata": {},
   "outputs": [
    {
     "data": {
      "text/plain": [
       "0.03"
      ]
     },
     "execution_count": 7,
     "metadata": {},
     "output_type": "execute_result"
    }
   ],
   "source": [
    "μ = [11.5; 9.5; 6]/100          \n",
    "Σ  = [166  34  58;              \n",
    "       34  64   4;\n",
    "       58   4 100]/100^2                  \n",
    "Rf = 0.03"
   ]
  },
  {
   "cell_type": "code",
   "execution_count": 8,
   "metadata": {},
   "outputs": [
    {
     "name": "stdout",
     "output_type": "stream",
     "text": [
      "\u001b[34m\u001b[1moptimal portfolio weights\u001b[22m\u001b[39m\n",
      "                 D         E\n",
      "Asset 1      0.110     0.350\n",
      "Asset 2      0.302     0.962\n",
      "Asset 3      0.031     0.099\n",
      "Riskfree     0.556    -0.411\n",
      "\n",
      "\u001b[34m\u001b[1moptimal weights/tangency portfolio\u001b[22m\u001b[39m\n",
      "                 D         E\n",
      "Asset 1      0.444     1.411\n",
      "Asset 2      0.444     1.411\n",
      "Asset 3      0.444     1.411\n",
      "\n"
     ]
    }
   ],
   "source": [
    "(vD,muD,StdD) = OptimalPortfolio(μ,Σ,Rf,28)        #high risk aversion\n",
    "(vE,muE,StdE) = OptimalPortfolio(μ,Σ,Rf,8.8)       #low risk aversion\n",
    "\n",
    "(wT,muT,StdT) = MVTangencyP(μ,Σ,Rf)                #tangency portfolio\n",
    "\n",
    "rowNames = [\"Asset 1\",\"Asset 2\",\"Asset 3\",\"Riskfree\"]\n",
    "\n",
    "printblue(\"optimal portfolio weights\")\n",
    "xx = hcat([vD;(1-sum(vD))],[vE;(1-sum(vE))])\n",
    "printTable(xx,[\"D\",\"E\"],rowNames)\n",
    "\n",
    "printblue(\"optimal weights/tangency portfolio\")\n",
    "xx = [vD vE]./wT\n",
    "printTable(xx,[\"D\",\"E\"],rowNames)"
   ]
  },
  {
   "cell_type": "code",
   "execution_count": 9,
   "metadata": {},
   "outputs": [],
   "source": [
    "μstar = range(Rf,stop=0.15,length=101)\n",
    "L     = length(μstar)\n",
    "\n",
    "StdRp = fill(NaN,(L,2))                 #loop over required average returns (μstar)\n",
    "for i = 1:L\n",
    "    StdRp[i,1] = MVCalc(μstar[i],μ,Σ)[1]           #risky only\n",
    "    StdRp[i,2] = MVCalcRf(μstar[i],μ,Σ,Rf)[1]      #risky and riskfree\n",
    "end"
   ]
  },
  {
   "cell_type": "code",
   "execution_count": 10,
   "metadata": {},
   "outputs": [
    {
     "data": {
      "image/svg+xml": [
       "<?xml version=\"1.0\" encoding=\"utf-8\"?>\n",
       "<svg xmlns=\"http://www.w3.org/2000/svg\" xmlns:xlink=\"http://www.w3.org/1999/xlink\" width=\"480\" height=\"320\" viewBox=\"0 0 1920 1280\">\n",
       "<defs>\n",
       "  <clipPath id=\"clip0900\">\n",
       "    <rect x=\"0\" y=\"0\" width=\"1920\" height=\"1280\"/>\n",
       "  </clipPath>\n",
       "</defs>\n",
       "<polygon clip-path=\"url(#clip0900)\" points=\"\n",
       "0,1280 1920,1280 1920,0 0,0 \n",
       "  \" fill=\"#ffffff\" fill-rule=\"evenodd\" fill-opacity=\"1\"/>\n",
       "<defs>\n",
       "  <clipPath id=\"clip0901\">\n",
       "    <rect x=\"384\" y=\"0\" width=\"1345\" height=\"1280\"/>\n",
       "  </clipPath>\n",
       "</defs>\n",
       "<polygon clip-path=\"url(#clip0900)\" points=\"\n",
       "202.373,1105.62 1872.76,1105.62 1872.76,121.675 202.373,121.675 \n",
       "  \" fill=\"#ffffff\" fill-rule=\"evenodd\" fill-opacity=\"1\"/>\n",
       "<defs>\n",
       "  <clipPath id=\"clip0902\">\n",
       "    <rect x=\"202\" y=\"121\" width=\"1671\" height=\"985\"/>\n",
       "  </clipPath>\n",
       "</defs>\n",
       "<polyline clip-path=\"url(#clip0902)\" style=\"stroke:#000000; stroke-width:2; stroke-opacity:0.1; fill:none\" points=\"\n",
       "  202.373,1105.62 202.373,121.675 \n",
       "  \"/>\n",
       "<polyline clip-path=\"url(#clip0902)\" style=\"stroke:#000000; stroke-width:2; stroke-opacity:0.1; fill:none\" points=\"\n",
       "  759.167,1105.62 759.167,121.675 \n",
       "  \"/>\n",
       "<polyline clip-path=\"url(#clip0902)\" style=\"stroke:#000000; stroke-width:2; stroke-opacity:0.1; fill:none\" points=\"\n",
       "  1315.96,1105.62 1315.96,121.675 \n",
       "  \"/>\n",
       "<polyline clip-path=\"url(#clip0902)\" style=\"stroke:#000000; stroke-width:2; stroke-opacity:0.1; fill:none\" points=\"\n",
       "  1872.76,1105.62 1872.76,121.675 \n",
       "  \"/>\n",
       "<polyline clip-path=\"url(#clip0902)\" style=\"stroke:#000000; stroke-width:2; stroke-opacity:0.1; fill:none\" points=\"\n",
       "  202.373,1105.62 1872.76,1105.62 \n",
       "  \"/>\n",
       "<polyline clip-path=\"url(#clip0902)\" style=\"stroke:#000000; stroke-width:2; stroke-opacity:0.1; fill:none\" points=\"\n",
       "  202.373,777.637 1872.76,777.637 \n",
       "  \"/>\n",
       "<polyline clip-path=\"url(#clip0902)\" style=\"stroke:#000000; stroke-width:2; stroke-opacity:0.1; fill:none\" points=\"\n",
       "  202.373,449.656 1872.76,449.656 \n",
       "  \"/>\n",
       "<polyline clip-path=\"url(#clip0902)\" style=\"stroke:#000000; stroke-width:2; stroke-opacity:0.1; fill:none\" points=\"\n",
       "  202.373,121.675 1872.76,121.675 \n",
       "  \"/>\n",
       "<polyline clip-path=\"url(#clip0900)\" style=\"stroke:#000000; stroke-width:4; stroke-opacity:1; fill:none\" points=\"\n",
       "  202.373,1105.62 1872.76,1105.62 \n",
       "  \"/>\n",
       "<polyline clip-path=\"url(#clip0900)\" style=\"stroke:#000000; stroke-width:4; stroke-opacity:1; fill:none\" points=\"\n",
       "  202.373,1105.62 202.373,121.675 \n",
       "  \"/>\n",
       "<polyline clip-path=\"url(#clip0900)\" style=\"stroke:#000000; stroke-width:4; stroke-opacity:1; fill:none\" points=\"\n",
       "  202.373,1105.62 202.373,1090.86 \n",
       "  \"/>\n",
       "<polyline clip-path=\"url(#clip0900)\" style=\"stroke:#000000; stroke-width:4; stroke-opacity:1; fill:none\" points=\"\n",
       "  759.167,1105.62 759.167,1090.86 \n",
       "  \"/>\n",
       "<polyline clip-path=\"url(#clip0900)\" style=\"stroke:#000000; stroke-width:4; stroke-opacity:1; fill:none\" points=\"\n",
       "  1315.96,1105.62 1315.96,1090.86 \n",
       "  \"/>\n",
       "<polyline clip-path=\"url(#clip0900)\" style=\"stroke:#000000; stroke-width:4; stroke-opacity:1; fill:none\" points=\"\n",
       "  1872.76,1105.62 1872.76,1090.86 \n",
       "  \"/>\n",
       "<polyline clip-path=\"url(#clip0900)\" style=\"stroke:#000000; stroke-width:4; stroke-opacity:1; fill:none\" points=\"\n",
       "  202.373,1105.62 227.429,1105.62 \n",
       "  \"/>\n",
       "<polyline clip-path=\"url(#clip0900)\" style=\"stroke:#000000; stroke-width:4; stroke-opacity:1; fill:none\" points=\"\n",
       "  202.373,777.637 227.429,777.637 \n",
       "  \"/>\n",
       "<polyline clip-path=\"url(#clip0900)\" style=\"stroke:#000000; stroke-width:4; stroke-opacity:1; fill:none\" points=\"\n",
       "  202.373,449.656 227.429,449.656 \n",
       "  \"/>\n",
       "<polyline clip-path=\"url(#clip0900)\" style=\"stroke:#000000; stroke-width:4; stroke-opacity:1; fill:none\" points=\"\n",
       "  202.373,121.675 227.429,121.675 \n",
       "  \"/>\n",
       "<g clip-path=\"url(#clip0900)\">\n",
       "<text style=\"fill:#000000; fill-opacity:1; font-family:Arial,Helvetica Neue,Helvetica,sans-serif; font-size:48px; text-anchor:middle;\" transform=\"rotate(0, 202.373, 1157.22)\" x=\"202.373\" y=\"1157.22\">0</text>\n",
       "</g>\n",
       "<g clip-path=\"url(#clip0900)\">\n",
       "<text style=\"fill:#000000; fill-opacity:1; font-family:Arial,Helvetica Neue,Helvetica,sans-serif; font-size:48px; text-anchor:middle;\" transform=\"rotate(0, 759.167, 1157.22)\" x=\"759.167\" y=\"1157.22\">5</text>\n",
       "</g>\n",
       "<g clip-path=\"url(#clip0900)\">\n",
       "<text style=\"fill:#000000; fill-opacity:1; font-family:Arial,Helvetica Neue,Helvetica,sans-serif; font-size:48px; text-anchor:middle;\" transform=\"rotate(0, 1315.96, 1157.22)\" x=\"1315.96\" y=\"1157.22\">10</text>\n",
       "</g>\n",
       "<g clip-path=\"url(#clip0900)\">\n",
       "<text style=\"fill:#000000; fill-opacity:1; font-family:Arial,Helvetica Neue,Helvetica,sans-serif; font-size:48px; text-anchor:middle;\" transform=\"rotate(0, 1872.76, 1157.22)\" x=\"1872.76\" y=\"1157.22\">15</text>\n",
       "</g>\n",
       "<g clip-path=\"url(#clip0900)\">\n",
       "<text style=\"fill:#000000; fill-opacity:1; font-family:Arial,Helvetica Neue,Helvetica,sans-serif; font-size:48px; text-anchor:end;\" transform=\"rotate(0, 183.173, 1123.12)\" x=\"183.173\" y=\"1123.12\">0</text>\n",
       "</g>\n",
       "<g clip-path=\"url(#clip0900)\">\n",
       "<text style=\"fill:#000000; fill-opacity:1; font-family:Arial,Helvetica Neue,Helvetica,sans-serif; font-size:48px; text-anchor:end;\" transform=\"rotate(0, 183.173, 795.137)\" x=\"183.173\" y=\"795.137\">5</text>\n",
       "</g>\n",
       "<g clip-path=\"url(#clip0900)\">\n",
       "<text style=\"fill:#000000; fill-opacity:1; font-family:Arial,Helvetica Neue,Helvetica,sans-serif; font-size:48px; text-anchor:end;\" transform=\"rotate(0, 183.173, 467.156)\" x=\"183.173\" y=\"467.156\">10</text>\n",
       "</g>\n",
       "<g clip-path=\"url(#clip0900)\">\n",
       "<text style=\"fill:#000000; fill-opacity:1; font-family:Arial,Helvetica Neue,Helvetica,sans-serif; font-size:48px; text-anchor:end;\" transform=\"rotate(0, 183.173, 139.175)\" x=\"183.173\" y=\"139.175\">15</text>\n",
       "</g>\n",
       "<g clip-path=\"url(#clip0900)\">\n",
       "<text style=\"fill:#000000; fill-opacity:1; font-family:Arial,Helvetica Neue,Helvetica,sans-serif; font-size:84px; text-anchor:middle;\" transform=\"rotate(0, 1037.56, 73.2)\" x=\"1037.56\" y=\"73.2\">Mean vs standard deviation</text>\n",
       "</g>\n",
       "<g clip-path=\"url(#clip0900)\">\n",
       "<text style=\"fill:#000000; fill-opacity:1; font-family:Arial,Helvetica Neue,Helvetica,sans-serif; font-size:66px; text-anchor:middle;\" transform=\"rotate(0, 1037.56, 1234.68)\" x=\"1037.56\" y=\"1234.68\">Std(Rp), %</text>\n",
       "</g>\n",
       "<g clip-path=\"url(#clip0900)\">\n",
       "<text style=\"fill:#000000; fill-opacity:1; font-family:Arial,Helvetica Neue,Helvetica,sans-serif; font-size:66px; text-anchor:middle;\" transform=\"rotate(-90, 98.8861, 613.647)\" x=\"98.8861\" y=\"613.647\">ERp, %</text>\n",
       "</g>\n",
       "<polyline clip-path=\"url(#clip0902)\" style=\"stroke:#ff0000; stroke-width:4; stroke-opacity:1; fill:none\" points=\"\n",
       "  1632.58,908.83 1607.23,900.958 1582.04,893.087 1557.01,885.215 1532.16,877.344 1507.49,869.472 1483.02,861.601 1458.76,853.729 1434.71,845.858 1410.9,837.986 \n",
       "  1387.34,830.114 1364.04,822.243 1341.01,814.371 1318.28,806.5 1295.87,798.628 1273.79,790.757 1252.06,782.885 1230.71,775.014 1209.76,767.142 1189.24,759.271 \n",
       "  1169.17,751.399 1149.58,743.527 1130.5,735.656 1111.97,727.784 1094.02,719.913 1076.69,712.041 1060,704.17 1044.01,696.298 1028.75,688.427 1014.26,680.555 \n",
       "  1000.58,672.683 987.764,664.812 975.845,656.94 964.867,649.069 954.871,641.197 945.898,633.326 937.985,625.454 931.166,617.583 925.472,609.711 920.93,601.84 \n",
       "  917.562,593.968 915.385,586.096 914.409,578.225 914.639,570.353 916.075,562.482 918.709,554.61 922.528,546.739 927.513,538.867 933.64,530.996 940.881,523.124 \n",
       "  949.203,515.253 958.572,507.381 968.947,499.509 980.29,491.638 992.558,483.766 1005.71,475.895 1019.7,468.023 1034.49,460.152 1050.04,452.28 1066.3,444.409 \n",
       "  1083.24,436.537 1100.81,428.666 1118.99,420.794 1137.73,412.922 1157,405.051 1176.78,397.179 1197.02,389.308 1217.71,381.436 1238.82,373.565 1260.32,365.693 \n",
       "  1282.18,357.822 1304.39,349.95 1326.93,342.078 1349.77,334.207 1372.91,326.335 1396.31,318.464 1419.97,310.592 1443.87,302.721 1468,294.849 1492.35,286.978 \n",
       "  1516.89,279.106 1541.63,271.235 1566.55,263.363 1591.64,255.491 1616.9,247.62 1642.31,239.748 1667.86,231.877 1693.56,224.005 1719.38,216.134 1745.33,208.262 \n",
       "  1771.4,200.391 1797.58,192.519 1823.87,184.648 1850.26,176.776 1876.75,168.904 1903.33,161.033 1930,153.161 1956.75,145.29 1983.58,137.418 2010.5,129.547 \n",
       "  2037.48,121.675 \n",
       "  \"/>\n",
       "<polyline clip-path=\"url(#clip0902)\" style=\"stroke:#0000ff; stroke-width:4; stroke-opacity:1; fill:none\" points=\"\n",
       "  202.373,908.83 216.968,900.958 231.562,893.087 246.157,885.215 260.752,877.344 275.346,869.472 289.941,861.601 304.536,853.729 319.131,845.858 333.725,837.986 \n",
       "  348.32,830.114 362.915,822.243 377.51,814.371 392.104,806.5 406.699,798.628 421.294,790.757 435.888,782.885 450.483,775.014 465.078,767.142 479.673,759.271 \n",
       "  494.267,751.399 508.862,743.527 523.457,735.656 538.051,727.784 552.646,719.913 567.241,712.041 581.836,704.17 596.43,696.298 611.025,688.427 625.62,680.555 \n",
       "  640.214,672.683 654.809,664.812 669.404,656.94 683.999,649.069 698.593,641.197 713.188,633.326 727.783,625.454 742.377,617.583 756.972,609.711 771.567,601.84 \n",
       "  786.162,593.968 800.756,586.096 815.351,578.225 829.946,570.353 844.54,562.482 859.135,554.61 873.73,546.739 888.325,538.867 902.919,530.996 917.514,523.124 \n",
       "  932.109,515.253 946.703,507.381 961.298,499.509 975.893,491.638 990.488,483.766 1005.08,475.895 1019.68,468.023 1034.27,460.152 1048.87,452.28 1063.46,444.409 \n",
       "  1078.06,436.537 1092.65,428.666 1107.25,420.794 1121.84,412.922 1136.43,405.051 1151.03,397.179 1165.62,389.308 1180.22,381.436 1194.81,373.565 1209.41,365.693 \n",
       "  1224,357.822 1238.6,349.95 1253.19,342.078 1267.79,334.207 1282.38,326.335 1296.98,318.464 1311.57,310.592 1326.17,302.721 1340.76,294.849 1355.36,286.978 \n",
       "  1369.95,279.106 1384.54,271.235 1399.14,263.363 1413.73,255.491 1428.33,247.62 1442.92,239.748 1457.52,231.877 1472.11,224.005 1486.71,216.134 1501.3,208.262 \n",
       "  1515.9,200.391 1530.49,192.519 1545.09,184.648 1559.68,176.776 1574.28,168.904 1588.87,161.033 1603.47,153.161 1618.06,145.29 1632.66,137.418 1647.25,129.547 \n",
       "  1661.84,121.675 \n",
       "  \"/>\n",
       "<circle clip-path=\"url(#clip0902)\" style=\"fill:#000000; stroke:none; fill-opacity:1\" cx=\"1637.13\" cy=\"351.262\" r=\"18\"/>\n",
       "<circle clip-path=\"url(#clip0902)\" style=\"fill:#ff0000; stroke:none; fill-opacity:1\" cx=\"1637.13\" cy=\"351.262\" r=\"14\"/>\n",
       "<circle clip-path=\"url(#clip0902)\" style=\"fill:#000000; stroke:none; fill-opacity:1\" cx=\"1093.24\" cy=\"482.454\" r=\"18\"/>\n",
       "<circle clip-path=\"url(#clip0902)\" style=\"fill:#ff0000; stroke:none; fill-opacity:1\" cx=\"1093.24\" cy=\"482.454\" r=\"14\"/>\n",
       "<circle clip-path=\"url(#clip0902)\" style=\"fill:#000000; stroke:none; fill-opacity:1\" cx=\"1315.96\" cy=\"712.041\" r=\"18\"/>\n",
       "<circle clip-path=\"url(#clip0902)\" style=\"fill:#ff0000; stroke:none; fill-opacity:1\" cx=\"1315.96\" cy=\"712.041\" r=\"14\"/>\n",
       "<polygon clip-path=\"url(#clip0902)\" style=\"fill:#000000; fill-opacity:1\" points=\"\n",
       "  566.52,692.43 561.82,705.95 547.5,706.25 558.92,714.91 554.76,728.61 566.52,720.43 578.28,728.61 574.12,714.91 585.54,706.25 571.22,705.95 \n",
       "  566.52,692.43 \n",
       "  \"/>\n",
       "<polygon clip-path=\"url(#clip0902)\" style=\"fill:#000000; fill-opacity:1\" points=\"\n",
       "  566.52,696.43 562.76,707.246 551.304,707.486 560.44,714.414 557.112,725.374 566.52,718.83 575.928,725.374 572.6,714.414 581.736,707.486 570.28,707.246 \n",
       "  566.52,696.43 \n",
       "  \"/>\n",
       "<polygon clip-path=\"url(#clip0902)\" style=\"fill:#000000; fill-opacity:1\" points=\"\n",
       "  1361.02,263.921 1356.32,277.441 1342,277.741 1353.42,286.401 1349.26,300.101 1361.02,291.921 1372.78,300.101 1368.62,286.401 1380.04,277.741 1365.72,277.441 \n",
       "  1361.02,263.921 \n",
       "  \"/>\n",
       "<polygon clip-path=\"url(#clip0902)\" style=\"fill:#000000; fill-opacity:1\" points=\"\n",
       "  1361.02,267.921 1357.26,278.737 1345.81,278.977 1354.94,285.905 1351.62,296.865 1361.02,290.321 1370.43,296.865 1367.1,285.905 1376.24,278.977 1364.78,278.737 \n",
       "  1361.02,267.921 \n",
       "  \"/>\n",
       "<polygon clip-path=\"url(#clip0902)\" style=\"fill:#000000; fill-opacity:1\" points=\"\n",
       "  1023.3,446.068 1003.3,486.068 1043.3,486.068 1023.3,446.068 \n",
       "  \"/>\n",
       "<polygon clip-path=\"url(#clip0902)\" style=\"fill:#0000ff; fill-opacity:1\" points=\"\n",
       "  1023.3,450.068 1007.3,482.068 1039.3,482.068 1023.3,450.068 \n",
       "  \"/>\n",
       "<polygon clip-path=\"url(#clip0900)\" points=\"\n",
       "259.973,357.835 647.299,357.835 647.299,176.395 259.973,176.395 \n",
       "  \" fill=\"#ffffff\" fill-rule=\"evenodd\" fill-opacity=\"1\"/>\n",
       "<polyline clip-path=\"url(#clip0900)\" style=\"stroke:#000000; stroke-width:4; stroke-opacity:1; fill:none\" points=\"\n",
       "  259.973,357.835 647.299,357.835 647.299,176.395 259.973,176.395 259.973,357.835 \n",
       "  \"/>\n",
       "<polygon clip-path=\"url(#clip0900)\" style=\"fill:#000000; fill-opacity:1\" points=\"\n",
       "  346.373,208.875 339.793,227.803 319.745,228.223 335.733,240.347 329.909,259.527 346.373,248.075 362.837,259.527 357.013,240.347 373.001,228.223 352.953,227.803 \n",
       "  346.373,208.875 \n",
       "  \"/>\n",
       "<polygon clip-path=\"url(#clip0900)\" style=\"fill:#000000; fill-opacity:1\" points=\"\n",
       "  346.373,212.875 340.733,229.099 323.549,229.459 337.253,239.851 332.261,256.291 346.373,246.475 360.485,256.291 355.493,239.851 369.197,229.459 352.013,229.099 \n",
       "  346.373,212.875 \n",
       "  \"/>\n",
       "<g clip-path=\"url(#clip0900)\">\n",
       "<text style=\"fill:#000000; fill-opacity:1; font-family:Arial,Helvetica Neue,Helvetica,sans-serif; font-size:48px; text-anchor:start;\" transform=\"rotate(0, 413.573, 254.375)\" x=\"413.573\" y=\"254.375\">optimal</text>\n",
       "</g>\n",
       "<polygon clip-path=\"url(#clip0900)\" style=\"fill:#000000; fill-opacity:1\" points=\"\n",
       "  346.373,269.355 318.373,325.355 374.373,325.355 346.373,269.355 \n",
       "  \"/>\n",
       "<polygon clip-path=\"url(#clip0900)\" style=\"fill:#0000ff; fill-opacity:1\" points=\"\n",
       "  346.373,273.355 322.373,321.355 370.373,321.355 346.373,273.355 \n",
       "  \"/>\n",
       "<g clip-path=\"url(#clip0900)\">\n",
       "<text style=\"fill:#000000; fill-opacity:1; font-family:Arial,Helvetica Neue,Helvetica,sans-serif; font-size:48px; text-anchor:start;\" transform=\"rotate(0, 413.573, 314.855)\" x=\"413.573\" y=\"314.855\">tangency</text>\n",
       "</g>\n",
       "</svg>\n"
      ]
     },
     "execution_count": 10,
     "metadata": {},
     "output_type": "execute_result"
    }
   ],
   "source": [
    "p1 = plot(StdRp[:,1]*100,μstar*100,label=\"\",color=:red,xlim=(0,15),ylim=(0,15))\n",
    "plot!(StdRp[:,2]*100,μstar*100,label=\"\",color=:blue)\n",
    "scatter!(sqrt.(diag(Σ))*100,μ*100,color=:red,label=\"\")\n",
    "scatter!([StdD,StdE]*100,[muD,muE]*100,color=:black,marker=:star,label=\"optimal\")\n",
    "scatter!([StdT]*100,[muT]*100,color=:blue,marker=:utriangle,label=\"tangency\",legend=:topleft)\n",
    "title!(\"Mean vs standard deviation\")\n",
    "xlabel!(\"Std(Rp), %\")\n",
    "ylabel!(\"ERp, %\")"
   ]
  },
  {
   "cell_type": "markdown",
   "metadata": {},
   "source": [
    "# Maximising the Sharpe Ratio (extra)\n",
    "\n",
    "The cells below defines the Sharpe ratio on a portfolio. To normalise the portfolio, the weights on the $n$ risky assets a forced to sum to one (by setting the weight on asset $n$ to be $1-\\sum_{i=1}^{n-1}w_{i}$). The optimization is over the $n-1$ first weights.\n",
    "\n",
    "The ```Optim``` package is used for the optimisation."
   ]
  },
  {
   "cell_type": "code",
   "execution_count": 11,
   "metadata": {},
   "outputs": [],
   "source": [
    "using Optim"
   ]
  },
  {
   "cell_type": "code",
   "execution_count": 12,
   "metadata": {},
   "outputs": [
    {
     "data": {
      "text/plain": [
       "SRFn (generic function with 1 method)"
      ]
     },
     "execution_count": 12,
     "metadata": {},
     "output_type": "execute_result"
    }
   ],
   "source": [
    "function SRFn(wa,μ,Σ,Rf)\n",
    "    v     = [wa;1-sum(wa)]                 \n",
    "    μᵉ    = μ .- Rf         #expected excess returns            \n",
    "    muep  = v'μᵉ\n",
    "    StdRp = sqrt(v'Σ*v)\n",
    "    SRp   = muep/StdRp\n",
    "    return SRp  \n",
    "end    "
   ]
  },
  {
   "cell_type": "code",
   "execution_count": 13,
   "metadata": {},
   "outputs": [
    {
     "name": "stdout",
     "output_type": "stream",
     "text": [
      "Tangency and optimal\n",
      "     0.248     0.248\n",
      "     0.682     0.682\n",
      "     0.070     0.070\n",
      "\n"
     ]
    }
   ],
   "source": [
    "Sol = optimize(wa -> -SRFn(wa,μ,Σ,Rf),zeros(2))  #maximise SR -> minimize -SR\n",
    "\n",
    "v = Optim.minimizer(Sol)\n",
    "v = [v;1-sum(v)]\n",
    "\n",
    "println(\"Tangency and optimal\")\n",
    "printmat([wT v])"
   ]
  },
  {
   "cell_type": "code",
   "execution_count": null,
   "metadata": {},
   "outputs": [],
   "source": []
  }
 ],
 "metadata": {
  "@webio": {
   "lastCommId": null,
   "lastKernelId": null
  },
  "anaconda-cloud": {},
  "kernelspec": {
   "display_name": "Julia 1.1.1",
   "language": "julia",
   "name": "julia-1.1"
  },
  "language_info": {
   "file_extension": ".jl",
   "mimetype": "application/julia",
   "name": "julia",
   "version": "1.1.1"
  }
 },
 "nbformat": 4,
 "nbformat_minor": 1
}
