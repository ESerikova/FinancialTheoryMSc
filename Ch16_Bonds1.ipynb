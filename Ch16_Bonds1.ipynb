{
 "cells": [
  {
   "cell_type": "markdown",
   "metadata": {},
   "source": [
    "## Load Packages"
   ]
  },
  {
   "cell_type": "code",
   "execution_count": 1,
   "metadata": {},
   "outputs": [
    {
     "data": {
      "text/plain": [
       "printTable2"
      ]
     },
     "execution_count": 1,
     "metadata": {},
     "output_type": "execute_result"
    }
   ],
   "source": [
    "using Dates, Roots\n",
    "\n",
    "include(\"jlFiles/printmat.jl\")\n",
    "include(\"jlFiles/printTable.jl\")"
   ]
  },
  {
   "cell_type": "code",
   "execution_count": 2,
   "metadata": {},
   "outputs": [],
   "source": [
    "using Plots\n",
    "\n",
    "#pyplot(size=(600,400))\n",
    "gr(size=(480,320))\n",
    "default(fmt = :svg)"
   ]
  },
  {
   "cell_type": "markdown",
   "metadata": {},
   "source": [
    "# Interest Rate vs (Zero Coupon) Bond Price"
   ]
  },
  {
   "cell_type": "markdown",
   "metadata": {},
   "source": [
    "Recall: the bond price (for maturity $m$) is a function of the effective interest rate\n",
    "\n",
    "$B(m) = [1+Y(m)]^{-m}$\n",
    "\n",
    "and the inverse is $Y(m) = B(m)^{-1/m} - 1$.\n",
    "\n",
    "Instead, with a continuously compounded interest rate we have \n",
    "\n",
    "$B(m) = e^{-m y(m)}$\n",
    "\n",
    "and $y(m) = -\\ln B(m)/m$."
   ]
  },
  {
   "cell_type": "code",
   "execution_count": 3,
   "metadata": {},
   "outputs": [
    {
     "data": {
      "text/plain": [
       "ContCompRate (generic function with 1 method)"
      ]
     },
     "execution_count": 3,
     "metadata": {},
     "output_type": "execute_result"
    }
   ],
   "source": [
    "BillPrice(Y,m) = (1+Y)^(-m)      #B as fn of Y\n",
    "EffRate(B,m)   = B^(-1/m) - 1    #Y as fn of B\n",
    "\n",
    "BillPrice2(y,m)   = exp(-m*y)    #B as fn of y\n",
    "ContCompRate(B,m) = -log(B)/m    #y as fn of B"
   ]
  },
  {
   "cell_type": "code",
   "execution_count": 4,
   "metadata": {},
   "outputs": [
    {
     "data": {
      "image/svg+xml": [
       "<?xml version=\"1.0\" encoding=\"utf-8\"?>\n",
       "<svg xmlns=\"http://www.w3.org/2000/svg\" xmlns:xlink=\"http://www.w3.org/1999/xlink\" width=\"480\" height=\"320\" viewBox=\"0 0 1920 1280\">\n",
       "<defs>\n",
       "  <clipPath id=\"clip7500\">\n",
       "    <rect x=\"0\" y=\"0\" width=\"1920\" height=\"1280\"/>\n",
       "  </clipPath>\n",
       "</defs>\n",
       "<path clip-path=\"url(#clip7500)\" d=\"\n",
       "M0 1280 L1920 1280 L1920 0 L0 0  Z\n",
       "  \" fill=\"#ffffff\" fill-rule=\"evenodd\" fill-opacity=\"1\"/>\n",
       "<defs>\n",
       "  <clipPath id=\"clip7501\">\n",
       "    <rect x=\"384\" y=\"0\" width=\"1345\" height=\"1280\"/>\n",
       "  </clipPath>\n",
       "</defs>\n",
       "<path clip-path=\"url(#clip7500)\" d=\"\n",
       "M215.754 1105.62 L1872.76 1105.62 L1872.76 121.675 L215.754 121.675  Z\n",
       "  \" fill=\"#ffffff\" fill-rule=\"evenodd\" fill-opacity=\"1\"/>\n",
       "<defs>\n",
       "  <clipPath id=\"clip7502\">\n",
       "    <rect x=\"215\" y=\"121\" width=\"1658\" height=\"985\"/>\n",
       "  </clipPath>\n",
       "</defs>\n",
       "<polyline clip-path=\"url(#clip7502)\" style=\"stroke:#000000; stroke-width:2; stroke-opacity:0.1; fill:none\" points=\"\n",
       "  262.65,1105.62 262.65,121.675 \n",
       "  \"/>\n",
       "<polyline clip-path=\"url(#clip7502)\" style=\"stroke:#000000; stroke-width:2; stroke-opacity:0.1; fill:none\" points=\"\n",
       "  709.282,1105.62 709.282,121.675 \n",
       "  \"/>\n",
       "<polyline clip-path=\"url(#clip7502)\" style=\"stroke:#000000; stroke-width:2; stroke-opacity:0.1; fill:none\" points=\"\n",
       "  1155.91,1105.62 1155.91,121.675 \n",
       "  \"/>\n",
       "<polyline clip-path=\"url(#clip7502)\" style=\"stroke:#000000; stroke-width:2; stroke-opacity:0.1; fill:none\" points=\"\n",
       "  1602.54,1105.62 1602.54,121.675 \n",
       "  \"/>\n",
       "<polyline clip-path=\"url(#clip7502)\" style=\"stroke:#000000; stroke-width:2; stroke-opacity:0.1; fill:none\" points=\"\n",
       "  215.754,1093.53 1872.76,1093.53 \n",
       "  \"/>\n",
       "<polyline clip-path=\"url(#clip7502)\" style=\"stroke:#000000; stroke-width:2; stroke-opacity:0.1; fill:none\" points=\"\n",
       "  215.754,904.732 1872.76,904.732 \n",
       "  \"/>\n",
       "<polyline clip-path=\"url(#clip7502)\" style=\"stroke:#000000; stroke-width:2; stroke-opacity:0.1; fill:none\" points=\"\n",
       "  215.754,715.93 1872.76,715.93 \n",
       "  \"/>\n",
       "<polyline clip-path=\"url(#clip7502)\" style=\"stroke:#000000; stroke-width:2; stroke-opacity:0.1; fill:none\" points=\"\n",
       "  215.754,527.127 1872.76,527.127 \n",
       "  \"/>\n",
       "<polyline clip-path=\"url(#clip7502)\" style=\"stroke:#000000; stroke-width:2; stroke-opacity:0.1; fill:none\" points=\"\n",
       "  215.754,338.325 1872.76,338.325 \n",
       "  \"/>\n",
       "<polyline clip-path=\"url(#clip7502)\" style=\"stroke:#000000; stroke-width:2; stroke-opacity:0.1; fill:none\" points=\"\n",
       "  215.754,149.523 1872.76,149.523 \n",
       "  \"/>\n",
       "<polyline clip-path=\"url(#clip7500)\" style=\"stroke:#000000; stroke-width:4; stroke-opacity:1; fill:none\" points=\"\n",
       "  215.754,1105.62 1872.76,1105.62 \n",
       "  \"/>\n",
       "<polyline clip-path=\"url(#clip7500)\" style=\"stroke:#000000; stroke-width:4; stroke-opacity:1; fill:none\" points=\"\n",
       "  215.754,1105.62 215.754,121.675 \n",
       "  \"/>\n",
       "<polyline clip-path=\"url(#clip7500)\" style=\"stroke:#000000; stroke-width:4; stroke-opacity:1; fill:none\" points=\"\n",
       "  262.65,1105.62 262.65,1090.86 \n",
       "  \"/>\n",
       "<polyline clip-path=\"url(#clip7500)\" style=\"stroke:#000000; stroke-width:4; stroke-opacity:1; fill:none\" points=\"\n",
       "  709.282,1105.62 709.282,1090.86 \n",
       "  \"/>\n",
       "<polyline clip-path=\"url(#clip7500)\" style=\"stroke:#000000; stroke-width:4; stroke-opacity:1; fill:none\" points=\"\n",
       "  1155.91,1105.62 1155.91,1090.86 \n",
       "  \"/>\n",
       "<polyline clip-path=\"url(#clip7500)\" style=\"stroke:#000000; stroke-width:4; stroke-opacity:1; fill:none\" points=\"\n",
       "  1602.54,1105.62 1602.54,1090.86 \n",
       "  \"/>\n",
       "<polyline clip-path=\"url(#clip7500)\" style=\"stroke:#000000; stroke-width:4; stroke-opacity:1; fill:none\" points=\"\n",
       "  215.754,1093.53 240.609,1093.53 \n",
       "  \"/>\n",
       "<polyline clip-path=\"url(#clip7500)\" style=\"stroke:#000000; stroke-width:4; stroke-opacity:1; fill:none\" points=\"\n",
       "  215.754,904.732 240.609,904.732 \n",
       "  \"/>\n",
       "<polyline clip-path=\"url(#clip7500)\" style=\"stroke:#000000; stroke-width:4; stroke-opacity:1; fill:none\" points=\"\n",
       "  215.754,715.93 240.609,715.93 \n",
       "  \"/>\n",
       "<polyline clip-path=\"url(#clip7500)\" style=\"stroke:#000000; stroke-width:4; stroke-opacity:1; fill:none\" points=\"\n",
       "  215.754,527.127 240.609,527.127 \n",
       "  \"/>\n",
       "<polyline clip-path=\"url(#clip7500)\" style=\"stroke:#000000; stroke-width:4; stroke-opacity:1; fill:none\" points=\"\n",
       "  215.754,338.325 240.609,338.325 \n",
       "  \"/>\n",
       "<polyline clip-path=\"url(#clip7500)\" style=\"stroke:#000000; stroke-width:4; stroke-opacity:1; fill:none\" points=\"\n",
       "  215.754,149.523 240.609,149.523 \n",
       "  \"/>\n",
       "<g clip-path=\"url(#clip7500)\">\n",
       "<text style=\"fill:#000000; fill-opacity:1; font-family:Arial,Helvetica Neue,Helvetica,sans-serif; font-size:48px; text-anchor:middle;\" transform=\"rotate(0, 262.65, 1157.22)\" x=\"262.65\" y=\"1157.22\">0.00</text>\n",
       "</g>\n",
       "<g clip-path=\"url(#clip7500)\">\n",
       "<text style=\"fill:#000000; fill-opacity:1; font-family:Arial,Helvetica Neue,Helvetica,sans-serif; font-size:48px; text-anchor:middle;\" transform=\"rotate(0, 709.282, 1157.22)\" x=\"709.282\" y=\"1157.22\">0.02</text>\n",
       "</g>\n",
       "<g clip-path=\"url(#clip7500)\">\n",
       "<text style=\"fill:#000000; fill-opacity:1; font-family:Arial,Helvetica Neue,Helvetica,sans-serif; font-size:48px; text-anchor:middle;\" transform=\"rotate(0, 1155.91, 1157.22)\" x=\"1155.91\" y=\"1157.22\">0.04</text>\n",
       "</g>\n",
       "<g clip-path=\"url(#clip7500)\">\n",
       "<text style=\"fill:#000000; fill-opacity:1; font-family:Arial,Helvetica Neue,Helvetica,sans-serif; font-size:48px; text-anchor:middle;\" transform=\"rotate(0, 1602.54, 1157.22)\" x=\"1602.54\" y=\"1157.22\">0.06</text>\n",
       "</g>\n",
       "<g clip-path=\"url(#clip7500)\">\n",
       "<text style=\"fill:#000000; fill-opacity:1; font-family:Arial,Helvetica Neue,Helvetica,sans-serif; font-size:48px; text-anchor:end;\" transform=\"rotate(0, 196.554, 1111.03)\" x=\"196.554\" y=\"1111.03\">0.5</text>\n",
       "</g>\n",
       "<g clip-path=\"url(#clip7500)\">\n",
       "<text style=\"fill:#000000; fill-opacity:1; font-family:Arial,Helvetica Neue,Helvetica,sans-serif; font-size:48px; text-anchor:end;\" transform=\"rotate(0, 196.554, 922.232)\" x=\"196.554\" y=\"922.232\">0.6</text>\n",
       "</g>\n",
       "<g clip-path=\"url(#clip7500)\">\n",
       "<text style=\"fill:#000000; fill-opacity:1; font-family:Arial,Helvetica Neue,Helvetica,sans-serif; font-size:48px; text-anchor:end;\" transform=\"rotate(0, 196.554, 733.43)\" x=\"196.554\" y=\"733.43\">0.7</text>\n",
       "</g>\n",
       "<g clip-path=\"url(#clip7500)\">\n",
       "<text style=\"fill:#000000; fill-opacity:1; font-family:Arial,Helvetica Neue,Helvetica,sans-serif; font-size:48px; text-anchor:end;\" transform=\"rotate(0, 196.554, 544.627)\" x=\"196.554\" y=\"544.627\">0.8</text>\n",
       "</g>\n",
       "<g clip-path=\"url(#clip7500)\">\n",
       "<text style=\"fill:#000000; fill-opacity:1; font-family:Arial,Helvetica Neue,Helvetica,sans-serif; font-size:48px; text-anchor:end;\" transform=\"rotate(0, 196.554, 355.825)\" x=\"196.554\" y=\"355.825\">0.9</text>\n",
       "</g>\n",
       "<g clip-path=\"url(#clip7500)\">\n",
       "<text style=\"fill:#000000; fill-opacity:1; font-family:Arial,Helvetica Neue,Helvetica,sans-serif; font-size:48px; text-anchor:end;\" transform=\"rotate(0, 196.554, 167.023)\" x=\"196.554\" y=\"167.023\">1.0</text>\n",
       "</g>\n",
       "<g clip-path=\"url(#clip7500)\">\n",
       "<text style=\"fill:#000000; fill-opacity:1; font-family:Arial,Helvetica Neue,Helvetica,sans-serif; font-size:84px; text-anchor:middle;\" transform=\"rotate(0, 1044.25, 73.2)\" x=\"1044.25\" y=\"73.2\">Bond prices and rates</text>\n",
       "</g>\n",
       "<g clip-path=\"url(#clip7500)\">\n",
       "<text style=\"fill:#000000; fill-opacity:1; font-family:Arial,Helvetica Neue,Helvetica,sans-serif; font-size:66px; text-anchor:middle;\" transform=\"rotate(0, 1044.25, 1234.68)\" x=\"1044.25\" y=\"1234.68\">Interest rate</text>\n",
       "</g>\n",
       "<g clip-path=\"url(#clip7500)\">\n",
       "<text style=\"fill:#000000; fill-opacity:1; font-family:Arial,Helvetica Neue,Helvetica,sans-serif; font-size:66px; text-anchor:middle;\" transform=\"rotate(-90, 98.8861, 613.647)\" x=\"98.8861\" y=\"613.647\">Bond price</text>\n",
       "</g>\n",
       "<polyline clip-path=\"url(#clip7502)\" style=\"stroke:#ff0000; stroke-width:8; stroke-opacity:1; fill:none\" points=\"\n",
       "  262.65,149.523 485.966,168.216 709.282,186.543 932.597,204.514 1155.91,222.139 1379.23,239.429 1602.54,256.392 1825.86,273.038 \n",
       "  \"/>\n",
       "<polyline clip-path=\"url(#clip7502)\" style=\"stroke:#008000; stroke-width:8; stroke-opacity:1; fill:none\" stroke-dasharray=\"32, 20\" points=\"\n",
       "  262.65,149.523 485.966,328.343 709.282,488.709 932.597,632.68 1155.91,762.065 1379.23,878.464 1602.54,983.284 1825.86,1077.77 \n",
       "  \"/>\n",
       "<path clip-path=\"url(#clip7500)\" d=\"\n",
       "M1545.56 848.508 L1815.16 848.508 L1815.16 667.068 L1545.56 667.068  Z\n",
       "  \" fill=\"#ffffff\" fill-rule=\"evenodd\" fill-opacity=\"1\"/>\n",
       "<polyline clip-path=\"url(#clip7500)\" style=\"stroke:#000000; stroke-width:4; stroke-opacity:1; fill:none\" points=\"\n",
       "  1545.56,848.508 1815.16,848.508 1815.16,667.068 1545.56,667.068 1545.56,848.508 \n",
       "  \"/>\n",
       "<polyline clip-path=\"url(#clip7500)\" style=\"stroke:#ff0000; stroke-width:8; stroke-opacity:1; fill:none\" points=\"\n",
       "  1564.76,727.548 1679.96,727.548 \n",
       "  \"/>\n",
       "<g clip-path=\"url(#clip7500)\">\n",
       "<text style=\"fill:#000000; fill-opacity:1; font-family:Arial,Helvetica Neue,Helvetica,sans-serif; font-size:48px; text-anchor:start;\" transform=\"rotate(0, 1699.16, 745.048)\" x=\"1699.16\" y=\"745.048\">1y</text>\n",
       "</g>\n",
       "<polyline clip-path=\"url(#clip7500)\" style=\"stroke:#008000; stroke-width:8; stroke-opacity:1; fill:none\" stroke-dasharray=\"32, 20\" points=\"\n",
       "  1564.76,788.028 1679.96,788.028 \n",
       "  \"/>\n",
       "<g clip-path=\"url(#clip7500)\">\n",
       "<text style=\"fill:#000000; fill-opacity:1; font-family:Arial,Helvetica Neue,Helvetica,sans-serif; font-size:48px; text-anchor:start;\" transform=\"rotate(0, 1699.16, 805.528)\" x=\"1699.16\" y=\"805.528\">10y</text>\n",
       "</g>\n",
       "</svg>\n"
      ]
     },
     "execution_count": 4,
     "metadata": {},
     "output_type": "execute_result"
    }
   ],
   "source": [
    "Y_range = 0:0.01:0.07              #different interest rates\n",
    "B1      = BillPrice.(Y_range,1)    #prices, 1-year zero coupon bond \n",
    "B10     = BillPrice.(Y_range,10)   #10-year bond\n",
    "\n",
    "\n",
    "plot( Y_range,[B1 B10],\n",
    "      linecolor = [:red :green],\n",
    "      linestyle = [:solid :dash],\n",
    "      linewidth = 2,\n",
    "      label = [\"1y\" \"10y\"],\n",
    "      legend = :right,\n",
    "      title = \"Bond prices and rates\",\n",
    "      xlabel = \"Interest rate\",\n",
    "      ylabel = \"Bond price\" )"
   ]
  },
  {
   "cell_type": "code",
   "execution_count": 5,
   "metadata": {},
   "outputs": [
    {
     "name": "stdout",
     "output_type": "stream",
     "text": [
      "\u001b[34m\u001b[1mInterest rates (0.5-year bond with price 0.95):\u001b[22m\u001b[39m\n",
      "Effective and continuously compounded:      0.108     0.103\n"
     ]
    }
   ],
   "source": [
    "m  = 0.5                              #maturity\n",
    "B  = 0.95                             #bond price\n",
    "\n",
    "Y = EffRate(B,m)                      #effective interest rate\n",
    "y = ContCompRate(B,m)                 #continuously compounded interest rate\n",
    "\n",
    "printblue(\"Interest rates ($m-year bond with price $B):\")\n",
    "printlnPs(\"Effective and continuously compounded: \",Y,y)"
   ]
  },
  {
   "cell_type": "markdown",
   "metadata": {},
   "source": [
    "# Bond Returns (Zero Coupon Bonds)"
   ]
  },
  {
   "cell_type": "markdown",
   "metadata": {},
   "source": [
    "Let $B_0$ denote the price of a bond in period $0$ and $B_1$ the price of the same bond one period later. (For simplicity, we skip the notation for maturity.)\n",
    "\n",
    "The *log* return of holding this bond is $\\ln (B_1/B_0)$\n",
    "\n",
    "The cell below works with continuously compounded interest rates.\n",
    "\n",
    "In the computations below, the time to maturity is assumed to be the same in $t=0$ and $t=1$. This is a reasonable approximation if $t$ refers to days or perhaps weeks."
   ]
  },
  {
   "cell_type": "code",
   "execution_count": 6,
   "metadata": {},
   "outputs": [
    {
     "name": "stdout",
     "output_type": "stream",
     "text": [
      "\u001b[34m\u001b[1mAnalysis of two bonds: 1y and 10y maturities\u001b[22m\u001b[39m\n",
      "                            1y            10y\n",
      "Rate, t=0                0.005          0.005\n",
      "Bond price, t=0          0.995          0.951\n",
      "Rate, t=1                0.015          0.015\n",
      "Bond price, t=1          0.985          0.861\n",
      "Return                  -0.010         -0.100\n",
      "\n"
     ]
    }
   ],
   "source": [
    "y₀ = 0.005                      #(continuously compounded) interest rate before\n",
    "y₁ = 0.015                      #interest rate after  \n",
    "\n",
    "B₀ = BillPrice2.(y₀,[1 10])     #bond prices (1-year and 10 year) before\n",
    "B₁ = BillPrice2.(y₁,[1 10])     #bond prices (1-year and 10 year) after\n",
    "\n",
    "R₁ = log.(B₁./B₀)                #return\n",
    "\n",
    "\n",
    "xy       = vcat([y₀ y₀],B₀,[y₁ y₁],B₁,R₁)               #to table\n",
    "rowNames = [\"Rate, t=0\";\"Bond price, t=0\";\"Rate, t=1\";\"Bond price, t=1\";\"Return\"]\n",
    "printblue(\"Analysis of two bonds: 1y and 10y maturities\")\n",
    "printTable(xy,[\"1y\";\"10y\"],rowNames,width=15)"
   ]
  },
  {
   "cell_type": "markdown",
   "metadata": {},
   "source": [
    "# Forward Rates"
   ]
  },
  {
   "cell_type": "markdown",
   "metadata": {},
   "source": [
    "From the forward-spot parity, the forward price of a bond (delivered in $m$ and maturing in $n$) is\n",
    "\n",
    "$F=\\left[  1+Y(m)\\right]  ^{m}B(n)=B(n)/B(m)$.\n",
    "\n",
    "A forward interest rate can then be defined as \n",
    "\n",
    "$\\Gamma(m,n)  =F^{-1/(n-m)}-1$"
   ]
  },
  {
   "cell_type": "code",
   "execution_count": 7,
   "metadata": {},
   "outputs": [
    {
     "data": {
      "text/plain": [
       "ForwardRate (generic function with 1 method)"
      ]
     },
     "execution_count": 7,
     "metadata": {},
     "output_type": "execute_result"
    }
   ],
   "source": [
    "function ForwardRate(Ym,m,Yn,n)           #forward rate, assuming n > m\n",
    "    Bm = (1+Ym)^(-m)\n",
    "    Bn = (1+Yn)^(-n)\n",
    "    F  = Bn/Bm\n",
    "    Γ  = F^(-1/(n-m)) - 1\n",
    "    return Γ\n",
    "end"
   ]
  },
  {
   "cell_type": "code",
   "execution_count": 8,
   "metadata": {},
   "outputs": [
    {
     "name": "stdout",
     "output_type": "stream",
     "text": [
      "\n",
      "Implied forward rate (from 0.5 to 0.75 years ahead):      0.070\n"
     ]
    }
   ],
   "source": [
    "m  = 0.5\n",
    "n  = 0.75\n",
    "Ym = 0.04\n",
    "Yn = 0.05\n",
    "\n",
    "Γ = ForwardRate(Ym,m,Yn,n)\n",
    "printlnPs(\"\\nImplied forward rate (from $m to $n years ahead): \",Γ)"
   ]
  },
  {
   "cell_type": "markdown",
   "metadata": {},
   "source": [
    "# Coupon Bond Prices"
   ]
  },
  {
   "cell_type": "markdown",
   "metadata": {},
   "source": [
    "Recall, the coupon bond price $P$ is the portfolio value of \n",
    "\n",
    "$P = \\sum_{k=1}^{K} B(m_k)cf_k$,\n",
    "\n",
    "where $cf_k$ is the cash flow in $m_k$ and $B(m_k)$ is the price of a zero-coupon bond maturing in $m_k$."
   ]
  },
  {
   "cell_type": "code",
   "execution_count": 9,
   "metadata": {},
   "outputs": [
    {
     "name": "stdout",
     "output_type": "stream",
     "text": [
      "2y bond with 0.06 coupon, zero-coupon prices are      0.950     0.900\n",
      "Coupon bond price      1.011\n"
     ]
    }
   ],
   "source": [
    "B  = [0.95,0.9]             #B(1),B(2)\n",
    "c  = 0.06\n",
    "cf = [c,1+c]            #cash flows in m=1 and 2\n",
    "\n",
    "P = sum(B.*cf)\n",
    "\n",
    "printlnPs(\"2y bond with $c coupon, zero-coupon prices are \",B')\n",
    "printlnPs(\"Coupon bond price \",P)"
   ]
  },
  {
   "cell_type": "markdown",
   "metadata": {},
   "source": [
    "The bond price can also be written\n",
    "\n",
    "$P = \\sum_{k=1}^{K} \\frac{cf_{k}}{\\left[  1+Y(m_{k})\\right]  ^{m_{k}}}$\n",
    "\n",
    "The ```BondPrice3(Y,cf,m)``` function below can handle both the case when $Y$ is a vector with different values for different maturities and when Y is a scalar (same interest rate for all maturities)."
   ]
  },
  {
   "cell_type": "code",
   "execution_count": 10,
   "metadata": {},
   "outputs": [
    {
     "data": {
      "text/plain": [
       "BondPrice3"
      ]
     },
     "execution_count": 10,
     "metadata": {},
     "output_type": "execute_result"
    }
   ],
   "source": [
    "\"\"\"\n",
    "Y:  scalar or K vector of interest rates\n",
    "cf: scalar or K vector of cash flows\n",
    "m: K vector of times for the cash flows\n",
    "\"\"\"\n",
    "function BondPrice3(Y,cf,m)              #cf is a vector of all cash flows at times m\n",
    "    cdisc = cf./((Y.+1).^m)                #c/(1+y1)^m1, c/(1+y2)^m2 + ...\n",
    "    P     = sum(cdisc)                     #price\n",
    "    return P\n",
    "end"
   ]
  },
  {
   "cell_type": "code",
   "execution_count": 11,
   "metadata": {},
   "outputs": [
    {
     "name": "stdout",
     "output_type": "stream",
     "text": [
      "\n",
      "\u001b[34m\u001b[1m2y bond with 0.06 coupon:\u001b[22m\u001b[39m\n",
      "                           \n",
      "1y spot rate          0.053\n",
      "2y spot rate          0.054\n",
      "coupon bond price     1.011\n",
      "\n",
      "\n",
      "\u001b[34m\u001b[1m2y bond with 0.09 coupon (in a case with different spot rates):\u001b[22m\u001b[39m\n",
      "                           \n",
      "1y spot rate          0.060\n",
      "2y spot rate          0.091\n",
      "coupon bond price     1.001\n",
      "\n"
     ]
    }
   ],
   "source": [
    "Y = [0.053;0.054]\n",
    "c = 0.06\n",
    "P =  BondPrice3(Y,[c;c+1],[1;2])\n",
    "printblue(\"\\n2y bond with $c coupon:\")\n",
    "printTable([Y;P],[\"\"],[\"1y spot rate\",\"2y spot rate\",\"coupon bond price\"])\n",
    "\n",
    "\n",
    "Y = [0.06;0.091]\n",
    "c = 0.09\n",
    "P =  BondPrice3(Y,[c;c+1],[1;2])\n",
    "printblue(\"\\n2y bond with $c coupon (in a case with different spot rates):\")\n",
    "printTable([Y;P],[\"\"],[\"1y spot rate\",\"2y spot rate\",\"coupon bond price\"])"
   ]
  },
  {
   "cell_type": "markdown",
   "metadata": {
    "collapsed": true
   },
   "source": [
    "# Yield to Maturity"
   ]
  },
  {
   "cell_type": "markdown",
   "metadata": {},
   "source": [
    "The yield to maturity is the $\\theta$ that solves\n",
    "\n",
    "$P = \\sum_{k=1}^{K} \\frac{cf_{k}}{(1+\\theta)  ^{m_{k}}}$\n",
    "\n",
    "We typically have to find $\\theta$ by a numerical method."
   ]
  },
  {
   "cell_type": "code",
   "execution_count": 12,
   "metadata": {},
   "outputs": [
    {
     "name": "stdout",
     "output_type": "stream",
     "text": [
      "\u001b[34m\u001b[1mPrice and ytm of 2-year 0.04 coupon bond when all spot rates are 0.03:\u001b[22m\u001b[39m\n",
      "               \n",
      "price     1.019\n",
      "ytm       0.030\n",
      "\n"
     ]
    }
   ],
   "source": [
    "c = 0.04                   #simple case\n",
    "Y = 0.03                   #all spot rates are 3%\n",
    "\n",
    "P = BondPrice3(Y,[c;c+1],[1;2])\n",
    "ytm = find_zero(y->BondPrice3(y,[c;c+1],[1;2])-P,(-0.1,0.1))   #solving for ytm\n",
    "\n",
    "printblue(\"Price and ytm of 2-year $c coupon bond when all spot rates are $Y:\")\n",
    "printTable([P,ytm],[\"\"],[\"price\",\"ytm\"])"
   ]
  },
  {
   "cell_type": "code",
   "execution_count": 13,
   "metadata": {},
   "outputs": [
    {
     "name": "stdout",
     "output_type": "stream",
     "text": [
      "\u001b[34m\u001b[1mA \"bond\" paying 1 in both t=1 and in t=2\u001b[22m\u001b[39m\n",
      "                      \n",
      "1y spot rate     0.070\n",
      "2y spot rate     0.100\n",
      "ytm              0.091\n",
      "\n"
     ]
    }
   ],
   "source": [
    "m  = [1;3]                #more advanced case, cash flow in year 1 and 3\n",
    "Y  = [0.07;0.10]          #spot interest rates differ across maturities\n",
    "cf = [1;1]\n",
    "\n",
    "P  = BondPrice3(Y,c,m)\n",
    "ytm = find_zero(y->BondPrice3(y,c,m)-P,(-0.2,0.2))\n",
    "\n",
    "printblue(\"\"\"A \"bond\" paying 1 in both t=1 and in t=2\"\"\")\n",
    "printTable([Y;ytm],[\"\"],[\"1y spot rate\",\"2y spot rate\",\"ytm\"])"
   ]
  },
  {
   "cell_type": "markdown",
   "metadata": {},
   "source": [
    "# Bootstrapping (extra)"
   ]
  },
  {
   "cell_type": "markdown",
   "metadata": {},
   "source": [
    "Recall: with information about coupons $c(k)$ and coupon bond price $P(m)$, we solve for the implied zero coupon bond prices $B(s)$ from\n",
    "\n",
    "$\n",
    "\\begin{bmatrix}\n",
    "P(1)\\\\\n",
    "P(2)\n",
    "\\end{bmatrix} =\n",
    "\\begin{bmatrix}\n",
    "c(1)+1 & 0 \\\\\n",
    "c(2) & c(2)+1\n",
    "\\end{bmatrix}\n",
    "\\begin{bmatrix}\n",
    "B(1)\\\\\n",
    "B(2)\n",
    "\\end{bmatrix}\n",
    "$"
   ]
  },
  {
   "cell_type": "code",
   "execution_count": 14,
   "metadata": {},
   "outputs": [
    {
     "name": "stdout",
     "output_type": "stream",
     "text": [
      "The cash flow matrix\n",
      "            mk=1      mk=2\n",
      "Bond 1     1.000     0.000\n",
      "Bond 2     0.060     1.060\n",
      "\n",
      "B from solving P = cfMat*B (implied zero-coupon bond prices):\n",
      "     0.950\n",
      "     0.899\n",
      "\n",
      "Implied spot interest rates:\n",
      "     0.053\n",
      "     0.055\n",
      "\n"
     ]
    }
   ],
   "source": [
    "c     = [0;0.06]\n",
    "P     = [0.95;1.01]                 #coupon bond prices\n",
    "m     = [1;2]                       #time of coupon payments\n",
    "cfMat = [1    0   ;                 #cash flow matrix\n",
    "         c[2] 1+c[2]]\n",
    "\n",
    "println(\"The cash flow matrix\")\n",
    "printTable(cfMat,[\"mk=1\";\"mk=2\"],[\"Bond 1\";\"Bond 2\"])\n",
    "\n",
    "println(\"B from solving P = cfMat*B (implied zero-coupon bond prices):\")\n",
    "B = cfMat\\P\n",
    "printmat(B)\n",
    "\n",
    "Y = EffRate.(B,m)            #solve for the implied spot rates\n",
    "println(\"Implied spot interest rates:\")\n",
    "printmat(Y)"
   ]
  },
  {
   "cell_type": "markdown",
   "metadata": {},
   "source": [
    "# Estimating Yield Curve with Regression Analysis (extra)"
   ]
  },
  {
   "cell_type": "markdown",
   "metadata": {},
   "source": [
    "Recall: with a quadratic discount function\n",
    "\n",
    "$B(m)=a_{0}+a_{1}m+a_{2}m^{2}$,\n",
    "\n",
    "we can write the coupon bond price \n",
    "\n",
    "$P(m_{K})   =\\sum_{k=1}^{K}B(m_{k})c+B(m_{K})$\n",
    "as \n",
    "\n",
    "$P(m_{K})   =\\sum_{k=1}^{K}(a_{0}+a_{1}m_{k}+a_{2}m_{k}^{2})c + \n",
    "(a_{0}+a_{1}m_{K}+a_{2}m_{K}^{2})$\n",
    "\n",
    "Collect terms as \n",
    "\n",
    "$\n",
    "P(m_{K})  =a_{0} (Kc+1) +\n",
    "a_{1}(c \\sum_{k=1}^{K} m_{k}+m_{K}) +\n",
    "a_{2}(c \\sum_{k=1}^{K} m_{k}^{2}+m_{K}^{2})$\n",
    "\n",
    "We estimate $(a_0,a_1,a_2)$ by using the terms (within parentheses) as regressors."
   ]
  },
  {
   "cell_type": "code",
   "execution_count": 15,
   "metadata": {},
   "outputs": [
    {
     "name": "stdout",
     "output_type": "stream",
     "text": [
      "regressors:\n",
      "          term 0    term 1    term 2\n",
      "Bond 1     1.000     1.000     1.000\n",
      "Bond 2     1.120     2.180     4.300\n",
      "\n",
      "regression coefficients\n",
      "     0.693\n",
      "     0.411\n",
      "    -0.154\n",
      "\n",
      "maturities    fitted B\n",
      "     1.000     0.950\n",
      "     2.000     0.899\n",
      "     3.000     0.540\n",
      "     4.000    -0.126\n",
      "     5.000    -1.101\n",
      "\n",
      "maturities    fitted Y\n",
      "     1.000     0.053\n",
      "     2.000     0.055\n",
      "\n",
      "Btw. do B[4:5] make sense? If not, what does that teach us?\n"
     ]
    }
   ],
   "source": [
    "n = length(P)\n",
    "x = zeros(n,3)                      #create regressors for quadratic model: 3 columns\n",
    "for i = 1:n                         #x[i,j] is for bond i, regressor j\n",
    "    x[i,1] = m[i]*c[i] + 1\n",
    "    x[i,2] = c[i]*sum(m[1]:m[i]) + m[i]\n",
    "    x[i,3] = c[i]*sum((m[1]:m[i]).^2) + m[i]^2\n",
    "end\n",
    "\n",
    "println(\"regressors:\")\n",
    "printTable(x,[\"term 0\";\"term 1\";\"term 2\"],[\"Bond 1\";\"Bond 2\"])\n",
    "\n",
    "a = x\\P                             #regress P on x\n",
    "println(\"regression coefficients\")\n",
    "printmat(a)\n",
    "\n",
    "m = 1:5\n",
    "B = a[1] .+ a[2]*m + a[3]*m.^2      #fitted discount function\n",
    "\n",
    "println(\"maturities    fitted B\")\n",
    "printmat([m B])\n",
    "\n",
    "Y = EffRate.(B[1:2],m[1:2])         #solve for the implied spot rates \n",
    "println(\"maturities    fitted Y\")\n",
    "printmat([m[1:2] Y])\n",
    "\n",
    "println(\"Btw. do B[4:5] make sense? If not, what does that teach us?\")"
   ]
  },
  {
   "cell_type": "code",
   "execution_count": null,
   "metadata": {},
   "outputs": [],
   "source": []
  }
 ],
 "metadata": {
  "@webio": {
   "lastCommId": null,
   "lastKernelId": null
  },
  "anaconda-cloud": {},
  "kernelspec": {
   "display_name": "Julia 1.3.0",
   "language": "julia",
   "name": "julia-1.3"
  },
  "language_info": {
   "file_extension": ".jl",
   "mimetype": "application/julia",
   "name": "julia",
   "version": "1.3.0"
  }
 },
 "nbformat": 4,
 "nbformat_minor": 1
}
