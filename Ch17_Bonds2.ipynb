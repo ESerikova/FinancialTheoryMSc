{
 "cells": [
  {
   "cell_type": "markdown",
   "metadata": {},
   "source": [
    "# Bonds 2\n",
    "\n",
    "This notebook discusses duration hedging as a way to immunize a bond portfolio."
   ]
  },
  {
   "cell_type": "markdown",
   "metadata": {},
   "source": [
    "## Load Packages and Extra Functions"
   ]
  },
  {
   "cell_type": "code",
   "execution_count": 1,
   "metadata": {},
   "outputs": [
    {
     "data": {
      "text/plain": [
       "printTable2"
      ]
     },
     "execution_count": 1,
     "metadata": {},
     "output_type": "execute_result"
    }
   ],
   "source": [
    "using Dates, Roots\n",
    "\n",
    "include(\"jlFiles/printmat.jl\")\n",
    "include(\"jlFiles/printTable.jl\")"
   ]
  },
  {
   "cell_type": "code",
   "execution_count": 2,
   "metadata": {},
   "outputs": [],
   "source": [
    "using Plots\n",
    "\n",
    "#pyplot(size=(600,400))\n",
    "gr(size=(480,320))\n",
    "default(fmt = :svg)"
   ]
  },
  {
   "cell_type": "markdown",
   "metadata": {},
   "source": [
    "## From the Notebook on Bonds 1\n",
    "\n",
    "The file included below contains the function `BondPrice3(Y,cf,m)` which calculates the present value of a cash flow stream."
   ]
  },
  {
   "cell_type": "code",
   "execution_count": 3,
   "metadata": {},
   "outputs": [
    {
     "data": {
      "text/plain": [
       "BondPrice3"
      ]
     },
     "execution_count": 3,
     "metadata": {},
     "output_type": "execute_result"
    }
   ],
   "source": [
    "include(\"jlFiles/BondCalculations.jl\")"
   ]
  },
  {
   "cell_type": "markdown",
   "metadata": {},
   "source": [
    "# Value of a Liability after a Sudden Interest Rate Change\n",
    "\n",
    "The calculations below assume that the yield curve is flat, but that it can shift up or down in parallel. This assumption helps us connecting to the classical literature on duration hedging.\n",
    "\n",
    "The initial values are indicated by the subscript $_0$ and the values after the interest rate change by the subscript $_1$. It is assumed that the change is very sudden, so the time to the different cash flows are (virtually) the same before and after.\n",
    "\n",
    "The next cell sets up the cash flow for a liability that pays 0.2 each year for the next 10 years. The value of the liability is calculated at an initial interest rate ($\\theta_0$) and at a new interest rate ($\\theta_1$)."
   ]
  },
  {
   "cell_type": "code",
   "execution_count": 4,
   "metadata": {
    "scrolled": true
   },
   "outputs": [
    {
     "name": "stdout",
     "output_type": "stream",
     "text": [
      "\u001b[34m\u001b[1mAs θ changes from θ₀=0.05 to θ₁=0.03:\u001b[22m\u001b[39m\n",
      "                    \n",
      "P₀             1.544\n",
      "P₁             1.706\n",
      "ΔP/P₀          0.105\n",
      "\n",
      "\u001b[31m\u001b[1mNotice that the liability is worth more at the lower interest rate\u001b[22m\u001b[39m"
     ]
    }
   ],
   "source": [
    "θ₀ = 0.05                   #initial interest rate\n",
    "θ₁ = 0.03                   #interest rate after sudden change\n",
    "\n",
    "cf = fill(0.2,10)           #cash flow of liability\n",
    "m  = 1:10                   #time periods of the cash flows\n",
    "\n",
    "P₀ = BondPrice3(θ₀,cf,m)\n",
    "P₁ = BondPrice3(θ₁,cf,m)\n",
    "R = (P₁ - P₀)/P₀\n",
    "\n",
    "printblue(\"As θ changes from θ₀=$θ₀ to θ₁=$θ₁:\")\n",
    "xy = [P₀, P₁, R]\n",
    "printTable(xy,[\" \"],[\"P₀\";\"P₁\";\"ΔP/P₀\"],width=15)\n",
    "\n",
    "printstyled(\"Notice that the liability is worth more at the lower interest rate\",color=:red,bold=true)"
   ]
  },
  {
   "cell_type": "markdown",
   "metadata": {},
   "source": [
    "# Macaulay's Duration\n",
    "\n",
    "A first-order Taylor approximation gives\n",
    "\n",
    "$\\frac{\\Delta P}{P} = -D^M \\times \\frac{\\Delta \\theta}{1+\\theta}$, \n",
    "\n",
    "where $D^M$ is Macaulay's duration\n",
    "\n",
    "$D^M = \\sum_{k=1}^{K} m_{k}\\frac{cf_{k}}{\\left(  1+\\theta\\right)  ^{m_{k}}P}$"
   ]
  },
  {
   "cell_type": "code",
   "execution_count": 5,
   "metadata": {},
   "outputs": [
    {
     "data": {
      "text/plain": [
       "BondDuration"
      ]
     },
     "execution_count": 5,
     "metadata": {},
     "output_type": "execute_result"
    }
   ],
   "source": [
    "\"\"\"\n",
    "    BondDuration(P,cf,m,ytm)\n",
    "\n",
    "Calculate Macaulays (bond) duration measure.\n",
    "\n",
    "P:   scalar, bond price\n",
    "cf:  scalar or K vector of cash flows\n",
    "m:   K vector of times of cash flows\n",
    "ytm: scalar, yield to maturity\n",
    "\"\"\"\n",
    "function BondDuration(P,cf,m,ytm)\n",
    "    cdisc   = cf.*m./((1+ytm).^m)        #c/(1+y) + 2c/(1+y)^2 + ...\n",
    "    Dmac    = sum(cdisc)/P               #Macaulays duration\n",
    "    return Dmac\n",
    "end"
   ]
  },
  {
   "cell_type": "code",
   "execution_count": 6,
   "metadata": {},
   "outputs": [
    {
     "name": "stdout",
     "output_type": "stream",
     "text": [
      "Macaulay's duration      5.099\n",
      "\n",
      "Exact and approximate relative price change: \n",
      "     0.105     0.097\n"
     ]
    }
   ],
   "source": [
    "Dmac    = BondDuration(P₀,cf,m,θ₀)\n",
    "printlnPs(\"Macaulay's duration \",Dmac)\n",
    "\n",
    "Δθ       = θ₁ - θ₀\n",
    "R_approx = -Dmac*Δθ/(1+θ₀)\n",
    "\n",
    "println(\"\\nExact and approximate relative price change: \")\n",
    "printlnPs(R,R_approx)"
   ]
  },
  {
   "cell_type": "markdown",
   "metadata": {},
   "source": [
    "# Hedging a Liability Stream\n",
    "\n",
    "Suppose we are short one bond $L$ (this is the liability), which is worth $P_L$. To hedge that we buy $v$ units of bond $H$. The balance is put on a money market account $M$ to make the initial value of the portfolio zero ($V=0$)\n",
    "\n",
    "$V=vP_{H}+M-P_{L}$.\n",
    "\n",
    "Over a short time interval, the change in the portfolio value is\n",
    "\n",
    "$\\Delta V=v\\Delta P_{H}-\\Delta P_{L}$.\n",
    "\n",
    "In the cells below, we assume that the yield curve is flat and shifts in parallel. This means that the ytm of both instruments change from one common value ($\\theta_0$) to another common value ($\\theta_1$)."
   ]
  },
  {
   "cell_type": "code",
   "execution_count": 7,
   "metadata": {},
   "outputs": [
    {
     "name": "stdout",
     "output_type": "stream",
     "text": [
      "\u001b[34m\u001b[1mValue of liability at different interest rates θ₀ and 0.03:\u001b[22m\u001b[39m\n",
      "             \n",
      "PL₀     1.544\n",
      "PL₁     1.706\n",
      "\n",
      "\u001b[34m\u001b[1mMacaulay's duration of the liability:\u001b[22m\u001b[39m\n",
      "     5.099\n"
     ]
    }
   ],
   "source": [
    "PL₀ = P₀        #just switching notation: this is the value of the liability\n",
    "PL₁ = P₁\n",
    "\n",
    "printblue(\"Value of liability at different interest rates θ₀ and $θ₁:\")\n",
    "printTable([PL₀,PL₁],[\"\"],[\"PL₀\",\"PL₁\"])\n",
    "\n",
    "printblue(\"Macaulay's duration of the liability:\")\n",
    "printlnPs(Dmac)"
   ]
  },
  {
   "cell_type": "markdown",
   "metadata": {},
   "source": [
    "## Duration Matching\n",
    "\n",
    "Choose a hedge bond with the same duration as the liability and invest equally much into each.\n",
    "\n",
    "Clearly, this gives $\\frac{\\Delta V}{P_{L}}\\approx 0$."
   ]
  },
  {
   "cell_type": "code",
   "execution_count": 8,
   "metadata": {},
   "outputs": [
    {
     "name": "stdout",
     "output_type": "stream",
     "text": [
      "\u001b[34m\u001b[1mHedge bond: a zero coupon bond with m=5.1 and face value of 1\u001b[22m\u001b[39m\n",
      "                        \n",
      "PL₀                1.544\n",
      "PH₀                0.780\n",
      "v                  1.981\n",
      "v*PH₀/PL₀          1.000\n",
      "Dur(liability)     5.099\n",
      "Dur(hedge)         5.099\n",
      "Return            -0.002\n",
      "\n",
      "\u001b[31m\u001b[1mNotice, the duration matching gives a return of -0.2%. Close to zero.\u001b[22m\u001b[39m"
     ]
    }
   ],
   "source": [
    "PH₀ = BondPrice3(θ₀,1,Dmac)\n",
    "PH₁ = BondPrice3(θ₁,1,Dmac)\n",
    "v  = PL₀/PH₀\n",
    "\n",
    "ΔV = v*(PH₁-PH₀) - (PL₁-PL₀)\n",
    "R  = ΔV/PL₀\n",
    "\n",
    "printblue(\"Hedge bond: a zero coupon bond with m=$(round(Dmac,digits=2)) and face value of 1\")\n",
    "xy = [PL₀,PH₀,v,v*PH₀/PL₀,Dmac,Dmac,R]\n",
    "printTable(xy,[\" \"],[\"PL₀\",\"PH₀\",\"v\",\"v*PH₀/PL₀\",\"Dur(liability)\",\"Dur(hedge)\",\"Return\"])\n",
    "\n",
    "printstyled(\"Notice, the duration matching gives a return of $(round(R*100,digits=1))%. Close to zero.\",\n",
    "             color=:red,bold=true)"
   ]
  },
  {
   "cell_type": "markdown",
   "metadata": {},
   "source": [
    "## Naive Hedging\n",
    "\n",
    "The \"naive\" hedging invests the same amount in the hedge bond as the value of the liability, that is, $hP_{H}=P_{L}$ so $v=P_{L}/P_{H}$. This means that the money market account is not used ($M=0$).\n",
    "\n",
    "It can be shown that\n",
    "\n",
    "$\\frac{\\Delta V}{P_{L}}\\approx\\left(  D_{L}^{M}-D_{H}^{M}\\right)  \\times\n",
    "\\frac{\\Delta\\theta}{1+\\theta}$.\n",
    "\n",
    "If $D_{L}>D_{H}$, and $\\Delta\\theta<0$ (as in the example below), then we will lose money."
   ]
  },
  {
   "cell_type": "code",
   "execution_count": 9,
   "metadata": {},
   "outputs": [
    {
     "name": "stdout",
     "output_type": "stream",
     "text": [
      "\u001b[34m\u001b[1mHedge bond: zero coupon bond with m=3 and face value of 1\u001b[22m\u001b[39m\n",
      "                        \n",
      "PL₀                1.544\n",
      "PH₀                0.864\n",
      "v                  1.788\n",
      "v*PH₀/PL₀          1.000\n",
      "Dur(liability)     5.099\n",
      "Dur(hedge)         3.000\n",
      "Return            -0.045\n",
      "\n",
      "\u001b[31m\u001b[1mThe naive hedge gives a return of -4.5%, which is a bad hedge\u001b[22m\u001b[39m"
     ]
    }
   ],
   "source": [
    "mH = 3                     #mH year bill is used as hedge bond\n",
    "\n",
    "PH₀ = BondPrice3(θ₀,1,mH)\n",
    "PH₁ = BondPrice3(θ₁,1,mH)\n",
    "\n",
    "v = PL₀/PH₀\n",
    "\n",
    "ΔV = v*(PH₁-PH₀) - (PL₁-PL₀)\n",
    "R  = ΔV/PL₀\n",
    "\n",
    "printblue(\"Hedge bond: zero coupon bond with m=$mH and face value of 1\")\n",
    "xy = [PL₀,PH₀,v,v*PH₀/PL₀,Dmac,mH,R]\n",
    "printTable(xy,[\" \"],[\"PL₀\",\"PH₀\",\"v\",\"v*PH₀/PL₀\",\"Dur(liability)\",\"Dur(hedge)\",\"Return\"])\n",
    "\n",
    "printstyled(\"The naive hedge gives a return of $(round(R*100,digits=1))%, which is a bad hedge\",\n",
    "            color=:red,bold=true)"
   ]
  },
  {
   "cell_type": "markdown",
   "metadata": {},
   "source": [
    "## Illustrating the Problem with the Naive Hedging\n",
    "\n",
    "by plotting the value of the liability ($P_L$) and of the hedge bond position ($hP_H$) at different interest rates."
   ]
  },
  {
   "cell_type": "code",
   "execution_count": 10,
   "metadata": {},
   "outputs": [
    {
     "data": {
      "image/svg+xml": [
       "<?xml version=\"1.0\" encoding=\"utf-8\"?>\n",
       "<svg xmlns=\"http://www.w3.org/2000/svg\" xmlns:xlink=\"http://www.w3.org/1999/xlink\" width=\"480\" height=\"320\" viewBox=\"0 0 1920 1280\">\n",
       "<defs>\n",
       "  <clipPath id=\"clip0200\">\n",
       "    <rect x=\"0\" y=\"0\" width=\"1920\" height=\"1280\"/>\n",
       "  </clipPath>\n",
       "</defs>\n",
       "<path clip-path=\"url(#clip0200)\" d=\"\n",
       "M0 1280 L1920 1280 L1920 0 L0 0  Z\n",
       "  \" fill=\"#ffffff\" fill-rule=\"evenodd\" fill-opacity=\"1\"/>\n",
       "<defs>\n",
       "  <clipPath id=\"clip0201\">\n",
       "    <rect x=\"384\" y=\"0\" width=\"1345\" height=\"1280\"/>\n",
       "  </clipPath>\n",
       "</defs>\n",
       "<path clip-path=\"url(#clip0200)\" d=\"\n",
       "M215.754 1105.62 L1872.76 1105.62 L1872.76 121.675 L215.754 121.675  Z\n",
       "  \" fill=\"#ffffff\" fill-rule=\"evenodd\" fill-opacity=\"1\"/>\n",
       "<defs>\n",
       "  <clipPath id=\"clip0202\">\n",
       "    <rect x=\"215\" y=\"121\" width=\"1658\" height=\"985\"/>\n",
       "  </clipPath>\n",
       "</defs>\n",
       "<polyline clip-path=\"url(#clip0202)\" style=\"stroke:#000000; stroke-width:2; stroke-opacity:0.1; fill:none\" points=\"\n",
       "  262.65,1105.62 262.65,121.675 \n",
       "  \"/>\n",
       "<polyline clip-path=\"url(#clip0202)\" style=\"stroke:#000000; stroke-width:2; stroke-opacity:0.1; fill:none\" points=\"\n",
       "  653.453,1105.62 653.453,121.675 \n",
       "  \"/>\n",
       "<polyline clip-path=\"url(#clip0202)\" style=\"stroke:#000000; stroke-width:2; stroke-opacity:0.1; fill:none\" points=\"\n",
       "  1044.25,1105.62 1044.25,121.675 \n",
       "  \"/>\n",
       "<polyline clip-path=\"url(#clip0202)\" style=\"stroke:#000000; stroke-width:2; stroke-opacity:0.1; fill:none\" points=\"\n",
       "  1435.06,1105.62 1435.06,121.675 \n",
       "  \"/>\n",
       "<polyline clip-path=\"url(#clip0202)\" style=\"stroke:#000000; stroke-width:2; stroke-opacity:0.1; fill:none\" points=\"\n",
       "  1825.86,1105.62 1825.86,121.675 \n",
       "  \"/>\n",
       "<polyline clip-path=\"url(#clip0202)\" style=\"stroke:#000000; stroke-width:2; stroke-opacity:0.1; fill:none\" points=\"\n",
       "  215.754,871.814 1872.76,871.814 \n",
       "  \"/>\n",
       "<polyline clip-path=\"url(#clip0202)\" style=\"stroke:#000000; stroke-width:2; stroke-opacity:0.1; fill:none\" points=\"\n",
       "  215.754,631.05 1872.76,631.05 \n",
       "  \"/>\n",
       "<polyline clip-path=\"url(#clip0202)\" style=\"stroke:#000000; stroke-width:2; stroke-opacity:0.1; fill:none\" points=\"\n",
       "  215.754,390.286 1872.76,390.286 \n",
       "  \"/>\n",
       "<polyline clip-path=\"url(#clip0202)\" style=\"stroke:#000000; stroke-width:2; stroke-opacity:0.1; fill:none\" points=\"\n",
       "  215.754,149.523 1872.76,149.523 \n",
       "  \"/>\n",
       "<polyline clip-path=\"url(#clip0200)\" style=\"stroke:#000000; stroke-width:4; stroke-opacity:1; fill:none\" points=\"\n",
       "  215.754,1105.62 1872.76,1105.62 \n",
       "  \"/>\n",
       "<polyline clip-path=\"url(#clip0200)\" style=\"stroke:#000000; stroke-width:4; stroke-opacity:1; fill:none\" points=\"\n",
       "  215.754,1105.62 215.754,121.675 \n",
       "  \"/>\n",
       "<polyline clip-path=\"url(#clip0200)\" style=\"stroke:#000000; stroke-width:4; stroke-opacity:1; fill:none\" points=\"\n",
       "  262.65,1105.62 262.65,1090.86 \n",
       "  \"/>\n",
       "<polyline clip-path=\"url(#clip0200)\" style=\"stroke:#000000; stroke-width:4; stroke-opacity:1; fill:none\" points=\"\n",
       "  653.453,1105.62 653.453,1090.86 \n",
       "  \"/>\n",
       "<polyline clip-path=\"url(#clip0200)\" style=\"stroke:#000000; stroke-width:4; stroke-opacity:1; fill:none\" points=\"\n",
       "  1044.25,1105.62 1044.25,1090.86 \n",
       "  \"/>\n",
       "<polyline clip-path=\"url(#clip0200)\" style=\"stroke:#000000; stroke-width:4; stroke-opacity:1; fill:none\" points=\"\n",
       "  1435.06,1105.62 1435.06,1090.86 \n",
       "  \"/>\n",
       "<polyline clip-path=\"url(#clip0200)\" style=\"stroke:#000000; stroke-width:4; stroke-opacity:1; fill:none\" points=\"\n",
       "  1825.86,1105.62 1825.86,1090.86 \n",
       "  \"/>\n",
       "<polyline clip-path=\"url(#clip0200)\" style=\"stroke:#000000; stroke-width:4; stroke-opacity:1; fill:none\" points=\"\n",
       "  215.754,871.814 240.609,871.814 \n",
       "  \"/>\n",
       "<polyline clip-path=\"url(#clip0200)\" style=\"stroke:#000000; stroke-width:4; stroke-opacity:1; fill:none\" points=\"\n",
       "  215.754,631.05 240.609,631.05 \n",
       "  \"/>\n",
       "<polyline clip-path=\"url(#clip0200)\" style=\"stroke:#000000; stroke-width:4; stroke-opacity:1; fill:none\" points=\"\n",
       "  215.754,390.286 240.609,390.286 \n",
       "  \"/>\n",
       "<polyline clip-path=\"url(#clip0200)\" style=\"stroke:#000000; stroke-width:4; stroke-opacity:1; fill:none\" points=\"\n",
       "  215.754,149.523 240.609,149.523 \n",
       "  \"/>\n",
       "<g clip-path=\"url(#clip0200)\">\n",
       "<text style=\"fill:#000000; fill-opacity:1; font-family:Arial,Helvetica Neue,Helvetica,sans-serif; font-size:48px; text-anchor:middle;\" transform=\"rotate(0, 262.65, 1157.22)\" x=\"262.65\" y=\"1157.22\">0.000</text>\n",
       "</g>\n",
       "<g clip-path=\"url(#clip0200)\">\n",
       "<text style=\"fill:#000000; fill-opacity:1; font-family:Arial,Helvetica Neue,Helvetica,sans-serif; font-size:48px; text-anchor:middle;\" transform=\"rotate(0, 653.453, 1157.22)\" x=\"653.453\" y=\"1157.22\">0.025</text>\n",
       "</g>\n",
       "<g clip-path=\"url(#clip0200)\">\n",
       "<text style=\"fill:#000000; fill-opacity:1; font-family:Arial,Helvetica Neue,Helvetica,sans-serif; font-size:48px; text-anchor:middle;\" transform=\"rotate(0, 1044.25, 1157.22)\" x=\"1044.25\" y=\"1157.22\">0.050</text>\n",
       "</g>\n",
       "<g clip-path=\"url(#clip0200)\">\n",
       "<text style=\"fill:#000000; fill-opacity:1; font-family:Arial,Helvetica Neue,Helvetica,sans-serif; font-size:48px; text-anchor:middle;\" transform=\"rotate(0, 1435.06, 1157.22)\" x=\"1435.06\" y=\"1157.22\">0.075</text>\n",
       "</g>\n",
       "<g clip-path=\"url(#clip0200)\">\n",
       "<text style=\"fill:#000000; fill-opacity:1; font-family:Arial,Helvetica Neue,Helvetica,sans-serif; font-size:48px; text-anchor:middle;\" transform=\"rotate(0, 1825.86, 1157.22)\" x=\"1825.86\" y=\"1157.22\">0.100</text>\n",
       "</g>\n",
       "<g clip-path=\"url(#clip0200)\">\n",
       "<text style=\"fill:#000000; fill-opacity:1; font-family:Arial,Helvetica Neue,Helvetica,sans-serif; font-size:48px; text-anchor:end;\" transform=\"rotate(0, 196.554, 889.314)\" x=\"196.554\" y=\"889.314\">1.4</text>\n",
       "</g>\n",
       "<g clip-path=\"url(#clip0200)\">\n",
       "<text style=\"fill:#000000; fill-opacity:1; font-family:Arial,Helvetica Neue,Helvetica,sans-serif; font-size:48px; text-anchor:end;\" transform=\"rotate(0, 196.554, 648.55)\" x=\"196.554\" y=\"648.55\">1.6</text>\n",
       "</g>\n",
       "<g clip-path=\"url(#clip0200)\">\n",
       "<text style=\"fill:#000000; fill-opacity:1; font-family:Arial,Helvetica Neue,Helvetica,sans-serif; font-size:48px; text-anchor:end;\" transform=\"rotate(0, 196.554, 407.786)\" x=\"196.554\" y=\"407.786\">1.8</text>\n",
       "</g>\n",
       "<g clip-path=\"url(#clip0200)\">\n",
       "<text style=\"fill:#000000; fill-opacity:1; font-family:Arial,Helvetica Neue,Helvetica,sans-serif; font-size:48px; text-anchor:end;\" transform=\"rotate(0, 196.554, 167.023)\" x=\"196.554\" y=\"167.023\">2.0</text>\n",
       "</g>\n",
       "<g clip-path=\"url(#clip0200)\">\n",
       "<text style=\"fill:#000000; fill-opacity:1; font-family:Arial,Helvetica Neue,Helvetica,sans-serif; font-size:84px; text-anchor:middle;\" transform=\"rotate(0, 1044.25, 73.2)\" x=\"1044.25\" y=\"73.2\">Naive hedging</text>\n",
       "</g>\n",
       "<g clip-path=\"url(#clip0200)\">\n",
       "<text style=\"fill:#000000; fill-opacity:1; font-family:Arial,Helvetica Neue,Helvetica,sans-serif; font-size:66px; text-anchor:middle;\" transform=\"rotate(0, 1044.25, 1234.68)\" x=\"1044.25\" y=\"1234.68\">Interest rate</text>\n",
       "</g>\n",
       "<g clip-path=\"url(#clip0200)\">\n",
       "<text style=\"fill:#000000; fill-opacity:1; font-family:Arial,Helvetica Neue,Helvetica,sans-serif; font-size:66px; text-anchor:middle;\" transform=\"rotate(-90, 98.8861, 613.647)\" x=\"98.8861\" y=\"613.647\">Value of position</text>\n",
       "</g>\n",
       "<polyline clip-path=\"url(#clip0202)\" style=\"stroke:#ff0000; stroke-width:4; stroke-opacity:1; fill:none\" points=\"\n",
       "  262.65,149.523 418.971,276.813 575.292,394.479 731.613,503.397 887.934,604.35 1044.25,698.046 1200.58,785.118 1356.9,866.136 1513.22,941.616 1669.54,1012.02 \n",
       "  1825.86,1077.77 \n",
       "  \"/>\n",
       "<polyline clip-path=\"url(#clip0202)\" style=\"stroke:#008000; stroke-width:4; stroke-opacity:1; fill:none\" stroke-dasharray=\"16, 10\" points=\"\n",
       "  262.65,405.003 418.971,468.298 575.292,529.135 731.613,587.632 887.934,643.901 1044.25,698.046 1200.58,750.168 1356.9,800.359 1513.22,848.709 1669.54,895.3 \n",
       "  1825.86,940.213 \n",
       "  \"/>\n",
       "<path clip-path=\"url(#clip0200)\" d=\"\n",
       "M1181.67 357.835 L1815.16 357.835 L1815.16 176.395 L1181.67 176.395  Z\n",
       "  \" fill=\"#ffffff\" fill-rule=\"evenodd\" fill-opacity=\"1\"/>\n",
       "<polyline clip-path=\"url(#clip0200)\" style=\"stroke:#000000; stroke-width:4; stroke-opacity:1; fill:none\" points=\"\n",
       "  1181.67,357.835 1815.16,357.835 1815.16,176.395 1181.67,176.395 1181.67,357.835 \n",
       "  \"/>\n",
       "<polyline clip-path=\"url(#clip0200)\" style=\"stroke:#ff0000; stroke-width:4; stroke-opacity:1; fill:none\" points=\"\n",
       "  1200.87,236.875 1316.07,236.875 \n",
       "  \"/>\n",
       "<g clip-path=\"url(#clip0200)\">\n",
       "<text style=\"fill:#000000; fill-opacity:1; font-family:Arial,Helvetica Neue,Helvetica,sans-serif; font-size:48px; text-anchor:start;\" transform=\"rotate(0, 1335.27, 254.375)\" x=\"1335.27\" y=\"254.375\">liability</text>\n",
       "</g>\n",
       "<polyline clip-path=\"url(#clip0200)\" style=\"stroke:#008000; stroke-width:4; stroke-opacity:1; fill:none\" stroke-dasharray=\"16, 10\" points=\"\n",
       "  1200.87,297.355 1316.07,297.355 \n",
       "  \"/>\n",
       "<g clip-path=\"url(#clip0200)\">\n",
       "<text style=\"fill:#000000; fill-opacity:1; font-family:Arial,Helvetica Neue,Helvetica,sans-serif; font-size:48px; text-anchor:start;\" transform=\"rotate(0, 1335.27, 314.855)\" x=\"1335.27\" y=\"314.855\">v * hedge bond price</text>\n",
       "</g>\n",
       "<g clip-path=\"url(#clip0200)\">\n",
       "<text style=\"fill:#000000; fill-opacity:1; font-family:Arial,Helvetica Neue,Helvetica,sans-serif; font-size:48px; text-anchor:start;\" transform=\"rotate(0, 340.811, 863.394)\" x=\"340.811\" y=\"863.394\">In our example, the interest rates </text>\n",
       "</g>\n",
       "<g clip-path=\"url(#clip0200)\">\n",
       "<text style=\"fill:#000000; fill-opacity:1; font-family:Arial,Helvetica Neue,Helvetica,sans-serif; font-size:48px; text-anchor:start;\" transform=\"rotate(0, 340.811, 915.234)\" x=\"340.811\" y=\"915.234\">are 0.05 (before) and 0.03 (after)</text>\n",
       "</g>\n",
       "</svg>\n"
      ]
     },
     "execution_count": 10,
     "metadata": {},
     "output_type": "execute_result"
    }
   ],
   "source": [
    "θ = 0:0.01:0.1        #possible ytm values\n",
    "\n",
    "(PL,PH) = (fill(NaN,length(θ)),fill(NaN,length(θ)))\n",
    "for i = 1:length(θ)\n",
    "    PL[i] = BondPrice3(θ[i],cf,m)\n",
    "    PH[i] = BondPrice3(θ[i],1,mH)\n",
    "end\n",
    "\n",
    "txt = \"In our example, the interest rates \\nare $θ₀ (before) and $θ₁ (after)\"\n",
    "\n",
    "plot( θ,[PL v*PH],\n",
    "      linecolor = [:red :green],\n",
    "      linestyle = [:solid :dash],\n",
    "      label = [\"liability\" \"v * hedge bond price\"],\n",
    "      title = \"Naive hedging\",\n",
    "      xlabel = \"Interest rate\",\n",
    "      ylabel = \"Value of position\",\n",
    "      annotation = (0.005,1.4,text(txt,8,:left)) )"
   ]
  },
  {
   "cell_type": "markdown",
   "metadata": {},
   "source": [
    "## Duration Hedging\n",
    "\n",
    "When $D_{L}^{M}\\neq D_{H}$, we could adjust the hedge ratio $v$ to compensate for the difference in interest rate sensitivity (duration). In particular, we could set \n",
    "\n",
    "$v =\\frac{D_{L}^{M}}{D_{H}^{M}}\\times\\frac{P_{L}}{P_{H}}$. \n",
    "\n",
    "The balance $(P_L-hP_H)$ is kept on a money market account ($M$).\n",
    "\n",
    "It can be shown that this gives an (approximate) hedge."
   ]
  },
  {
   "cell_type": "code",
   "execution_count": 11,
   "metadata": {},
   "outputs": [
    {
     "name": "stdout",
     "output_type": "stream",
     "text": [
      "\u001b[34m\u001b[1mHedge bond: zero coupon bond with m=3 and face value of 1\u001b[22m\u001b[39m\n",
      "                        \n",
      "PL₀                1.544\n",
      "PH₀                0.864\n",
      "v                  3.039\n",
      "v*PH₀/PL₀          1.700\n",
      "Dur(liability)     5.099\n",
      "Dur(hedge)         3.000\n",
      "M                 -1.081\n",
      "Return            -0.004\n",
      "\n",
      "\u001b[31m\u001b[1mNotice, the duration hedging gives a return of -0.4%. Close to zero.\u001b[22m\u001b[39m"
     ]
    }
   ],
   "source": [
    "PH₀ = BondPrice3(θ₀,1,mH)\n",
    "PH₁ = BondPrice3(θ₁,1,mH)\n",
    "v = Dmac/mH * PL₀/PH₀\n",
    "M = PL₀ - v*PH₀               #on money market account\n",
    "\n",
    "ΔV = v*(PH₁-PH₀) - (PL₁-PL₀)\n",
    "R  = ΔV/PL₀\n",
    "\n",
    "printblue(\"Hedge bond: zero coupon bond with m=$mH and face value of 1\")\n",
    "xy = [PL₀,PH₀,v,v*PH₀/PL₀,Dmac,mH,M,R]\n",
    "printTable(xy,[\" \"],[\"PL₀\",\"PH₀\",\"v\",\"v*PH₀/PL₀\",\"Dur(liability)\",\"Dur(hedge)\",\"M\",\"Return\"])\n",
    "\n",
    "printstyled(\"Notice, the duration hedging gives a return of $(round(R*100,digits=1))%. Close to zero.\",\n",
    "            color=:red,bold=true)"
   ]
  },
  {
   "cell_type": "markdown",
   "metadata": {},
   "source": [
    "## Convexity (extra)\n",
    "\n",
    "A second-order Taylor approximation gives that \n",
    "\n",
    "$\n",
    "\\frac{\\Delta P}{P}\\approx-D^{M}\\times\\frac{\\Delta\\theta}{1+\\theta}+\\frac{1}{2}C\\times(\\Delta\\theta)^{2}, \n",
    "$\n",
    "\n",
    "where \n",
    "$\n",
    "C = \\frac{1}{P} \\frac{d^{2}P}{d\\theta^{2}}\n",
    "$. \n",
    "\n",
    "The function below calculates $C$."
   ]
  },
  {
   "cell_type": "code",
   "execution_count": 12,
   "metadata": {},
   "outputs": [
    {
     "data": {
      "text/plain": [
       "BondConvexity (generic function with 1 method)"
      ]
     },
     "execution_count": 12,
     "metadata": {},
     "output_type": "execute_result"
    }
   ],
   "source": [
    "function BondConvexity(P,cf,m,ytm)\n",
    "    cdisc   = cf.*m.*(m.+1)./((1+ytm).^(m.+2)) \n",
    "    C       = sum(cdisc)/P\n",
    "    return C\n",
    "end"
   ]
  },
  {
   "cell_type": "code",
   "execution_count": 13,
   "metadata": {},
   "outputs": [
    {
     "name": "stdout",
     "output_type": "stream",
     "text": [
      "\u001b[34m\u001b[1mConvexity\u001b[22m\u001b[39m\n",
      "                    \n",
      "C             35.602\n",
      "Δθ            -0.020\n",
      "0.5*C*Δθ^2     0.007\n",
      "\n",
      "\u001b[31m\u001b[1mCompare the magnitude to ΔPH/PH: 0.059\u001b[22m\u001b[39m"
     ]
    }
   ],
   "source": [
    "C = BondConvexity(P₀,cf,m,θ₀)\n",
    "\n",
    "printblue(\"Convexity\")\n",
    "xy = [C;Δθ;0.5*C*Δθ^2]\n",
    "printTable(xy,[\" \"],[\"C\";\"Δθ\";\"0.5*C*Δθ^2\"])\n",
    "\n",
    "printstyled(\"Compare the magnitude to ΔPH/PH: \",round((PH₁-PH₀)/PH₀,digits=3),color=:red,bold=true)"
   ]
  },
  {
   "cell_type": "code",
   "execution_count": null,
   "metadata": {},
   "outputs": [],
   "source": []
  }
 ],
 "metadata": {
  "@webio": {
   "lastCommId": null,
   "lastKernelId": null
  },
  "anaconda-cloud": {},
  "kernelspec": {
   "display_name": "Julia 1.3.1",
   "language": "julia",
   "name": "julia-1.3"
  },
  "language_info": {
   "file_extension": ".jl",
   "mimetype": "application/julia",
   "name": "julia",
   "version": "1.3.1"
  }
 },
 "nbformat": 4,
 "nbformat_minor": 1
}
