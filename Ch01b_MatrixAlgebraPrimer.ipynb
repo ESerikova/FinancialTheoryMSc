{
 "cells": [
  {
   "cell_type": "markdown",
   "metadata": {},
   "source": [
    "# A Primer in Linear Algebra\n",
    "\n",
    "This notebook presents some basic linear algebra."
   ]
  },
  {
   "cell_type": "markdown",
   "metadata": {},
   "source": [
    "## Load Packages and Extra Functions\n",
    "\n",
    "The notebook uses the functions `printmat()` and `printlnPs()` for formatted printing of numbers."
   ]
  },
  {
   "cell_type": "code",
   "execution_count": 1,
   "metadata": {},
   "outputs": [
    {
     "data": {
      "text/plain": [
       "printyellow (generic function with 1 method)"
      ]
     },
     "execution_count": 1,
     "metadata": {},
     "output_type": "execute_result"
    }
   ],
   "source": [
    "using Dates\n",
    "\n",
    "include(\"jlFiles/printmat.jl\")"
   ]
  },
  {
   "cell_type": "markdown",
   "metadata": {},
   "source": [
    "## Adding and Multiplying: A Matrix and a Scalar"
   ]
  },
  {
   "cell_type": "markdown",
   "metadata": {},
   "source": [
    "With a matrix $A$ and a scalar $c$, do\n",
    "\n",
    "1. `A*c` (textbook: $Ac$) to multiply each element of $A$ by $c$\n",
    "\n",
    "2. `A .+ c` (textbook: $A+cJ$, where $J$ is a matrix of ones) to add $c$ to each element of $A$ "
   ]
  },
  {
   "cell_type": "code",
   "execution_count": 2,
   "metadata": {},
   "outputs": [
    {
     "name": "stdout",
     "output_type": "stream",
     "text": [
      "A:\n",
      "         1         3\n",
      "         3         4\n",
      "\n",
      "c:\n",
      "        10\n",
      "\n",
      "A*c:\n",
      "        10        30\n",
      "        30        40\n",
      "\n",
      "A .+ c:\n",
      "        11        13\n",
      "        13        14\n",
      "\n"
     ]
    }
   ],
   "source": [
    "A = [1 3;3 4]\n",
    "c = 10\n",
    "\n",
    "println(\"A:\")\n",
    "printmat(A)\n",
    "println(\"c:\")\n",
    "printmat(c)\n",
    "\n",
    "println(\"A*c:\")\n",
    "printmat(A*c)\n",
    "\n",
    "println(\"A .+ c:\")\n",
    "printmat(A .+ c)          #notice the dot in .+"
   ]
  },
  {
   "cell_type": "markdown",
   "metadata": {},
   "source": [
    "## Adding and Multiplying: Two Matrices"
   ]
  },
  {
   "cell_type": "markdown",
   "metadata": {},
   "source": [
    "With two matrices of the same dimensions ($A$ and $B$), do\n",
    "\n",
    "`A+B` (textbook: $A+B$) to add them (element by element)"
   ]
  },
  {
   "cell_type": "code",
   "execution_count": 3,
   "metadata": {},
   "outputs": [
    {
     "name": "stdout",
     "output_type": "stream",
     "text": [
      "A:\n",
      "        10\n",
      "        11\n",
      "\n",
      "B:\n",
      "         2\n",
      "         5\n",
      "\n",
      "A-B:\n",
      "         8\n",
      "         6\n",
      "\n"
     ]
    }
   ],
   "source": [
    "A = [10;11]                 #A and B are 2x1 matrices\n",
    "B = [2;5]\n",
    "\n",
    "println(\"A:\")\n",
    "printmat(A)\n",
    "println(\"B:\")\n",
    "printmat(B)\n",
    "\n",
    "println(\"A-B:\")\n",
    "printmat(A-B)"
   ]
  },
  {
   "cell_type": "code",
   "execution_count": 4,
   "metadata": {},
   "outputs": [
    {
     "name": "stdout",
     "output_type": "stream",
     "text": [
      "A:\n",
      "         1         3\n",
      "         3         4\n",
      "\n",
      "B:\n",
      "         1         2\n",
      "         3        -2\n",
      "\n",
      "A+B:\n",
      "         2         5\n",
      "         6         2\n",
      "\n"
     ]
    }
   ],
   "source": [
    "A = [1 3;3 4]               #A and B are 2x2 matrices\n",
    "B = [1 2;3 -2]\n",
    "println(\"A:\")\n",
    "printmat(A)\n",
    "println(\"B:\")\n",
    "printmat(B)\n",
    "\n",
    "println(\"A+B:\")\n",
    "printmat(A+B)"
   ]
  },
  {
   "cell_type": "markdown",
   "metadata": {},
   "source": [
    "Multiplying matrices ($A$ and $B$) of conformable dimensions\n",
    "\n",
    "`A*B` (textbook: $AB$)"
   ]
  },
  {
   "cell_type": "code",
   "execution_count": 5,
   "metadata": {},
   "outputs": [
    {
     "name": "stdout",
     "output_type": "stream",
     "text": [
      "A:\n",
      "         1         3\n",
      "         3         4\n",
      "\n",
      "B:\n",
      "         1         2\n",
      "         3        -2\n",
      "\n",
      "A*B:\n",
      "        10        -4\n",
      "        15        -2\n",
      "\n"
     ]
    }
   ],
   "source": [
    "A = [1 3;3 4]           #A and B are 2x2 matrices\n",
    "B = [1 2;3 -2]\n",
    "println(\"A:\")\n",
    "printmat(A)\n",
    "println(\"B:\")\n",
    "printmat(B)\n",
    "\n",
    "println(\"A*B:\")\n",
    "printmat(A*B)"
   ]
  },
  {
   "cell_type": "code",
   "execution_count": 6,
   "metadata": {},
   "outputs": [
    {
     "name": "stdout",
     "output_type": "stream",
     "text": [
      "A:\n",
      "         1         3\n",
      "         3         4\n",
      "\n",
      "B:\n",
      "         2\n",
      "         5\n",
      "\n",
      "A*B:\n",
      "        17\n",
      "        26\n",
      "\n"
     ]
    }
   ],
   "source": [
    "A = [1 3;3 4]           #A is 2x2, B is a vector with 2 elements\n",
    "B = [2;5]\n",
    "println(\"A:\")\n",
    "printmat(A)\n",
    "println(\"B:\")\n",
    "printmat(B)\n",
    "\n",
    "println(\"A*B:\")\n",
    "printmat(A*B)"
   ]
  },
  {
   "cell_type": "markdown",
   "metadata": {},
   "source": [
    "## Transpose\n",
    "\n",
    "Transpose a matrix as  `A'` (textbook: $A'$)"
   ]
  },
  {
   "cell_type": "code",
   "execution_count": 7,
   "metadata": {},
   "outputs": [
    {
     "name": "stdout",
     "output_type": "stream",
     "text": [
      "A: \n",
      "        10\n",
      "        11\n",
      "\n",
      "A': \n",
      "        10        11\n",
      "\n",
      "B: \n",
      "         1         2         3\n",
      "         4         5         6\n",
      "\n",
      "B': \n",
      "         1         4\n",
      "         2         5\n",
      "         3         6\n",
      "\n"
     ]
    }
   ],
   "source": [
    "A = [10;11]\n",
    "println(\"A: \")\n",
    "printmat(A)\n",
    "println(\"A': \")\n",
    "printmat(A')\n",
    "\n",
    "B = [1 2 3;4 5 6]\n",
    "println(\"B: \")\n",
    "printmat(B)\n",
    "println(\"B': \")\n",
    "printmat(B')"
   ]
  },
  {
   "cell_type": "markdown",
   "metadata": {},
   "source": [
    "## Inner and Outer Products, Quadratic Forms"
   ]
  },
  {
   "cell_type": "markdown",
   "metadata": {},
   "source": [
    "Inner and outer products of (column) vectors with $k$ elements:\n",
    "\n",
    "`x'z` (textbook: $x'z$) to get a scalar and `x*z'` (textbook: $xz'$) to get a $k\\times k$ matrix  "
   ]
  },
  {
   "cell_type": "code",
   "execution_count": 8,
   "metadata": {},
   "outputs": [
    {
     "name": "stdout",
     "output_type": "stream",
     "text": [
      "x and z\n",
      "        10         2\n",
      "        11         5\n",
      "\n",
      "x'z: \n",
      "        75\n",
      "x*z':\n",
      "        20        50\n",
      "        22        55\n",
      "\n"
     ]
    }
   ],
   "source": [
    "x = [10;11]\n",
    "z = [2;5]\n",
    "println(\"x and z\")\n",
    "printmat([x z])\n",
    "\n",
    "println(\"x'z: \")\n",
    "printlnPs(x'z)\n",
    "\n",
    "println(\"x*z':\")\n",
    "printmat(x*z')"
   ]
  },
  {
   "cell_type": "markdown",
   "metadata": {},
   "source": [
    "A quadratic form ($A$ is an $n \\times n$ matrix and x is an $n$ vector)\n",
    "\n",
    "`x'A*x` (textbook: $x'Ax$) to get a scalar"
   ]
  },
  {
   "cell_type": "code",
   "execution_count": 9,
   "metadata": {},
   "outputs": [
    {
     "name": "stdout",
     "output_type": "stream",
     "text": [
      "x:\n",
      "        10\n",
      "        11\n",
      "\n",
      "A:\n",
      "         1         3\n",
      "         3         4\n",
      "\n",
      "x'A*x: \n",
      "      1244\n"
     ]
    }
   ],
   "source": [
    "A = [1 3;3 4]\n",
    "\n",
    "println(\"x:\")\n",
    "printmat(x)\n",
    "println(\"A:\")\n",
    "printmat(A)\n",
    "\n",
    "println(\"x'A*x: \")\n",
    "printlnPs(x'A*x)"
   ]
  },
  {
   "cell_type": "markdown",
   "metadata": {},
   "source": [
    "## Matrix Inverse"
   ]
  },
  {
   "cell_type": "markdown",
   "metadata": {},
   "source": [
    "A matrix inverse of an $nxn$ matrix $A$:\n",
    "\n",
    "`inv(A)` or `A^(-1)` (textbook: $A^{-1}$)\n",
    "\n",
    "The inverse is such that $AA^{-1}=I$ and $A^{-1}A=I$"
   ]
  },
  {
   "cell_type": "code",
   "execution_count": 10,
   "metadata": {},
   "outputs": [
    {
     "name": "stdout",
     "output_type": "stream",
     "text": [
      "A:\n",
      "         1         3\n",
      "         3         4\n",
      "\n",
      "inv(A):\n",
      "    -0.800     0.600\n",
      "     0.600    -0.200\n",
      "\n",
      "inv(A)*A:\n",
      "     1.000    -0.000\n",
      "     0.000     1.000\n",
      "\n"
     ]
    }
   ],
   "source": [
    "println(\"A:\")\n",
    "printmat(A)\n",
    "\n",
    "println(\"inv(A):\")\n",
    "printmat(inv(A))\n",
    "\n",
    "println(\"inv(A)*A:\")\n",
    "printmat(inv(A)*A)"
   ]
  },
  {
   "cell_type": "markdown",
   "metadata": {},
   "source": [
    "## OLS Notation\n",
    "\n",
    "$X'X$ or $\\sum\\nolimits_{t=1}^{T}x_{t}x_{t}^{\\prime}$?\n",
    "\n",
    "Let $x_t$ be a (column) vector with values of $K$ regressors for observation $t$. Then $x_{t}x_{t}^{\\prime}$ is the outer product (a $K\\times K$ matrix) and $\\sum\\nolimits_{t=1}^{T}x_{t}x_{t}^{\\prime}$ is just the sum (of each element) across the $T$ observations.\n",
    "\n",
    "We can calculate the same thing by (a) letting $X$ be a $T\\times K$ matrix with $x_{t}^{\\prime}$ in row $t$ and (b) then calculating $X'X$."
   ]
  },
  {
   "cell_type": "code",
   "execution_count": 11,
   "metadata": {},
   "outputs": [
    {
     "name": "stdout",
     "output_type": "stream",
     "text": [
      "X\n",
      "     1.000    -1.000\n",
      "     1.000     0.000\n",
      "     1.000     1.000\n",
      "\n",
      "sum of outer products, three versions\n",
      "     3.000     0.000\n",
      "     0.000     2.000\n",
      "\n",
      "     3.000     0.000\n",
      "     0.000     2.000\n",
      "\n",
      "     3.000     0.000\n",
      "     0.000     2.000\n",
      "\n"
     ]
    }
   ],
   "source": [
    "x₁ = [1;-1]     #(column vector)\n",
    "x₂ = [1;0]\n",
    "x₃ = [1;1.0]\n",
    "\n",
    "X = [x₁';x₂';x₃']\n",
    "\n",
    "println(\"X\")\n",
    "printmat(X)\n",
    "\n",
    "(T,K) = (size(X,1),size(X,2))\n",
    "\n",
    "Sxx1 = x₁*x₁' + x₂*x₂' + x₃*x₃'      #just to illustrate     \n",
    "\n",
    "Sxx2 = zeros(K,K)\n",
    "for t = 1:T\n",
    "    Sxx2 = Sxx2 + X[t,:]*X[t,:]'  #yes, X[t,:] becomes a column vector\n",
    "end\n",
    "\n",
    "Sxx3 = X'X\n",
    "\n",
    "println(\"sum of outer products, three versions\")\n",
    "printmat(Sxx1)\n",
    "printmat(Sxx2)\n",
    "printmat(Sxx3)"
   ]
  },
  {
   "cell_type": "code",
   "execution_count": null,
   "metadata": {},
   "outputs": [],
   "source": []
  }
 ],
 "metadata": {
  "@webio": {
   "lastCommId": null,
   "lastKernelId": null
  },
  "anaconda-cloud": {},
  "kernelspec": {
   "display_name": "Julia 1.3.1",
   "language": "julia",
   "name": "julia-1.3"
  },
  "language_info": {
   "file_extension": ".jl",
   "mimetype": "application/julia",
   "name": "julia",
   "version": "1.3.1"
  }
 },
 "nbformat": 4,
 "nbformat_minor": 1
}
