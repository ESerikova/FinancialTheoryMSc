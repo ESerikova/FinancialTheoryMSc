{
 "cells": [
  {
   "cell_type": "markdown",
   "metadata": {},
   "source": [
    "# Forward Contracts"
   ]
  },
  {
   "cell_type": "markdown",
   "metadata": {},
   "source": [
    "## Load Packages"
   ]
  },
  {
   "cell_type": "code",
   "execution_count": 1,
   "metadata": {},
   "outputs": [
    {
     "data": {
      "text/plain": [
       "printblue (generic function with 1 method)"
      ]
     },
     "execution_count": 1,
     "metadata": {},
     "output_type": "execute_result"
    }
   ],
   "source": [
    "using Dates       \n",
    "\n",
    "include(\"jlFiles/printmat.jl\")\n",
    "include(\"jlFiles/printTable.jl\")"
   ]
  },
  {
   "cell_type": "code",
   "execution_count": 2,
   "metadata": {},
   "outputs": [],
   "source": [
    "using Plots\n",
    "\n",
    "#pyplot(size=(600,400))\n",
    "gr(size=(480,320))\n",
    "default(fmt = :svg)"
   ]
  },
  {
   "cell_type": "markdown",
   "metadata": {},
   "source": [
    "# Present Value"
   ]
  },
  {
   "cell_type": "code",
   "execution_count": 3,
   "metadata": {},
   "outputs": [
    {
     "name": "stdout",
     "output_type": "stream",
     "text": [
      "PV of 100:     96.319\n"
     ]
    }
   ],
   "source": [
    "y  = 0.05\n",
    "m  = 3/4\n",
    "Z  = 100\n",
    "PV = exp(-y*m)*Z\n",
    "\n",
    "printlnPs(\"PV of $Z: \",PV)"
   ]
  },
  {
   "cell_type": "markdown",
   "metadata": {},
   "source": [
    "# Payoff of Forward Contract"
   ]
  },
  {
   "cell_type": "markdown",
   "metadata": {},
   "source": [
    "Recall: the payoff of a forward contract (at expiration, $m$ periods ahead) is $S_{m}-F$"
   ]
  },
  {
   "cell_type": "code",
   "execution_count": 4,
   "metadata": {},
   "outputs": [
    {
     "data": {
      "image/svg+xml": [
       "<?xml version=\"1.0\" encoding=\"utf-8\"?>\n",
       "<svg xmlns=\"http://www.w3.org/2000/svg\" xmlns:xlink=\"http://www.w3.org/1999/xlink\" width=\"480\" height=\"320\" viewBox=\"0 0 1920 1280\">\n",
       "<defs>\n",
       "  <clipPath id=\"clip3200\">\n",
       "    <rect x=\"0\" y=\"0\" width=\"1920\" height=\"1280\"/>\n",
       "  </clipPath>\n",
       "</defs>\n",
       "<polygon clip-path=\"url(#clip3200)\" points=\"\n",
       "0,1280 1920,1280 1920,0 0,0 \n",
       "  \" fill=\"#ffffff\" fill-rule=\"evenodd\" fill-opacity=\"1\"/>\n",
       "<defs>\n",
       "  <clipPath id=\"clip3201\">\n",
       "    <rect x=\"384\" y=\"0\" width=\"1345\" height=\"1280\"/>\n",
       "  </clipPath>\n",
       "</defs>\n",
       "<polygon clip-path=\"url(#clip3200)\" points=\"\n",
       "141.865,1105.62 1872.76,1105.62 1872.76,121.675 141.865,121.675 \n",
       "  \" fill=\"#ffffff\" fill-rule=\"evenodd\" fill-opacity=\"1\"/>\n",
       "<defs>\n",
       "  <clipPath id=\"clip3202\">\n",
       "    <rect x=\"141\" y=\"121\" width=\"1732\" height=\"985\"/>\n",
       "  </clipPath>\n",
       "</defs>\n",
       "<polyline clip-path=\"url(#clip3202)\" style=\"stroke:#000000; stroke-width:2; stroke-opacity:0.1; fill:none\" points=\"\n",
       "  190.852,1105.62 190.852,121.675 \n",
       "  \"/>\n",
       "<polyline clip-path=\"url(#clip3202)\" style=\"stroke:#000000; stroke-width:2; stroke-opacity:0.1; fill:none\" points=\"\n",
       "  735.157,1105.62 735.157,121.675 \n",
       "  \"/>\n",
       "<polyline clip-path=\"url(#clip3202)\" style=\"stroke:#000000; stroke-width:2; stroke-opacity:0.1; fill:none\" points=\"\n",
       "  1279.46,1105.62 1279.46,121.675 \n",
       "  \"/>\n",
       "<polyline clip-path=\"url(#clip3202)\" style=\"stroke:#000000; stroke-width:2; stroke-opacity:0.1; fill:none\" points=\"\n",
       "  1823.77,1105.62 1823.77,121.675 \n",
       "  \"/>\n",
       "<polyline clip-path=\"url(#clip3202)\" style=\"stroke:#000000; stroke-width:2; stroke-opacity:0.1; fill:none\" points=\"\n",
       "  141.865,954.005 1872.76,954.005 \n",
       "  \"/>\n",
       "<polyline clip-path=\"url(#clip3202)\" style=\"stroke:#000000; stroke-width:2; stroke-opacity:0.1; fill:none\" points=\"\n",
       "  141.865,768.355 1872.76,768.355 \n",
       "  \"/>\n",
       "<polyline clip-path=\"url(#clip3202)\" style=\"stroke:#000000; stroke-width:2; stroke-opacity:0.1; fill:none\" points=\"\n",
       "  141.865,582.705 1872.76,582.705 \n",
       "  \"/>\n",
       "<polyline clip-path=\"url(#clip3202)\" style=\"stroke:#000000; stroke-width:2; stroke-opacity:0.1; fill:none\" points=\"\n",
       "  141.865,397.056 1872.76,397.056 \n",
       "  \"/>\n",
       "<polyline clip-path=\"url(#clip3202)\" style=\"stroke:#000000; stroke-width:2; stroke-opacity:0.1; fill:none\" points=\"\n",
       "  141.865,211.406 1872.76,211.406 \n",
       "  \"/>\n",
       "<polyline clip-path=\"url(#clip3200)\" style=\"stroke:#000000; stroke-width:4; stroke-opacity:1; fill:none\" points=\"\n",
       "  141.865,1105.62 1872.76,1105.62 \n",
       "  \"/>\n",
       "<polyline clip-path=\"url(#clip3200)\" style=\"stroke:#000000; stroke-width:4; stroke-opacity:1; fill:none\" points=\"\n",
       "  141.865,1105.62 141.865,121.675 \n",
       "  \"/>\n",
       "<polyline clip-path=\"url(#clip3200)\" style=\"stroke:#000000; stroke-width:4; stroke-opacity:1; fill:none\" points=\"\n",
       "  190.852,1105.62 190.852,1090.86 \n",
       "  \"/>\n",
       "<polyline clip-path=\"url(#clip3200)\" style=\"stroke:#000000; stroke-width:4; stroke-opacity:1; fill:none\" points=\"\n",
       "  735.157,1105.62 735.157,1090.86 \n",
       "  \"/>\n",
       "<polyline clip-path=\"url(#clip3200)\" style=\"stroke:#000000; stroke-width:4; stroke-opacity:1; fill:none\" points=\"\n",
       "  1279.46,1105.62 1279.46,1090.86 \n",
       "  \"/>\n",
       "<polyline clip-path=\"url(#clip3200)\" style=\"stroke:#000000; stroke-width:4; stroke-opacity:1; fill:none\" points=\"\n",
       "  1823.77,1105.62 1823.77,1090.86 \n",
       "  \"/>\n",
       "<polyline clip-path=\"url(#clip3200)\" style=\"stroke:#000000; stroke-width:4; stroke-opacity:1; fill:none\" points=\"\n",
       "  141.865,954.005 167.828,954.005 \n",
       "  \"/>\n",
       "<polyline clip-path=\"url(#clip3200)\" style=\"stroke:#000000; stroke-width:4; stroke-opacity:1; fill:none\" points=\"\n",
       "  141.865,768.355 167.828,768.355 \n",
       "  \"/>\n",
       "<polyline clip-path=\"url(#clip3200)\" style=\"stroke:#000000; stroke-width:4; stroke-opacity:1; fill:none\" points=\"\n",
       "  141.865,582.705 167.828,582.705 \n",
       "  \"/>\n",
       "<polyline clip-path=\"url(#clip3200)\" style=\"stroke:#000000; stroke-width:4; stroke-opacity:1; fill:none\" points=\"\n",
       "  141.865,397.056 167.828,397.056 \n",
       "  \"/>\n",
       "<polyline clip-path=\"url(#clip3200)\" style=\"stroke:#000000; stroke-width:4; stroke-opacity:1; fill:none\" points=\"\n",
       "  141.865,211.406 167.828,211.406 \n",
       "  \"/>\n",
       "<g clip-path=\"url(#clip3200)\">\n",
       "<text style=\"fill:#000000; fill-opacity:1; font-family:Arial,Helvetica Neue,Helvetica,sans-serif; font-size:48px; text-anchor:middle;\" transform=\"rotate(0, 190.852, 1157.22)\" x=\"190.852\" y=\"1157.22\">0</text>\n",
       "</g>\n",
       "<g clip-path=\"url(#clip3200)\">\n",
       "<text style=\"fill:#000000; fill-opacity:1; font-family:Arial,Helvetica Neue,Helvetica,sans-serif; font-size:48px; text-anchor:middle;\" transform=\"rotate(0, 735.157, 1157.22)\" x=\"735.157\" y=\"1157.22\">5</text>\n",
       "</g>\n",
       "<g clip-path=\"url(#clip3200)\">\n",
       "<text style=\"fill:#000000; fill-opacity:1; font-family:Arial,Helvetica Neue,Helvetica,sans-serif; font-size:48px; text-anchor:middle;\" transform=\"rotate(0, 1279.46, 1157.22)\" x=\"1279.46\" y=\"1157.22\">10</text>\n",
       "</g>\n",
       "<g clip-path=\"url(#clip3200)\">\n",
       "<text style=\"fill:#000000; fill-opacity:1; font-family:Arial,Helvetica Neue,Helvetica,sans-serif; font-size:48px; text-anchor:middle;\" transform=\"rotate(0, 1823.77, 1157.22)\" x=\"1823.77\" y=\"1157.22\">15</text>\n",
       "</g>\n",
       "<g clip-path=\"url(#clip3200)\">\n",
       "<text style=\"fill:#000000; fill-opacity:1; font-family:Arial,Helvetica Neue,Helvetica,sans-serif; font-size:48px; text-anchor:end;\" transform=\"rotate(0, 122.665, 971.505)\" x=\"122.665\" y=\"971.505\">-3</text>\n",
       "</g>\n",
       "<g clip-path=\"url(#clip3200)\">\n",
       "<text style=\"fill:#000000; fill-opacity:1; font-family:Arial,Helvetica Neue,Helvetica,sans-serif; font-size:48px; text-anchor:end;\" transform=\"rotate(0, 122.665, 785.855)\" x=\"122.665\" y=\"785.855\">0</text>\n",
       "</g>\n",
       "<g clip-path=\"url(#clip3200)\">\n",
       "<text style=\"fill:#000000; fill-opacity:1; font-family:Arial,Helvetica Neue,Helvetica,sans-serif; font-size:48px; text-anchor:end;\" transform=\"rotate(0, 122.665, 600.205)\" x=\"122.665\" y=\"600.205\">3</text>\n",
       "</g>\n",
       "<g clip-path=\"url(#clip3200)\">\n",
       "<text style=\"fill:#000000; fill-opacity:1; font-family:Arial,Helvetica Neue,Helvetica,sans-serif; font-size:48px; text-anchor:end;\" transform=\"rotate(0, 122.665, 414.556)\" x=\"122.665\" y=\"414.556\">6</text>\n",
       "</g>\n",
       "<g clip-path=\"url(#clip3200)\">\n",
       "<text style=\"fill:#000000; fill-opacity:1; font-family:Arial,Helvetica Neue,Helvetica,sans-serif; font-size:48px; text-anchor:end;\" transform=\"rotate(0, 122.665, 228.906)\" x=\"122.665\" y=\"228.906\">9</text>\n",
       "</g>\n",
       "<g clip-path=\"url(#clip3200)\">\n",
       "<text style=\"fill:#000000; fill-opacity:1; font-family:Arial,Helvetica Neue,Helvetica,sans-serif; font-size:84px; text-anchor:middle;\" transform=\"rotate(0, 1007.31, 73.2)\" x=\"1007.31\" y=\"73.2\">Payoff of forward contract (F = 5)</text>\n",
       "</g>\n",
       "<g clip-path=\"url(#clip3200)\">\n",
       "<text style=\"fill:#000000; fill-opacity:1; font-family:Arial,Helvetica Neue,Helvetica,sans-serif; font-size:66px; text-anchor:middle;\" transform=\"rotate(0, 1007.31, 1234.68)\" x=\"1007.31\" y=\"1234.68\">Asset price at expiration</text>\n",
       "</g>\n",
       "<polyline clip-path=\"url(#clip3202)\" style=\"stroke:#ff0000; stroke-width:8; stroke-opacity:1; fill:none\" points=\"\n",
       "  190.852,1077.77 299.713,1015.89 408.574,954.005 517.435,892.121 626.296,830.238 735.157,768.355 844.019,706.472 952.88,644.588 1061.74,582.705 1170.6,520.822 \n",
       "  1279.46,458.939 1388.32,397.056 1497.19,335.172 1606.05,273.289 1714.91,211.406 1823.77,149.523 \n",
       "  \"/>\n",
       "<polyline clip-path=\"url(#clip3202)\" style=\"stroke:#000000; stroke-width:4; stroke-opacity:1; fill:none\" stroke-dasharray=\"16, 10\" points=\"\n",
       "  -172947,768.355 174962,768.355 \n",
       "  \"/>\n",
       "<polyline clip-path=\"url(#clip3202)\" style=\"stroke:#000000; stroke-width:4; stroke-opacity:1; fill:none\" stroke-dasharray=\"16, 10\" points=\"\n",
       "  735.157,99500 735.157,-98272.7 \n",
       "  \"/>\n",
       "</svg>\n"
      ]
     },
     "execution_count": 4,
     "metadata": {},
     "output_type": "execute_result"
    }
   ],
   "source": [
    "Sₘ = 0:15   #possible values of the underlying price at expiration\n",
    "F  = 5\n",
    "ForwardPayoff = Sₘ .- F\n",
    "\n",
    "p1 = plot(Sₘ,ForwardPayoff,color=:red,linewidth=2,legend=false)\n",
    "title!(\"Payoff of forward contract (F = $F)\")\n",
    "xlabel!(\"Asset price at expiration\")\n",
    "plot!([0],linetype=:hline,linecolor=:black,line=(:dash,1))\n",
    "plot!([F],linetype=:vline,linecolor=:black,line=(:dash,1))"
   ]
  },
  {
   "cell_type": "markdown",
   "metadata": {},
   "source": [
    "# Forward-Spot Parity"
   ]
  },
  {
   "cell_type": "markdown",
   "metadata": {},
   "source": [
    "Recall: for an asset without dividends (at least until expiration of the forward contract), $F=e^{my}S$\n",
    "\n",
    "For an asset with continuous dividends at the rate $\\delta$, $F=e^{m(y-\\delta)}S$"
   ]
  },
  {
   "cell_type": "code",
   "execution_count": 5,
   "metadata": {},
   "outputs": [
    {
     "name": "stdout",
     "output_type": "stream",
     "text": [
      "\u001b[34m\u001b[1mForward prices:\u001b[22m\u001b[39m\n",
      "    no dividends  with dividends\n",
      "         103.821         103.045\n",
      "\n"
     ]
    }
   ],
   "source": [
    "y = 0.05\n",
    "m = 3/4\n",
    "S = 100 \n",
    "F_A = exp(m*y)*S\n",
    "\n",
    "δ = 0.01\n",
    "F_B = exp(m*(y-δ))*S\n",
    "\n",
    "printblue(\"Forward prices:\")\n",
    "printTable([F_A F_B],[\"no dividends\";\"with dividends\"],[\"\"],width=16)"
   ]
  },
  {
   "cell_type": "markdown",
   "metadata": {},
   "source": [
    "### Forward Price of a Bond"
   ]
  },
  {
   "cell_type": "markdown",
   "metadata": {},
   "source": [
    "Recall: the forward price (with expiration $m$ of the forward) of a bond that matures in $n$ is $F=e^{my(m)}B(n)$, where $y(m)$ denotes the interest for an $m$-period loan.\n",
    "\n",
    "By definition, $1/B(m)= e^{my(m)}$. Combine to get \n",
    "\n",
    "$F=B(n)/B(m)$"
   ]
  },
  {
   "cell_type": "code",
   "execution_count": 6,
   "metadata": {},
   "outputs": [
    {
     "name": "stdout",
     "output_type": "stream",
     "text": [
      "\u001b[34m\u001b[1mbond and forward prices: \u001b[22m\u001b[39m\n",
      "                 price\n",
      "5-bond           0.779\n",
      "7-bond           0.657\n",
      "5->7 forward     0.844\n",
      "\n"
     ]
    }
   ],
   "source": [
    "m  = 5                      #time to maturity\n",
    "n  = 7\n",
    "ym = 0.05                  #interest rates \n",
    "yn = 0.06\n",
    "Bm = exp(-m*ym)            #bond price\n",
    "Bn = exp(-n*yn)\n",
    "F = Bn/Bm\n",
    "\n",
    "printblue(\"bond and forward prices: \")\n",
    "xx = [Bm,Bn,F]\n",
    "printTable(xx,[\"price\"],[\"$m-bond\",\"$n-bond\",\"$m->$n forward\"])"
   ]
  },
  {
   "cell_type": "markdown",
   "metadata": {},
   "source": [
    "### Covered Interest Rate Parity"
   ]
  },
  {
   "cell_type": "markdown",
   "metadata": {},
   "source": [
    "The \"dividend rate\" on foreign currency is the foreign interest rate $y^*$ (since you can keep the foreign currency on a foreign bank account). The forward-spot parity then gives\n",
    "$F=e^{m(y-y^*)}S$.\n",
    "\n",
    "We also calculate the return on a \"covered\" strategy: (a) buy foreign currency; (b) lend it abroad; (c) enter a forward on the domestic currency; (d) pay forward price and get domestic currency."
   ]
  },
  {
   "cell_type": "code",
   "execution_count": 7,
   "metadata": {},
   "outputs": [
    {
     "name": "stdout",
     "output_type": "stream",
     "text": [
      "Forward price of foreign currency:      1.220\n",
      "\n",
      "log return on covered strategy:          6.650\n",
      "compare with domestic interest rate:     6.650\n"
     ]
    }
   ],
   "source": [
    "S     = 1.2\n",
    "m     = 1\n",
    "y     = 0.0665\n",
    "ystar = 0.05\n",
    "\n",
    "F = S*exp(m*(y-ystar))\n",
    "\n",
    "printlnPs(\"Forward price of foreign currency: \",F)\n",
    "\n",
    "TradingReturn = exp(ystar)*F/S - 1\n",
    "logTR         = log(TradingReturn+1)\n",
    "\n",
    "printlnPs(\"\\nlog return on covered strategy:     \",100*logTR)\n",
    "printlnPs(\"compare with domestic interest rate:\",y*100)"
   ]
  },
  {
   "cell_type": "code",
   "execution_count": null,
   "metadata": {},
   "outputs": [],
   "source": []
  }
 ],
 "metadata": {
  "@webio": {
   "lastCommId": null,
   "lastKernelId": null
  },
  "anaconda-cloud": {},
  "kernelspec": {
   "display_name": "Julia 1.1.1",
   "language": "julia",
   "name": "julia-1.1"
  },
  "language_info": {
   "file_extension": ".jl",
   "mimetype": "application/julia",
   "name": "julia",
   "version": "1.1.1"
  }
 },
 "nbformat": 4,
 "nbformat_minor": 1
}
