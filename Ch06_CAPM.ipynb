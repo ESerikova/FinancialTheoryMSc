{
 "cells": [
  {
   "cell_type": "markdown",
   "metadata": {},
   "source": [
    "# CAPM\n",
    "\n",
    "This notebook summarizes the implicatations of CAPM and then tests them by OLS."
   ]
  },
  {
   "cell_type": "markdown",
   "metadata": {},
   "source": [
    "## Load Packages and Extra Functions"
   ]
  },
  {
   "cell_type": "code",
   "execution_count": 1,
   "metadata": {},
   "outputs": [
    {
     "data": {
      "text/plain": [
       "OlsGMFn"
      ]
     },
     "execution_count": 1,
     "metadata": {},
     "output_type": "execute_result"
    }
   ],
   "source": [
    "using Dates, DelimitedFiles, Statistics\n",
    "\n",
    "include(\"jlFiles/printmat.jl\")\n",
    "include(\"jlFiles/printTable.jl\")\n",
    "include(\"jlFiles/OlsGMFn.jl\")"
   ]
  },
  {
   "cell_type": "code",
   "execution_count": 2,
   "metadata": {},
   "outputs": [],
   "source": [
    "using Plots\n",
    "\n",
    "#pyplot(size=(600,400))\n",
    "gr(size=(480,320))\n",
    "default(fmt = :svg)"
   ]
  },
  {
   "cell_type": "markdown",
   "metadata": {},
   "source": [
    "# The Theoretical Predictions of CAPM\n",
    "\n",
    "The following section illustrates the theoretical predictions of CAPM by taking the following steps: \n",
    "\n",
    "1. define a set of investable assets\n",
    "2. find the tangency portfolio\n",
    "3. calculate the betas of each asset against the tangency portfolio\n",
    "4. check whether the average returns are in accordance with CAPM."
   ]
  },
  {
   "cell_type": "markdown",
   "metadata": {},
   "source": [
    "## Characteristics of Three Assets: Means and Covariances"
   ]
  },
  {
   "cell_type": "code",
   "execution_count": 3,
   "metadata": {},
   "outputs": [
    {
     "name": "stdout",
     "output_type": "stream",
     "text": [
      "\u001b[34m\u001b[1mexpected returns:\u001b[22m\u001b[39m\n",
      "     0.115\n",
      "     0.095\n",
      "     0.060\n",
      "\n",
      "\u001b[34m\u001b[1mcovariance matrix:\u001b[22m\u001b[39m\n",
      "     0.017     0.003     0.006\n",
      "     0.003     0.006     0.000\n",
      "     0.006     0.000     0.010\n",
      "\n"
     ]
    }
   ],
   "source": [
    "μ = [0.115; 0.095; 0.06]    #expected returns\n",
    "Σ  = [166  34  58;          #covariance matrix\n",
    "       34  64   4;\n",
    "       58   4 100]/100^2\n",
    "Rf = 0.03\n",
    "\n",
    "printblue(\"expected returns:\")\n",
    "printmat(μ)\n",
    "printblue(\"covariance matrix:\")\n",
    "printmat(Σ)"
   ]
  },
  {
   "cell_type": "markdown",
   "metadata": {},
   "source": [
    "## The Tangency Portfolio\n",
    "\n",
    "The file included below contains, among other things, the function `MVTangencyP()` from the chapter on MV analysis."
   ]
  },
  {
   "cell_type": "code",
   "execution_count": 4,
   "metadata": {},
   "outputs": [
    {
     "data": {
      "text/plain": [
       "MVTangencyP"
      ]
     },
     "execution_count": 4,
     "metadata": {},
     "output_type": "execute_result"
    }
   ],
   "source": [
    "include(\"jlFiles/MvCalculations.jl\")"
   ]
  },
  {
   "cell_type": "code",
   "execution_count": 5,
   "metadata": {},
   "outputs": [
    {
     "name": "stdout",
     "output_type": "stream",
     "text": [
      "\u001b[34m\u001b[1mTangency portfolio weights:\u001b[22m\u001b[39m\n",
      "     0.248\n",
      "     0.682\n",
      "     0.070\n",
      "\n"
     ]
    }
   ],
   "source": [
    "(wT,μT,σT) = MVTangencyP(μ,Σ,Rf)\n",
    "printblue(\"Tangency portfolio weights:\")\n",
    "printmat(wT)"
   ]
  },
  {
   "cell_type": "markdown",
   "metadata": {},
   "source": [
    "## (Theoretical) β of the Assets\n",
    "\n",
    "The tangency portfolio is a portfolio of the investable assets ($R_T=w_T'R$). It is therefore straightforward to calculate the covariance (and betas) of $R_T$ with each of the assets.\n",
    "\n",
    "Details: \n",
    "\n",
    "$\\textrm{Cov}(R_i,R_T) = w_i'\\Sigma w_T$, and $\\beta_i = \\textrm{Cov}(R_i,R_T)/\\textrm{Var}(R_T)$."
   ]
  },
  {
   "cell_type": "code",
   "execution_count": 6,
   "metadata": {},
   "outputs": [
    {
     "name": "stdout",
     "output_type": "stream",
     "text": [
      "\u001b[34m\u001b[1mβ of the 3 assets:\u001b[22m\u001b[39m\n",
      "     1.259\n",
      "     0.963\n",
      "     0.444\n",
      "\n"
     ]
    }
   ],
   "source": [
    "n = length(μ)                      #no. assets\n",
    "\n",
    "β     = fill(NaN,n)\n",
    "for i = 1:n\n",
    "    #local wi, CoviT               #only needed in REPL/script\n",
    "    wi     = zeros(n)\n",
    "    wi[i]  = 1                      #weight 1 on asset i\n",
    "    CoviT = wi'Σ*wT\n",
    "    β[i]   = CoviT/σT^2          #usual OLS coefficient: Cov(x,y)/Var(x)\n",
    "end\n",
    "\n",
    "printblue(\"β of the $n assets:\")\n",
    "printmat(β)"
   ]
  },
  {
   "cell_type": "markdown",
   "metadata": {},
   "source": [
    "## Trying CAPM on the Three Assets"
   ]
  },
  {
   "cell_type": "markdown",
   "metadata": {},
   "source": [
    "Recall: CAPMS says\n",
    "\n",
    "$\\textrm{E}R_{i}  = R_f + \\beta_{i}(\\mu_{T}-R_f)$\n",
    " \n",
    "This can be compared with the (actual) average returns. "
   ]
  },
  {
   "cell_type": "code",
   "execution_count": 7,
   "metadata": {},
   "outputs": [
    {
     "name": "stdout",
     "output_type": "stream",
     "text": [
      "\u001b[34m\u001b[1mμ and ER as suggested by CAPM: \u001b[22m\u001b[39m\n",
      "     0.115     0.115\n",
      "     0.095     0.095\n",
      "     0.060     0.060\n",
      "\n"
     ]
    }
   ],
   "source": [
    "ERi_CAPM = Rf .+ β*(μT-Rf)      #vector since β is\n",
    "\n",
    "printblue(\"μ and ER as suggested by CAPM: \")\n",
    "printmat([μ ERi_CAPM])"
   ]
  },
  {
   "cell_type": "code",
   "execution_count": 8,
   "metadata": {},
   "outputs": [
    {
     "data": {
      "image/svg+xml": [
       "<?xml version=\"1.0\" encoding=\"utf-8\"?>\n",
       "<svg xmlns=\"http://www.w3.org/2000/svg\" xmlns:xlink=\"http://www.w3.org/1999/xlink\" width=\"480\" height=\"320\" viewBox=\"0 0 1920 1280\">\n",
       "<defs>\n",
       "  <clipPath id=\"clip4400\">\n",
       "    <rect x=\"0\" y=\"0\" width=\"1920\" height=\"1280\"/>\n",
       "  </clipPath>\n",
       "</defs>\n",
       "<path clip-path=\"url(#clip4400)\" d=\"\n",
       "M0 1280 L1920 1280 L1920 0 L0 0  Z\n",
       "  \" fill=\"#ffffff\" fill-rule=\"evenodd\" fill-opacity=\"1\"/>\n",
       "<defs>\n",
       "  <clipPath id=\"clip4401\">\n",
       "    <rect x=\"384\" y=\"0\" width=\"1345\" height=\"1280\"/>\n",
       "  </clipPath>\n",
       "</defs>\n",
       "<path clip-path=\"url(#clip4400)\" d=\"\n",
       "M202.373 1105.62 L1872.76 1105.62 L1872.76 121.675 L202.373 121.675  Z\n",
       "  \" fill=\"#ffffff\" fill-rule=\"evenodd\" fill-opacity=\"1\"/>\n",
       "<defs>\n",
       "  <clipPath id=\"clip4402\">\n",
       "    <rect x=\"202\" y=\"121\" width=\"1671\" height=\"985\"/>\n",
       "  </clipPath>\n",
       "</defs>\n",
       "<polyline clip-path=\"url(#clip4402)\" style=\"stroke:#000000; stroke-width:2; stroke-opacity:0.1; fill:none\" points=\"\n",
       "  202.373,1105.62 202.373,121.675 \n",
       "  \"/>\n",
       "<polyline clip-path=\"url(#clip4402)\" style=\"stroke:#000000; stroke-width:2; stroke-opacity:0.1; fill:none\" points=\"\n",
       "  619.969,1105.62 619.969,121.675 \n",
       "  \"/>\n",
       "<polyline clip-path=\"url(#clip4402)\" style=\"stroke:#000000; stroke-width:2; stroke-opacity:0.1; fill:none\" points=\"\n",
       "  1037.56,1105.62 1037.56,121.675 \n",
       "  \"/>\n",
       "<polyline clip-path=\"url(#clip4402)\" style=\"stroke:#000000; stroke-width:2; stroke-opacity:0.1; fill:none\" points=\"\n",
       "  1455.16,1105.62 1455.16,121.675 \n",
       "  \"/>\n",
       "<polyline clip-path=\"url(#clip4402)\" style=\"stroke:#000000; stroke-width:2; stroke-opacity:0.1; fill:none\" points=\"\n",
       "  1872.76,1105.62 1872.76,121.675 \n",
       "  \"/>\n",
       "<polyline clip-path=\"url(#clip4402)\" style=\"stroke:#000000; stroke-width:2; stroke-opacity:0.1; fill:none\" points=\"\n",
       "  202.373,1105.62 1872.76,1105.62 \n",
       "  \"/>\n",
       "<polyline clip-path=\"url(#clip4402)\" style=\"stroke:#000000; stroke-width:2; stroke-opacity:0.1; fill:none\" points=\"\n",
       "  202.373,777.637 1872.76,777.637 \n",
       "  \"/>\n",
       "<polyline clip-path=\"url(#clip4402)\" style=\"stroke:#000000; stroke-width:2; stroke-opacity:0.1; fill:none\" points=\"\n",
       "  202.373,449.656 1872.76,449.656 \n",
       "  \"/>\n",
       "<polyline clip-path=\"url(#clip4402)\" style=\"stroke:#000000; stroke-width:2; stroke-opacity:0.1; fill:none\" points=\"\n",
       "  202.373,121.675 1872.76,121.675 \n",
       "  \"/>\n",
       "<polyline clip-path=\"url(#clip4400)\" style=\"stroke:#000000; stroke-width:4; stroke-opacity:1; fill:none\" points=\"\n",
       "  202.373,1105.62 1872.76,1105.62 \n",
       "  \"/>\n",
       "<polyline clip-path=\"url(#clip4400)\" style=\"stroke:#000000; stroke-width:4; stroke-opacity:1; fill:none\" points=\"\n",
       "  202.373,1105.62 202.373,121.675 \n",
       "  \"/>\n",
       "<polyline clip-path=\"url(#clip4400)\" style=\"stroke:#000000; stroke-width:4; stroke-opacity:1; fill:none\" points=\"\n",
       "  202.373,1105.62 202.373,1090.86 \n",
       "  \"/>\n",
       "<polyline clip-path=\"url(#clip4400)\" style=\"stroke:#000000; stroke-width:4; stroke-opacity:1; fill:none\" points=\"\n",
       "  619.969,1105.62 619.969,1090.86 \n",
       "  \"/>\n",
       "<polyline clip-path=\"url(#clip4400)\" style=\"stroke:#000000; stroke-width:4; stroke-opacity:1; fill:none\" points=\"\n",
       "  1037.56,1105.62 1037.56,1090.86 \n",
       "  \"/>\n",
       "<polyline clip-path=\"url(#clip4400)\" style=\"stroke:#000000; stroke-width:4; stroke-opacity:1; fill:none\" points=\"\n",
       "  1455.16,1105.62 1455.16,1090.86 \n",
       "  \"/>\n",
       "<polyline clip-path=\"url(#clip4400)\" style=\"stroke:#000000; stroke-width:4; stroke-opacity:1; fill:none\" points=\"\n",
       "  1872.76,1105.62 1872.76,1090.86 \n",
       "  \"/>\n",
       "<polyline clip-path=\"url(#clip4400)\" style=\"stroke:#000000; stroke-width:4; stroke-opacity:1; fill:none\" points=\"\n",
       "  202.373,1105.62 227.429,1105.62 \n",
       "  \"/>\n",
       "<polyline clip-path=\"url(#clip4400)\" style=\"stroke:#000000; stroke-width:4; stroke-opacity:1; fill:none\" points=\"\n",
       "  202.373,777.637 227.429,777.637 \n",
       "  \"/>\n",
       "<polyline clip-path=\"url(#clip4400)\" style=\"stroke:#000000; stroke-width:4; stroke-opacity:1; fill:none\" points=\"\n",
       "  202.373,449.656 227.429,449.656 \n",
       "  \"/>\n",
       "<polyline clip-path=\"url(#clip4400)\" style=\"stroke:#000000; stroke-width:4; stroke-opacity:1; fill:none\" points=\"\n",
       "  202.373,121.675 227.429,121.675 \n",
       "  \"/>\n",
       "<g clip-path=\"url(#clip4400)\">\n",
       "<text style=\"fill:#000000; fill-opacity:1; font-family:Arial,Helvetica Neue,Helvetica,sans-serif; font-size:48px; text-anchor:middle;\" transform=\"rotate(0, 202.373, 1157.22)\" x=\"202.373\" y=\"1157.22\">0.0</text>\n",
       "</g>\n",
       "<g clip-path=\"url(#clip4400)\">\n",
       "<text style=\"fill:#000000; fill-opacity:1; font-family:Arial,Helvetica Neue,Helvetica,sans-serif; font-size:48px; text-anchor:middle;\" transform=\"rotate(0, 619.969, 1157.22)\" x=\"619.969\" y=\"1157.22\">0.5</text>\n",
       "</g>\n",
       "<g clip-path=\"url(#clip4400)\">\n",
       "<text style=\"fill:#000000; fill-opacity:1; font-family:Arial,Helvetica Neue,Helvetica,sans-serif; font-size:48px; text-anchor:middle;\" transform=\"rotate(0, 1037.56, 1157.22)\" x=\"1037.56\" y=\"1157.22\">1.0</text>\n",
       "</g>\n",
       "<g clip-path=\"url(#clip4400)\">\n",
       "<text style=\"fill:#000000; fill-opacity:1; font-family:Arial,Helvetica Neue,Helvetica,sans-serif; font-size:48px; text-anchor:middle;\" transform=\"rotate(0, 1455.16, 1157.22)\" x=\"1455.16\" y=\"1157.22\">1.5</text>\n",
       "</g>\n",
       "<g clip-path=\"url(#clip4400)\">\n",
       "<text style=\"fill:#000000; fill-opacity:1; font-family:Arial,Helvetica Neue,Helvetica,sans-serif; font-size:48px; text-anchor:middle;\" transform=\"rotate(0, 1872.76, 1157.22)\" x=\"1872.76\" y=\"1157.22\">2.0</text>\n",
       "</g>\n",
       "<g clip-path=\"url(#clip4400)\">\n",
       "<text style=\"fill:#000000; fill-opacity:1; font-family:Arial,Helvetica Neue,Helvetica,sans-serif; font-size:48px; text-anchor:end;\" transform=\"rotate(0, 183.173, 1123.12)\" x=\"183.173\" y=\"1123.12\">0</text>\n",
       "</g>\n",
       "<g clip-path=\"url(#clip4400)\">\n",
       "<text style=\"fill:#000000; fill-opacity:1; font-family:Arial,Helvetica Neue,Helvetica,sans-serif; font-size:48px; text-anchor:end;\" transform=\"rotate(0, 183.173, 795.137)\" x=\"183.173\" y=\"795.137\">5</text>\n",
       "</g>\n",
       "<g clip-path=\"url(#clip4400)\">\n",
       "<text style=\"fill:#000000; fill-opacity:1; font-family:Arial,Helvetica Neue,Helvetica,sans-serif; font-size:48px; text-anchor:end;\" transform=\"rotate(0, 183.173, 467.156)\" x=\"183.173\" y=\"467.156\">10</text>\n",
       "</g>\n",
       "<g clip-path=\"url(#clip4400)\">\n",
       "<text style=\"fill:#000000; fill-opacity:1; font-family:Arial,Helvetica Neue,Helvetica,sans-serif; font-size:48px; text-anchor:end;\" transform=\"rotate(0, 183.173, 139.175)\" x=\"183.173\" y=\"139.175\">15</text>\n",
       "</g>\n",
       "<g clip-path=\"url(#clip4400)\">\n",
       "<text style=\"fill:#000000; fill-opacity:1; font-family:Arial,Helvetica Neue,Helvetica,sans-serif; font-size:84px; text-anchor:middle;\" transform=\"rotate(0, 1037.56, 73.2)\" x=\"1037.56\" y=\"73.2\">beta vs ERi</text>\n",
       "</g>\n",
       "<g clip-path=\"url(#clip4400)\">\n",
       "<text style=\"fill:#000000; fill-opacity:1; font-family:Arial,Helvetica Neue,Helvetica,sans-serif; font-size:66px; text-anchor:middle;\" transform=\"rotate(0, 1037.56, 1234.68)\" x=\"1037.56\" y=\"1234.68\">beta</text>\n",
       "</g>\n",
       "<g clip-path=\"url(#clip4400)\">\n",
       "<text style=\"fill:#000000; fill-opacity:1; font-family:Arial,Helvetica Neue,Helvetica,sans-serif; font-size:66px; text-anchor:middle;\" transform=\"rotate(-90, 98.8861, 613.647)\" x=\"98.8861\" y=\"613.647\">ERi, %</text>\n",
       "</g>\n",
       "<circle clip-path=\"url(#clip4402)\" style=\"fill:#000000; stroke:none; fill-opacity:1\" cx=\"1254.13\" cy=\"351.262\" r=\"18\"/>\n",
       "<circle clip-path=\"url(#clip4402)\" style=\"fill:#009af9; stroke:none; fill-opacity:1\" cx=\"1254.13\" cy=\"351.262\" r=\"14\"/>\n",
       "<circle clip-path=\"url(#clip4402)\" style=\"fill:#000000; stroke:none; fill-opacity:1\" cx=\"1006.65\" cy=\"482.454\" r=\"18\"/>\n",
       "<circle clip-path=\"url(#clip4402)\" style=\"fill:#009af9; stroke:none; fill-opacity:1\" cx=\"1006.65\" cy=\"482.454\" r=\"14\"/>\n",
       "<circle clip-path=\"url(#clip4402)\" style=\"fill:#000000; stroke:none; fill-opacity:1\" cx=\"573.58\" cy=\"712.041\" r=\"18\"/>\n",
       "<circle clip-path=\"url(#clip4402)\" style=\"fill:#009af9; stroke:none; fill-opacity:1\" cx=\"573.58\" cy=\"712.041\" r=\"14\"/>\n",
       "</svg>\n"
      ]
     },
     "execution_count": 8,
     "metadata": {},
     "output_type": "execute_result"
    }
   ],
   "source": [
    "scatter( β,ERi_CAPM*100,\n",
    "         xlim = (0,2),\n",
    "         ylim = (0,15),\n",
    "         legend = false,\n",
    "         title = \"beta vs ERi\",\n",
    "         xlabel = \"beta\",\n",
    "         ylabel = \"ERi, %\" )"
   ]
  },
  {
   "cell_type": "markdown",
   "metadata": {},
   "source": [
    "# An Empirical Test of CAPM \n",
    "\n",
    "The next section performs an empirical test of CAPM. First, we load data. Second, we run linear regressions and test whether the intercept is zero (the CAPM prediction) or not."
   ]
  },
  {
   "cell_type": "markdown",
   "metadata": {},
   "source": [
    "## Loading Data"
   ]
  },
  {
   "cell_type": "code",
   "execution_count": 9,
   "metadata": {},
   "outputs": [
    {
     "data": {
      "text/plain": [
       "(388, 5)"
      ]
     },
     "execution_count": 9,
     "metadata": {},
     "output_type": "execute_result"
    }
   ],
   "source": [
    "x    = readdlm(\"Data/FFmFactorsPs.csv\",',',skipstart=1)\n",
    "Rme  = x[:,2]                #market excess return\n",
    "RSMB = x[:,3]                #small minus big firms\n",
    "RHML = x[:,4]                #high minus low book-to-market ratio\n",
    "Rf   = x[:,5]                #interest rate\n",
    "\n",
    "\n",
    "x  = readdlm(\"Data/FF25Ps.csv\",',') #no header line: x is matrix\n",
    "R  = x[:,2:end]                     #returns for 25 FF portfolios\n",
    "Re = R .- Rf                        #excess returns for the 25 FF portfolios\n",
    "Re = Re[:,[1;7;13;19;25]]           #use just 5 assets to make the printing easier \n",
    "\n",
    "(T,n) = size(Re)                 #no. obs and  no. test assets"
   ]
  },
  {
   "cell_type": "markdown",
   "metadata": {},
   "source": [
    "## OLS Estimation and Testing α = 0"
   ]
  },
  {
   "cell_type": "markdown",
   "metadata": {},
   "source": [
    "We now use the market return as a proxy for the tangency portfolio - and test if the model holds.\n",
    "\n",
    "Recall: estimate $(\\alpha_{i},b_{i})$ in the CAPM regression\n",
    "\n",
    "$R_{it}^{e}  =\\alpha_{i}+b_{i}R_{mt}^{e}+\\varepsilon_{it}$\n",
    "\n",
    "Test if $\\alpha_{i}=0$\n",
    "\n",
    "Under the Gauss-Markov assumptions, $\\textrm{Cov}(\\alpha_{i},b_{i}) = (X'X)^{-1}\\textrm{Var}(\\varepsilon_{it})$,\n",
    "where row $t$ of $X$ contains $[1, R_{mt}^e]$. Use element [1,1] of the covariance matrix as the variance of the $\\alpha_i$ estimate."
   ]
  },
  {
   "cell_type": "code",
   "execution_count": 10,
   "metadata": {},
   "outputs": [
    {
     "name": "stdout",
     "output_type": "stream",
     "text": [
      "\u001b[34m\u001b[1mOLS intercepts and t-stats:\u001b[22m\u001b[39m\n",
      "         asset 1   asset 2   asset 3   asset 4   asset 5\n",
      "α         -0.504     0.153     0.305     0.279     0.336\n",
      "t-stat    -1.656     1.031     2.471     2.163     2.073\n",
      "\n"
     ]
    }
   ],
   "source": [
    "x   = [ones(T) Rme]                   #regressors\n",
    "\n",
    "α     = fill(NaN,n)\n",
    "tstat = fill(NaN,n)\n",
    "for i = 1:n                              #loop over the different test assets\n",
    "    #local b_i, residual, Covb           #only needed in REPL/script\n",
    "    (b_i,_,_,Covb,) = OlsGMFn(Re[:,i],x)\n",
    "    α[i]            = b_i[1]                      #estimated α\n",
    "    tstat[i]        = (b_i[1]-0)/sqrt(Covb[1,1])  #tstat of H₀: true α=0\n",
    "end\n",
    "\n",
    "printblue(\"OLS intercepts and t-stats:\")\n",
    "colNames = [string(\"asset \",i) for i=1:n]\n",
    "rowNames = [\"α\",\"t-stat\"]\n",
    "printTable([α';tstat'],colNames,rowNames)"
   ]
  },
  {
   "cell_type": "code",
   "execution_count": null,
   "metadata": {},
   "outputs": [],
   "source": []
  }
 ],
 "metadata": {
  "@webio": {
   "lastCommId": null,
   "lastKernelId": null
  },
  "anaconda-cloud": {},
  "kernelspec": {
   "display_name": "Julia 1.3.1",
   "language": "julia",
   "name": "julia-1.3"
  },
  "language_info": {
   "file_extension": ".jl",
   "mimetype": "application/julia",
   "name": "julia",
   "version": "1.3.1"
  }
 },
 "nbformat": 4,
 "nbformat_minor": 1
}
