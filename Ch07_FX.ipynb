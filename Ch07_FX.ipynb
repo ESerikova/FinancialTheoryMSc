{
 "cells": [
  {
   "cell_type": "markdown",
   "metadata": {},
   "source": [
    "# FX\n",
    "\n",
    "This notebook illustrates some basic aspects of FX markets."
   ]
  },
  {
   "cell_type": "markdown",
   "metadata": {},
   "source": [
    "## Load Routines for Printing Matrices"
   ]
  },
  {
   "cell_type": "code",
   "execution_count": 1,
   "metadata": {},
   "outputs": [
    {
     "data": {
      "text/plain": [
       "printTable2"
      ]
     },
     "execution_count": 1,
     "metadata": {},
     "output_type": "execute_result"
    }
   ],
   "source": [
    "using Dates           \n",
    "\n",
    "include(\"jlFiles/printmat.jl\")\n",
    "include(\"jlFiles/printTable.jl\")"
   ]
  },
  {
   "cell_type": "code",
   "execution_count": 2,
   "metadata": {},
   "outputs": [],
   "source": [
    "using Plots\n",
    "\n",
    "#pyplot(size=(600,400))\n",
    "gr(size=(480,320))\n",
    "default(fmt = :svg)"
   ]
  },
  {
   "cell_type": "markdown",
   "metadata": {},
   "source": [
    "# Exchange Rate Quotations: Cross-Rates"
   ]
  },
  {
   "cell_type": "code",
   "execution_count": 3,
   "metadata": {},
   "outputs": [
    {
     "name": "stdout",
     "output_type": "stream",
     "text": [
      "A cross rate: if CHF/USD=0.997 and USD/AUD 0.8139, then CHF/AUD ≈     0.811\n"
     ]
    }
   ],
   "source": [
    "CHF_USD = 0.9970                       #how many CHF to pay for 1 USD\n",
    "USD_AUD = 0.8139\n",
    "\n",
    "CHF_AUD = CHF_USD*USD_AUD\n",
    "\n",
    "printlnPs(\"A cross rate: if CHF/USD=$CHF_USD and USD/AUD $USD_AUD, then CHF/AUD ≈\",CHF_AUD)"
   ]
  },
  {
   "cell_type": "markdown",
   "metadata": {},
   "source": [
    "# Currency Returns\n",
    "\n",
    "The strategy is: in $t=0$, you borrow on the domestic money market (at the safe rate $R_f$), buy foreign currency (at the price $S_0$) and lend on foreign money market (at the safe rate $R_f^*$). Finally, in $t=1$ sell the foreign currency (at the price $S_1$). \n",
    "\n",
    "Since the strategy is financed by borrowing, we express the excess return as \n",
    "\n",
    "$\n",
    "R^e = (1+R_f^*)S_1/S_0 - 1 - R_f\n",
    "$\n",
    "\n",
    "Notice that Rf and Rfstar are the safe rates over the investment period (for instance, one-month period). Conversion from annualized interest rates to these monthly rates is discussed under UIP (below)."
   ]
  },
  {
   "cell_type": "code",
   "execution_count": 4,
   "metadata": {},
   "outputs": [
    {
     "name": "stdout",
     "output_type": "stream",
     "text": [
      "\u001b[34m\u001b[1mA simple example of how to calculate the excess return from investing in a foreign currency:\u001b[22m\u001b[39m\n",
      "                                \n",
      "S₀                         1.200\n",
      "Rf                         0.040\n",
      "Rfstar                     0.060\n",
      "S₁                         1.250\n",
      "Currency excess return     0.064\n",
      "\n"
     ]
    }
   ],
   "source": [
    "S₀ = 1.2            #current spot FX rate, t=0\n",
    "S₁ = 1.25           #spot FX rate in t=1\n",
    "Rfstar = 0.06      #safe rate (foreign) between period 0 and 1\n",
    "Rf     = 0.04      #safe domestic rate\n",
    "\n",
    "Re = (1+Rfstar)*S₁/S₀ - 1 - Rf\n",
    "\n",
    "printblue(\"A simple example of how to calculate the excess return from investing in a foreign currency:\")\n",
    "xx = [S₀,Rf,Rfstar,S₁,Re]\n",
    "printTable(xx,[\" \"],[\"S₀\";\"Rf\";\"Rfstar\";\"S₁\";\"Currency excess return\"])"
   ]
  },
  {
   "cell_type": "code",
   "execution_count": 5,
   "metadata": {},
   "outputs": [
    {
     "data": {
      "image/svg+xml": [
       "<?xml version=\"1.0\" encoding=\"utf-8\"?>\n",
       "<svg xmlns=\"http://www.w3.org/2000/svg\" xmlns:xlink=\"http://www.w3.org/1999/xlink\" width=\"480\" height=\"320\" viewBox=\"0 0 1920 1280\">\n",
       "<defs>\n",
       "  <clipPath id=\"clip3600\">\n",
       "    <rect x=\"0\" y=\"0\" width=\"1920\" height=\"1280\"/>\n",
       "  </clipPath>\n",
       "</defs>\n",
       "<polygon clip-path=\"url(#clip3600)\" points=\"\n",
       "0,1280 1920,1280 1920,0 0,0 \n",
       "  \" fill=\"#ffffff\" fill-rule=\"evenodd\" fill-opacity=\"1\"/>\n",
       "<defs>\n",
       "  <clipPath id=\"clip3601\">\n",
       "    <rect x=\"384\" y=\"0\" width=\"1345\" height=\"1280\"/>\n",
       "  </clipPath>\n",
       "</defs>\n",
       "<polygon clip-path=\"url(#clip3600)\" points=\"\n",
       "208.77,1105.62 1872.76,1105.62 1872.76,121.675 208.77,121.675 \n",
       "  \" fill=\"#ffffff\" fill-rule=\"evenodd\" fill-opacity=\"1\"/>\n",
       "<defs>\n",
       "  <clipPath id=\"clip3602\">\n",
       "    <rect x=\"208\" y=\"121\" width=\"1665\" height=\"985\"/>\n",
       "  </clipPath>\n",
       "</defs>\n",
       "<polyline clip-path=\"url(#clip3602)\" style=\"stroke:#000000; stroke-width:2; stroke-opacity:0.1; fill:none\" points=\"\n",
       "  255.864,1105.62 255.864,121.675 \n",
       "  \"/>\n",
       "<polyline clip-path=\"url(#clip3602)\" style=\"stroke:#000000; stroke-width:2; stroke-opacity:0.1; fill:none\" points=\"\n",
       "  648.314,1105.62 648.314,121.675 \n",
       "  \"/>\n",
       "<polyline clip-path=\"url(#clip3602)\" style=\"stroke:#000000; stroke-width:2; stroke-opacity:0.1; fill:none\" points=\"\n",
       "  1040.76,1105.62 1040.76,121.675 \n",
       "  \"/>\n",
       "<polyline clip-path=\"url(#clip3602)\" style=\"stroke:#000000; stroke-width:2; stroke-opacity:0.1; fill:none\" points=\"\n",
       "  1433.21,1105.62 1433.21,121.675 \n",
       "  \"/>\n",
       "<polyline clip-path=\"url(#clip3602)\" style=\"stroke:#000000; stroke-width:2; stroke-opacity:0.1; fill:none\" points=\"\n",
       "  1825.66,1105.62 1825.66,121.675 \n",
       "  \"/>\n",
       "<polyline clip-path=\"url(#clip3602)\" style=\"stroke:#000000; stroke-width:2; stroke-opacity:0.1; fill:none\" points=\"\n",
       "  208.77,981.443 1872.76,981.443 \n",
       "  \"/>\n",
       "<polyline clip-path=\"url(#clip3602)\" style=\"stroke:#000000; stroke-width:2; stroke-opacity:0.1; fill:none\" points=\"\n",
       "  208.77,718.732 1872.76,718.732 \n",
       "  \"/>\n",
       "<polyline clip-path=\"url(#clip3602)\" style=\"stroke:#000000; stroke-width:2; stroke-opacity:0.1; fill:none\" points=\"\n",
       "  208.77,456.02 1872.76,456.02 \n",
       "  \"/>\n",
       "<polyline clip-path=\"url(#clip3602)\" style=\"stroke:#000000; stroke-width:2; stroke-opacity:0.1; fill:none\" points=\"\n",
       "  208.77,193.308 1872.76,193.308 \n",
       "  \"/>\n",
       "<polyline clip-path=\"url(#clip3600)\" style=\"stroke:#000000; stroke-width:4; stroke-opacity:1; fill:none\" points=\"\n",
       "  208.77,1105.62 1872.76,1105.62 \n",
       "  \"/>\n",
       "<polyline clip-path=\"url(#clip3600)\" style=\"stroke:#000000; stroke-width:4; stroke-opacity:1; fill:none\" points=\"\n",
       "  208.77,1105.62 208.77,121.675 \n",
       "  \"/>\n",
       "<polyline clip-path=\"url(#clip3600)\" style=\"stroke:#000000; stroke-width:4; stroke-opacity:1; fill:none\" points=\"\n",
       "  255.864,1105.62 255.864,1090.86 \n",
       "  \"/>\n",
       "<polyline clip-path=\"url(#clip3600)\" style=\"stroke:#000000; stroke-width:4; stroke-opacity:1; fill:none\" points=\"\n",
       "  648.314,1105.62 648.314,1090.86 \n",
       "  \"/>\n",
       "<polyline clip-path=\"url(#clip3600)\" style=\"stroke:#000000; stroke-width:4; stroke-opacity:1; fill:none\" points=\"\n",
       "  1040.76,1105.62 1040.76,1090.86 \n",
       "  \"/>\n",
       "<polyline clip-path=\"url(#clip3600)\" style=\"stroke:#000000; stroke-width:4; stroke-opacity:1; fill:none\" points=\"\n",
       "  1433.21,1105.62 1433.21,1090.86 \n",
       "  \"/>\n",
       "<polyline clip-path=\"url(#clip3600)\" style=\"stroke:#000000; stroke-width:4; stroke-opacity:1; fill:none\" points=\"\n",
       "  1825.66,1105.62 1825.66,1090.86 \n",
       "  \"/>\n",
       "<polyline clip-path=\"url(#clip3600)\" style=\"stroke:#000000; stroke-width:4; stroke-opacity:1; fill:none\" points=\"\n",
       "  208.77,981.443 233.73,981.443 \n",
       "  \"/>\n",
       "<polyline clip-path=\"url(#clip3600)\" style=\"stroke:#000000; stroke-width:4; stroke-opacity:1; fill:none\" points=\"\n",
       "  208.77,718.732 233.73,718.732 \n",
       "  \"/>\n",
       "<polyline clip-path=\"url(#clip3600)\" style=\"stroke:#000000; stroke-width:4; stroke-opacity:1; fill:none\" points=\"\n",
       "  208.77,456.02 233.73,456.02 \n",
       "  \"/>\n",
       "<polyline clip-path=\"url(#clip3600)\" style=\"stroke:#000000; stroke-width:4; stroke-opacity:1; fill:none\" points=\"\n",
       "  208.77,193.308 233.73,193.308 \n",
       "  \"/>\n",
       "<g clip-path=\"url(#clip3600)\">\n",
       "<text style=\"fill:#000000; fill-opacity:1; font-family:Arial,Helvetica Neue,Helvetica,sans-serif; font-size:48px; text-anchor:middle;\" transform=\"rotate(0, 255.864, 1157.22)\" x=\"255.864\" y=\"1157.22\">1.10</text>\n",
       "</g>\n",
       "<g clip-path=\"url(#clip3600)\">\n",
       "<text style=\"fill:#000000; fill-opacity:1; font-family:Arial,Helvetica Neue,Helvetica,sans-serif; font-size:48px; text-anchor:middle;\" transform=\"rotate(0, 648.314, 1157.22)\" x=\"648.314\" y=\"1157.22\">1.15</text>\n",
       "</g>\n",
       "<g clip-path=\"url(#clip3600)\">\n",
       "<text style=\"fill:#000000; fill-opacity:1; font-family:Arial,Helvetica Neue,Helvetica,sans-serif; font-size:48px; text-anchor:middle;\" transform=\"rotate(0, 1040.76, 1157.22)\" x=\"1040.76\" y=\"1157.22\">1.20</text>\n",
       "</g>\n",
       "<g clip-path=\"url(#clip3600)\">\n",
       "<text style=\"fill:#000000; fill-opacity:1; font-family:Arial,Helvetica Neue,Helvetica,sans-serif; font-size:48px; text-anchor:middle;\" transform=\"rotate(0, 1433.21, 1157.22)\" x=\"1433.21\" y=\"1157.22\">1.25</text>\n",
       "</g>\n",
       "<g clip-path=\"url(#clip3600)\">\n",
       "<text style=\"fill:#000000; fill-opacity:1; font-family:Arial,Helvetica Neue,Helvetica,sans-serif; font-size:48px; text-anchor:middle;\" transform=\"rotate(0, 1825.66, 1157.22)\" x=\"1825.66\" y=\"1157.22\">1.30</text>\n",
       "</g>\n",
       "<g clip-path=\"url(#clip3600)\">\n",
       "<text style=\"fill:#000000; fill-opacity:1; font-family:Arial,Helvetica Neue,Helvetica,sans-serif; font-size:48px; text-anchor:end;\" transform=\"rotate(0, 189.57, 998.943)\" x=\"189.57\" y=\"998.943\">-0.05</text>\n",
       "</g>\n",
       "<g clip-path=\"url(#clip3600)\">\n",
       "<text style=\"fill:#000000; fill-opacity:1; font-family:Arial,Helvetica Neue,Helvetica,sans-serif; font-size:48px; text-anchor:end;\" transform=\"rotate(0, 189.57, 736.232)\" x=\"189.57\" y=\"736.232\">0.00</text>\n",
       "</g>\n",
       "<g clip-path=\"url(#clip3600)\">\n",
       "<text style=\"fill:#000000; fill-opacity:1; font-family:Arial,Helvetica Neue,Helvetica,sans-serif; font-size:48px; text-anchor:end;\" transform=\"rotate(0, 189.57, 473.52)\" x=\"189.57\" y=\"473.52\">0.05</text>\n",
       "</g>\n",
       "<g clip-path=\"url(#clip3600)\">\n",
       "<text style=\"fill:#000000; fill-opacity:1; font-family:Arial,Helvetica Neue,Helvetica,sans-serif; font-size:48px; text-anchor:end;\" transform=\"rotate(0, 189.57, 210.808)\" x=\"189.57\" y=\"210.808\">0.10</text>\n",
       "</g>\n",
       "<g clip-path=\"url(#clip3600)\">\n",
       "<text style=\"fill:#000000; fill-opacity:1; font-family:Arial,Helvetica Neue,Helvetica,sans-serif; font-size:84px; text-anchor:middle;\" transform=\"rotate(0, 1040.76, 73.2)\" x=\"1040.76\" y=\"73.2\">Currency excess return (in t=0, S = 1.2)</text>\n",
       "</g>\n",
       "<g clip-path=\"url(#clip3600)\">\n",
       "<text style=\"fill:#000000; fill-opacity:1; font-family:Arial,Helvetica Neue,Helvetica,sans-serif; font-size:66px; text-anchor:middle;\" transform=\"rotate(0, 1040.76, 1234.68)\" x=\"1040.76\" y=\"1234.68\">Exchange rate in t=1</text>\n",
       "</g>\n",
       "<polyline clip-path=\"url(#clip3602)\" style=\"stroke:#ff0000; stroke-width:4; stroke-opacity:1; fill:none\" points=\"\n",
       "  255.864,1077.77 334.354,1031.36 412.844,984.946 491.334,938.534 569.824,892.121 648.314,845.709 726.804,799.297 805.294,752.884 883.783,706.472 962.273,660.059 \n",
       "  1040.76,613.647 1119.25,567.234 1197.74,520.822 1276.23,474.41 1354.72,427.997 1433.21,381.585 1511.7,335.172 1590.19,288.76 1668.68,242.347 1747.17,195.935 \n",
       "  1825.66,149.523 \n",
       "  \"/>\n",
       "<polyline clip-path=\"url(#clip3602)\" style=\"stroke:#000000; stroke-width:4; stroke-opacity:1; fill:none\" stroke-dasharray=\"2, 4\" points=\"\n",
       "  1040.76,99500 1040.76,-98272.7 \n",
       "  \"/>\n",
       "<polyline clip-path=\"url(#clip3602)\" style=\"stroke:#000000; stroke-width:4; stroke-opacity:1; fill:none\" stroke-dasharray=\"16, 10\" points=\"\n",
       "  -166190,718.732 168271,718.732 \n",
       "  \"/>\n",
       "<g clip-path=\"url(#clip3600)\">\n",
       "<text style=\"fill:#000000; fill-opacity:1; font-family:Arial,Helvetica Neue,Helvetica,sans-serif; font-size:48px; text-anchor:start;\" transform=\"rotate(0, 255.864, 342.515)\" x=\"255.864\" y=\"342.515\">Foreign and domestic </text>\n",
       "</g>\n",
       "<g clip-path=\"url(#clip3600)\">\n",
       "<text style=\"fill:#000000; fill-opacity:1; font-family:Arial,Helvetica Neue,Helvetica,sans-serif; font-size:48px; text-anchor:start;\" transform=\"rotate(0, 255.864, 394.355)\" x=\"255.864\" y=\"394.355\">interest rates: 0.06 0.04</text>\n",
       "</g>\n",
       "</svg>\n"
      ]
     },
     "execution_count": 5,
     "metadata": {},
     "output_type": "execute_result"
    }
   ],
   "source": [
    "S₁ = 1.1:0.01:1.3           #vector, different possible exchange rates in t=1\n",
    "\n",
    "Re = (1+Rfstar)*S₁/S₀ .- (1 + Rf)\n",
    "\n",
    "plot( S₁,Re,\n",
    "      legend= nothing,\n",
    "      color = :red,\n",
    "      title = \"Currency excess return (in t=0, S = $S₀)\",\n",
    "      xlabel = \"Exchange rate in t=1\",\n",
    "      annotation = (1.1,0.07,text(\"Foreign and domestic \\ninterest rates: $Rfstar $Rf\",8,:left)) )\n",
    "\n",
    "vline!([S₀],linecolor=:black,line=(:dot,1))\n",
    "hline!([0],linecolor=:black,line=(:dash,1))"
   ]
  },
  {
   "cell_type": "markdown",
   "metadata": {},
   "source": [
    "# Uncovered Interest Rate Parity (UIP)\n",
    "\n",
    "\n",
    "UIP assumes that the expected future exchange rate ($\\text{E}_0S_m$) is related to the current (as of $t=0$) exchange rate and interest rates, in such a way that the expected excess return on a a foreign investment (on the foreign money market) is zero.\n",
    "\n",
    "Interest rates are typically annualized (denoted $y$ and $y^*$ below). This means that the safe rate over an investment period of $m$ years (eg. $m=1/12$ for a month) is $(1+y)^m$."
   ]
  },
  {
   "cell_type": "code",
   "execution_count": 6,
   "metadata": {},
   "outputs": [
    {
     "name": "stdout",
     "output_type": "stream",
     "text": [
      "\u001b[34m\u001b[1mExpected future exchange rate 0.5 years ahead according to UIP:\u001b[22m\u001b[39m\n",
      "                               \n",
      "S₀                        1.200\n",
      "y                         0.040\n",
      "ystar                     0.060\n",
      "m                         0.500\n",
      "UIP expectation of Sₘ     1.189\n",
      "\n"
     ]
    }
   ],
   "source": [
    "S₀     = 1.2                      #current spot FX rate\n",
    "y     = 0.04                      #annualized interest rates\n",
    "ystar = 0.06\n",
    "m     = 1/2                       #investment period  \n",
    "ESm   = S₀ * (1+y)^m/(1+ystar)^m  #implies E(excess return) = 0\n",
    "\n",
    "printblue(\"Expected future exchange rate $m years ahead according to UIP:\")\n",
    "xx = [S₀,y,ystar,m,ESm]\n",
    "printTable(xx,[\" \"],[\"S₀\";\"y\";\"ystar\";\"m\";\"UIP expectation of Sₘ\"])"
   ]
  },
  {
   "cell_type": "code",
   "execution_count": null,
   "metadata": {},
   "outputs": [],
   "source": []
  }
 ],
 "metadata": {
  "@webio": {
   "lastCommId": null,
   "lastKernelId": null
  },
  "anaconda-cloud": {},
  "kernelspec": {
   "display_name": "Julia 1.2.0",
   "language": "julia",
   "name": "julia-1.2"
  },
  "language_info": {
   "file_extension": ".jl",
   "mimetype": "application/julia",
   "name": "julia",
   "version": "1.2.0"
  }
 },
 "nbformat": 4,
 "nbformat_minor": 1
}
